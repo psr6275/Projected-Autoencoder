{
 "cells": [
  {
   "cell_type": "code",
   "execution_count": 1,
   "metadata": {},
   "outputs": [
    {
     "name": "stderr",
     "output_type": "stream",
     "text": [
      "/home/slcf/.pyenv/versions/3.6.2/lib/python3.6/importlib/_bootstrap.py:205: RuntimeWarning: compiletime version 3.5 of module 'tensorflow.python.framework.fast_tensor_util' does not match runtime version 3.6\n",
      "  return f(*args, **kwds)\n"
     ]
    }
   ],
   "source": [
    "import numpy as np\n",
    "import os,sys\n",
    "sys.path.append('..')\n",
    "from trainer import Trainer\n",
    "from config import get_config\n",
    "from utils import *\n",
    "import pickle\n",
    "import matplotlib.pyplot as plt\n",
    "\n",
    "#from re_main import main\n",
    "from trainer import *\n",
    "\n",
    "from pprint import pprint\n",
    "from models import *"
   ]
  },
  {
   "cell_type": "code",
   "execution_count": 2,
   "metadata": {
    "collapsed": true
   },
   "outputs": [],
   "source": [
    "mnist = tf.keras.datasets.mnist\n",
    "(x_train,y_train),(x_test,y_test) = mnist.load_data()"
   ]
  },
  {
   "cell_type": "code",
   "execution_count": 3,
   "metadata": {},
   "outputs": [
    {
     "name": "stdout",
     "output_type": "stream",
     "text": [
      "(60000, 28, 28)\n",
      "Tensor(\"Const:0\", shape=(60000, 28, 28), dtype=uint8)\n"
     ]
    }
   ],
   "source": [
    "print(x_train.shape)\n",
    "X = tf.constant(x_train)\n",
    "y = tf.constant(y_train)\n",
    "print(X)"
   ]
  },
  {
   "cell_type": "code",
   "execution_count": 4,
   "metadata": {},
   "outputs": [],
   "source": [
    "image_batch, label_batch = tf.train.shuffle_batch(\n",
    "[X,y],\n",
    "batch_size = 32,\n",
    "num_threads = 4,\n",
    "capacity = 50000,\n",
    "min_after_dequeue = 10000)"
   ]
  },
  {
   "cell_type": "code",
   "execution_count": 5,
   "metadata": {},
   "outputs": [
    {
     "name": "stdout",
     "output_type": "stream",
     "text": [
      "Tensor(\"shuffle_batch:0\", shape=(32, 60000, 28, 28), dtype=uint8)\n"
     ]
    }
   ],
   "source": [
    "print(image_batch)"
   ]
  },
  {
   "cell_type": "code",
   "execution_count": 6,
   "metadata": {
    "collapsed": true
   },
   "outputs": [],
   "source": [
    "sess = tf.Session()\n"
   ]
  },
  {
   "cell_type": "code",
   "execution_count": 7,
   "metadata": {},
   "outputs": [
    {
     "data": {
      "text/plain": [
       "[<Thread(QueueRunnerThread-shuffle_batch/random_shuffle_queue-shuffle_batch/random_shuffle_queue_enqueue, started daemon 140504788350720)>,\n",
       " <Thread(QueueRunnerThread-shuffle_batch/random_shuffle_queue-shuffle_batch/random_shuffle_queue_enqueue, started daemon 140504779958016)>,\n",
       " <Thread(QueueRunnerThread-shuffle_batch/random_shuffle_queue-shuffle_batch/random_shuffle_queue_enqueue, started daemon 140504771565312)>,\n",
       " <Thread(QueueRunnerThread-shuffle_batch/random_shuffle_queue-shuffle_batch/random_shuffle_queue_enqueue, started daemon 140504305055488)>]"
      ]
     },
     "execution_count": 7,
     "metadata": {},
     "output_type": "execute_result"
    }
   ],
   "source": [
    "tf.train.start_queue_runners(sess)"
   ]
  },
  {
   "cell_type": "code",
   "execution_count": 9,
   "metadata": {},
   "outputs": [
    {
     "name": "stdout",
     "output_type": "stream",
     "text": [
      "[[[[0 0 0 ..., 0 0 0]\n",
      "   [0 0 0 ..., 0 0 0]\n",
      "   [0 0 0 ..., 0 0 0]\n",
      "   ..., \n",
      "   [0 0 0 ..., 0 0 0]\n",
      "   [0 0 0 ..., 0 0 0]\n",
      "   [0 0 0 ..., 0 0 0]]\n",
      "\n",
      "  [[0 0 0 ..., 0 0 0]\n",
      "   [0 0 0 ..., 0 0 0]\n",
      "   [0 0 0 ..., 0 0 0]\n",
      "   ..., \n",
      "   [0 0 0 ..., 0 0 0]\n",
      "   [0 0 0 ..., 0 0 0]\n",
      "   [0 0 0 ..., 0 0 0]]\n",
      "\n",
      "  [[0 0 0 ..., 0 0 0]\n",
      "   [0 0 0 ..., 0 0 0]\n",
      "   [0 0 0 ..., 0 0 0]\n",
      "   ..., \n",
      "   [0 0 0 ..., 0 0 0]\n",
      "   [0 0 0 ..., 0 0 0]\n",
      "   [0 0 0 ..., 0 0 0]]\n",
      "\n",
      "  ..., \n",
      "  [[0 0 0 ..., 0 0 0]\n",
      "   [0 0 0 ..., 0 0 0]\n",
      "   [0 0 0 ..., 0 0 0]\n",
      "   ..., \n",
      "   [0 0 0 ..., 0 0 0]\n",
      "   [0 0 0 ..., 0 0 0]\n",
      "   [0 0 0 ..., 0 0 0]]\n",
      "\n",
      "  [[0 0 0 ..., 0 0 0]\n",
      "   [0 0 0 ..., 0 0 0]\n",
      "   [0 0 0 ..., 0 0 0]\n",
      "   ..., \n",
      "   [0 0 0 ..., 0 0 0]\n",
      "   [0 0 0 ..., 0 0 0]\n",
      "   [0 0 0 ..., 0 0 0]]\n",
      "\n",
      "  [[0 0 0 ..., 0 0 0]\n",
      "   [0 0 0 ..., 0 0 0]\n",
      "   [0 0 0 ..., 0 0 0]\n",
      "   ..., \n",
      "   [0 0 0 ..., 0 0 0]\n",
      "   [0 0 0 ..., 0 0 0]\n",
      "   [0 0 0 ..., 0 0 0]]]\n",
      "\n",
      "\n",
      " [[[0 0 0 ..., 0 0 0]\n",
      "   [0 0 0 ..., 0 0 0]\n",
      "   [0 0 0 ..., 0 0 0]\n",
      "   ..., \n",
      "   [0 0 0 ..., 0 0 0]\n",
      "   [0 0 0 ..., 0 0 0]\n",
      "   [0 0 0 ..., 0 0 0]]\n",
      "\n",
      "  [[0 0 0 ..., 0 0 0]\n",
      "   [0 0 0 ..., 0 0 0]\n",
      "   [0 0 0 ..., 0 0 0]\n",
      "   ..., \n",
      "   [0 0 0 ..., 0 0 0]\n",
      "   [0 0 0 ..., 0 0 0]\n",
      "   [0 0 0 ..., 0 0 0]]\n",
      "\n",
      "  [[0 0 0 ..., 0 0 0]\n",
      "   [0 0 0 ..., 0 0 0]\n",
      "   [0 0 0 ..., 0 0 0]\n",
      "   ..., \n",
      "   [0 0 0 ..., 0 0 0]\n",
      "   [0 0 0 ..., 0 0 0]\n",
      "   [0 0 0 ..., 0 0 0]]\n",
      "\n",
      "  ..., \n",
      "  [[0 0 0 ..., 0 0 0]\n",
      "   [0 0 0 ..., 0 0 0]\n",
      "   [0 0 0 ..., 0 0 0]\n",
      "   ..., \n",
      "   [0 0 0 ..., 0 0 0]\n",
      "   [0 0 0 ..., 0 0 0]\n",
      "   [0 0 0 ..., 0 0 0]]\n",
      "\n",
      "  [[0 0 0 ..., 0 0 0]\n",
      "   [0 0 0 ..., 0 0 0]\n",
      "   [0 0 0 ..., 0 0 0]\n",
      "   ..., \n",
      "   [0 0 0 ..., 0 0 0]\n",
      "   [0 0 0 ..., 0 0 0]\n",
      "   [0 0 0 ..., 0 0 0]]\n",
      "\n",
      "  [[0 0 0 ..., 0 0 0]\n",
      "   [0 0 0 ..., 0 0 0]\n",
      "   [0 0 0 ..., 0 0 0]\n",
      "   ..., \n",
      "   [0 0 0 ..., 0 0 0]\n",
      "   [0 0 0 ..., 0 0 0]\n",
      "   [0 0 0 ..., 0 0 0]]]\n",
      "\n",
      "\n",
      " [[[0 0 0 ..., 0 0 0]\n",
      "   [0 0 0 ..., 0 0 0]\n",
      "   [0 0 0 ..., 0 0 0]\n",
      "   ..., \n",
      "   [0 0 0 ..., 0 0 0]\n",
      "   [0 0 0 ..., 0 0 0]\n",
      "   [0 0 0 ..., 0 0 0]]\n",
      "\n",
      "  [[0 0 0 ..., 0 0 0]\n",
      "   [0 0 0 ..., 0 0 0]\n",
      "   [0 0 0 ..., 0 0 0]\n",
      "   ..., \n",
      "   [0 0 0 ..., 0 0 0]\n",
      "   [0 0 0 ..., 0 0 0]\n",
      "   [0 0 0 ..., 0 0 0]]\n",
      "\n",
      "  [[0 0 0 ..., 0 0 0]\n",
      "   [0 0 0 ..., 0 0 0]\n",
      "   [0 0 0 ..., 0 0 0]\n",
      "   ..., \n",
      "   [0 0 0 ..., 0 0 0]\n",
      "   [0 0 0 ..., 0 0 0]\n",
      "   [0 0 0 ..., 0 0 0]]\n",
      "\n",
      "  ..., \n",
      "  [[0 0 0 ..., 0 0 0]\n",
      "   [0 0 0 ..., 0 0 0]\n",
      "   [0 0 0 ..., 0 0 0]\n",
      "   ..., \n",
      "   [0 0 0 ..., 0 0 0]\n",
      "   [0 0 0 ..., 0 0 0]\n",
      "   [0 0 0 ..., 0 0 0]]\n",
      "\n",
      "  [[0 0 0 ..., 0 0 0]\n",
      "   [0 0 0 ..., 0 0 0]\n",
      "   [0 0 0 ..., 0 0 0]\n",
      "   ..., \n",
      "   [0 0 0 ..., 0 0 0]\n",
      "   [0 0 0 ..., 0 0 0]\n",
      "   [0 0 0 ..., 0 0 0]]\n",
      "\n",
      "  [[0 0 0 ..., 0 0 0]\n",
      "   [0 0 0 ..., 0 0 0]\n",
      "   [0 0 0 ..., 0 0 0]\n",
      "   ..., \n",
      "   [0 0 0 ..., 0 0 0]\n",
      "   [0 0 0 ..., 0 0 0]\n",
      "   [0 0 0 ..., 0 0 0]]]\n",
      "\n",
      "\n",
      " ..., \n",
      " [[[0 0 0 ..., 0 0 0]\n",
      "   [0 0 0 ..., 0 0 0]\n",
      "   [0 0 0 ..., 0 0 0]\n",
      "   ..., \n",
      "   [0 0 0 ..., 0 0 0]\n",
      "   [0 0 0 ..., 0 0 0]\n",
      "   [0 0 0 ..., 0 0 0]]\n",
      "\n",
      "  [[0 0 0 ..., 0 0 0]\n",
      "   [0 0 0 ..., 0 0 0]\n",
      "   [0 0 0 ..., 0 0 0]\n",
      "   ..., \n",
      "   [0 0 0 ..., 0 0 0]\n",
      "   [0 0 0 ..., 0 0 0]\n",
      "   [0 0 0 ..., 0 0 0]]\n",
      "\n",
      "  [[0 0 0 ..., 0 0 0]\n",
      "   [0 0 0 ..., 0 0 0]\n",
      "   [0 0 0 ..., 0 0 0]\n",
      "   ..., \n",
      "   [0 0 0 ..., 0 0 0]\n",
      "   [0 0 0 ..., 0 0 0]\n",
      "   [0 0 0 ..., 0 0 0]]\n",
      "\n",
      "  ..., \n",
      "  [[0 0 0 ..., 0 0 0]\n",
      "   [0 0 0 ..., 0 0 0]\n",
      "   [0 0 0 ..., 0 0 0]\n",
      "   ..., \n",
      "   [0 0 0 ..., 0 0 0]\n",
      "   [0 0 0 ..., 0 0 0]\n",
      "   [0 0 0 ..., 0 0 0]]\n",
      "\n",
      "  [[0 0 0 ..., 0 0 0]\n",
      "   [0 0 0 ..., 0 0 0]\n",
      "   [0 0 0 ..., 0 0 0]\n",
      "   ..., \n",
      "   [0 0 0 ..., 0 0 0]\n",
      "   [0 0 0 ..., 0 0 0]\n",
      "   [0 0 0 ..., 0 0 0]]\n",
      "\n",
      "  [[0 0 0 ..., 0 0 0]\n",
      "   [0 0 0 ..., 0 0 0]\n",
      "   [0 0 0 ..., 0 0 0]\n",
      "   ..., \n",
      "   [0 0 0 ..., 0 0 0]\n",
      "   [0 0 0 ..., 0 0 0]\n",
      "   [0 0 0 ..., 0 0 0]]]\n",
      "\n",
      "\n",
      " [[[0 0 0 ..., 0 0 0]\n",
      "   [0 0 0 ..., 0 0 0]\n",
      "   [0 0 0 ..., 0 0 0]\n",
      "   ..., \n",
      "   [0 0 0 ..., 0 0 0]\n",
      "   [0 0 0 ..., 0 0 0]\n",
      "   [0 0 0 ..., 0 0 0]]\n",
      "\n",
      "  [[0 0 0 ..., 0 0 0]\n",
      "   [0 0 0 ..., 0 0 0]\n",
      "   [0 0 0 ..., 0 0 0]\n",
      "   ..., \n",
      "   [0 0 0 ..., 0 0 0]\n",
      "   [0 0 0 ..., 0 0 0]\n",
      "   [0 0 0 ..., 0 0 0]]\n",
      "\n",
      "  [[0 0 0 ..., 0 0 0]\n",
      "   [0 0 0 ..., 0 0 0]\n",
      "   [0 0 0 ..., 0 0 0]\n",
      "   ..., \n",
      "   [0 0 0 ..., 0 0 0]\n",
      "   [0 0 0 ..., 0 0 0]\n",
      "   [0 0 0 ..., 0 0 0]]\n",
      "\n",
      "  ..., \n",
      "  [[0 0 0 ..., 0 0 0]\n",
      "   [0 0 0 ..., 0 0 0]\n",
      "   [0 0 0 ..., 0 0 0]\n",
      "   ..., \n",
      "   [0 0 0 ..., 0 0 0]\n",
      "   [0 0 0 ..., 0 0 0]\n",
      "   [0 0 0 ..., 0 0 0]]\n",
      "\n",
      "  [[0 0 0 ..., 0 0 0]\n",
      "   [0 0 0 ..., 0 0 0]\n",
      "   [0 0 0 ..., 0 0 0]\n",
      "   ..., \n",
      "   [0 0 0 ..., 0 0 0]\n",
      "   [0 0 0 ..., 0 0 0]\n",
      "   [0 0 0 ..., 0 0 0]]\n",
      "\n",
      "  [[0 0 0 ..., 0 0 0]\n",
      "   [0 0 0 ..., 0 0 0]\n",
      "   [0 0 0 ..., 0 0 0]\n",
      "   ..., \n",
      "   [0 0 0 ..., 0 0 0]\n",
      "   [0 0 0 ..., 0 0 0]\n",
      "   [0 0 0 ..., 0 0 0]]]\n",
      "\n",
      "\n",
      " [[[0 0 0 ..., 0 0 0]\n",
      "   [0 0 0 ..., 0 0 0]\n",
      "   [0 0 0 ..., 0 0 0]\n",
      "   ..., \n",
      "   [0 0 0 ..., 0 0 0]\n",
      "   [0 0 0 ..., 0 0 0]\n",
      "   [0 0 0 ..., 0 0 0]]\n",
      "\n",
      "  [[0 0 0 ..., 0 0 0]\n",
      "   [0 0 0 ..., 0 0 0]\n",
      "   [0 0 0 ..., 0 0 0]\n",
      "   ..., \n",
      "   [0 0 0 ..., 0 0 0]\n",
      "   [0 0 0 ..., 0 0 0]\n",
      "   [0 0 0 ..., 0 0 0]]\n",
      "\n",
      "  [[0 0 0 ..., 0 0 0]\n",
      "   [0 0 0 ..., 0 0 0]\n",
      "   [0 0 0 ..., 0 0 0]\n",
      "   ..., \n",
      "   [0 0 0 ..., 0 0 0]\n",
      "   [0 0 0 ..., 0 0 0]\n",
      "   [0 0 0 ..., 0 0 0]]\n",
      "\n",
      "  ..., \n",
      "  [[0 0 0 ..., 0 0 0]\n",
      "   [0 0 0 ..., 0 0 0]\n",
      "   [0 0 0 ..., 0 0 0]\n",
      "   ..., \n",
      "   [0 0 0 ..., 0 0 0]\n",
      "   [0 0 0 ..., 0 0 0]\n",
      "   [0 0 0 ..., 0 0 0]]\n",
      "\n",
      "  [[0 0 0 ..., 0 0 0]\n",
      "   [0 0 0 ..., 0 0 0]\n",
      "   [0 0 0 ..., 0 0 0]\n",
      "   ..., \n",
      "   [0 0 0 ..., 0 0 0]\n",
      "   [0 0 0 ..., 0 0 0]\n",
      "   [0 0 0 ..., 0 0 0]]\n",
      "\n",
      "  [[0 0 0 ..., 0 0 0]\n",
      "   [0 0 0 ..., 0 0 0]\n",
      "   [0 0 0 ..., 0 0 0]\n",
      "   ..., \n",
      "   [0 0 0 ..., 0 0 0]\n",
      "   [0 0 0 ..., 0 0 0]\n",
      "   [0 0 0 ..., 0 0 0]]]]\n"
     ]
    }
   ],
   "source": [
    "print(sess.run(image_batch))"
   ]
  },
  {
   "cell_type": "code",
   "execution_count": 3,
   "metadata": {
    "collapsed": true
   },
   "outputs": [],
   "source": [
    "data_loader = batch_generator(x_train,128,\"gray\")"
   ]
  },
  {
   "cell_type": "code",
   "execution_count": 4,
   "metadata": {
    "collapsed": true
   },
   "outputs": [],
   "source": [
    "x = data_loader\n",
    "x = norm_img(x,\"gray\")\n",
    "crrX = corrupt(x,\"gaussian\",0.3)\n",
    "temp_num =x.get_shape().as_list()"
   ]
  },
  {
   "cell_type": "code",
   "execution_count": 5,
   "metadata": {
    "collapsed": true
   },
   "outputs": [],
   "source": [
    "x = tf.reshape(x,[-1,784])\n",
    "rx,z,AE_var = AE_dense(crrX,[784,1024,1024]) # 내부적으로 flatten()"
   ]
  },
  {
   "cell_type": "code",
   "execution_count": 6,
   "metadata": {
    "collapsed": true
   },
   "outputs": [],
   "source": [
    "cost = -tf.reduce_mean(x*tf.log(rx+1e-10)+(1-x)*tf.log(1-rx+1e-10))\n",
    "optimizer = tf.train.AdamOptimizer(0.001).minimize(cost)"
   ]
  },
  {
   "cell_type": "code",
   "execution_count": 7,
   "metadata": {},
   "outputs": [
    {
     "data": {
      "text/plain": [
       "[<Thread(QueueRunnerThread-training_data/random_shuffle_queue-training_data/random_shuffle_queue_EnqueueMany, started daemon 140349255182080)>,\n",
       " <Thread(QueueRunnerThread-training_data/random_shuffle_queue-training_data/random_shuffle_queue_EnqueueMany, started daemon 140349246789376)>,\n",
       " <Thread(QueueRunnerThread-training_data/random_shuffle_queue-training_data/random_shuffle_queue_EnqueueMany, started daemon 140349238396672)>,\n",
       " <Thread(QueueRunnerThread-training_data/random_shuffle_queue-training_data/random_shuffle_queue_EnqueueMany, started daemon 140349230003968)>]"
      ]
     },
     "execution_count": 7,
     "metadata": {},
     "output_type": "execute_result"
    }
   ],
   "source": [
    "from tqdm import trange\n",
    "steps = tf.Variable(0,name = 'step', trainable = False)\n",
    "sess = tf.Session()\n",
    "tf.train.start_queue_runners(sess)"
   ]
  },
  {
   "cell_type": "code",
   "execution_count": 8,
   "metadata": {
    "collapsed": true
   },
   "outputs": [],
   "source": [
    "lr = tf.Variable(0.001,name='lr')\n",
    "summary_op = tf.summary.merge([tf.summary.scalar(\"loss\",cost),tf.summary.scalar(\"lr\",lr)])"
   ]
  },
  {
   "cell_type": "code",
   "execution_count": 9,
   "metadata": {
    "collapsed": true
   },
   "outputs": [],
   "source": [
    "sess.run(tf.global_variables_initializer())"
   ]
  },
  {
   "cell_type": "code",
   "execution_count": 10,
   "metadata": {},
   "outputs": [
    {
     "name": "stdout",
     "output_type": "stream",
     "text": [
      "0.001\n"
     ]
    }
   ],
   "source": [
    "print(sess.run(lr))"
   ]
  },
  {
   "cell_type": "code",
   "execution_count": 11,
   "metadata": {},
   "outputs": [
    {
     "name": "stdout",
     "output_type": "stream",
     "text": [
      "[[[ 0.  0.  0. ...,  0.  0.  0.]\n",
      "  [ 0.  0.  0. ...,  0.  0.  0.]\n",
      "  [ 0.  0.  0. ...,  0.  0.  0.]\n",
      "  ..., \n",
      "  [ 0.  0.  0. ...,  0.  0.  0.]\n",
      "  [ 0.  0.  0. ...,  0.  0.  0.]\n",
      "  [ 0.  0.  0. ...,  0.  0.  0.]]\n",
      "\n",
      " [[ 0.  0.  0. ...,  0.  0.  0.]\n",
      "  [ 0.  0.  0. ...,  0.  0.  0.]\n",
      "  [ 0.  0.  0. ...,  0.  0.  0.]\n",
      "  ..., \n",
      "  [ 0.  0.  0. ...,  0.  0.  0.]\n",
      "  [ 0.  0.  0. ...,  0.  0.  0.]\n",
      "  [ 0.  0.  0. ...,  0.  0.  0.]]\n",
      "\n",
      " [[ 0.  0.  0. ...,  0.  0.  0.]\n",
      "  [ 0.  0.  0. ...,  0.  0.  0.]\n",
      "  [ 0.  0.  0. ...,  0.  0.  0.]\n",
      "  ..., \n",
      "  [ 0.  0.  0. ...,  0.  0.  0.]\n",
      "  [ 0.  0.  0. ...,  0.  0.  0.]\n",
      "  [ 0.  0.  0. ...,  0.  0.  0.]]\n",
      "\n",
      " ..., \n",
      " [[ 0.  0.  0. ...,  0.  0.  0.]\n",
      "  [ 0.  0.  0. ...,  0.  0.  0.]\n",
      "  [ 0.  0.  0. ...,  0.  0.  0.]\n",
      "  ..., \n",
      "  [ 0.  0.  0. ...,  0.  0.  0.]\n",
      "  [ 0.  0.  0. ...,  0.  0.  0.]\n",
      "  [ 0.  0.  0. ...,  0.  0.  0.]]\n",
      "\n",
      " [[ 0.  0.  0. ...,  0.  0.  0.]\n",
      "  [ 0.  0.  0. ...,  0.  0.  0.]\n",
      "  [ 0.  0.  0. ...,  0.  0.  0.]\n",
      "  ..., \n",
      "  [ 0.  0.  0. ...,  0.  0.  0.]\n",
      "  [ 0.  0.  0. ...,  0.  0.  0.]\n",
      "  [ 0.  0.  0. ...,  0.  0.  0.]]\n",
      "\n",
      " [[ 0.  0.  0. ...,  0.  0.  0.]\n",
      "  [ 0.  0.  0. ...,  0.  0.  0.]\n",
      "  [ 0.  0.  0. ...,  0.  0.  0.]\n",
      "  ..., \n",
      "  [ 0.  0.  0. ...,  0.  0.  0.]\n",
      "  [ 0.  0.  0. ...,  0.  0.  0.]\n",
      "  [ 0.  0.  0. ...,  0.  0.  0.]]]\n"
     ]
    }
   ],
   "source": [
    "print(sess.run(data_loader))"
   ]
  },
  {
   "cell_type": "code",
   "execution_count": 12,
   "metadata": {},
   "outputs": [
    {
     "name": "stderr",
     "output_type": "stream",
     "text": [
      "  0%|          | 40/10000 [00:00<03:24, 48.65it/s] "
     ]
    },
    {
     "name": "stdout",
     "output_type": "stream",
     "text": [
      "[0/100] Loss: 0.821374\n",
      "[10/100] Loss: 0.822247\n",
      "[20/100] Loss: 0.820266\n",
      "[30/100] Loss: 0.819577\n",
      "[40/100] Loss: 0.819825\n",
      "[50/100] Loss: 0.820159\n",
      "[60/100] Loss: 0.821600\n",
      "[70/100] Loss: 0.819915\n",
      "[80/100] Loss: 0.820238\n"
     ]
    },
    {
     "name": "stderr",
     "output_type": "stream",
     "text": [
      "  2%|▏         | 184/10000 [00:01<01:00, 163.18it/s]"
     ]
    },
    {
     "name": "stdout",
     "output_type": "stream",
     "text": [
      "[90/100] Loss: 0.819169\n",
      "[100/100] Loss: 0.819593\n",
      "[110/100] Loss: 0.819779\n",
      "[120/100] Loss: 0.822228\n",
      "[130/100] Loss: 0.819899\n",
      "[140/100] Loss: 0.821140\n",
      "[150/100] Loss: 0.819743\n",
      "[160/100] Loss: 0.820188\n",
      "[170/100] Loss: 0.821046\n",
      "[180/100] Loss: 0.819538\n"
     ]
    },
    {
     "name": "stderr",
     "output_type": "stream",
     "text": [
      "  3%|▎         | 287/10000 [00:01<00:44, 215.87it/s]"
     ]
    },
    {
     "name": "stdout",
     "output_type": "stream",
     "text": [
      "[190/100] Loss: 0.822992\n",
      "[200/100] Loss: 0.819888\n",
      "[210/100] Loss: 0.820877\n",
      "[220/100] Loss: 0.820010\n",
      "[230/100] Loss: 0.819524\n",
      "[240/100] Loss: 0.819286\n",
      "[250/100] Loss: 0.817817\n",
      "[260/100] Loss: 0.822344\n",
      "[270/100] Loss: 0.819679\n",
      "[280/100] Loss: 0.820226\n",
      "[290/100] Loss: 0.821097\n"
     ]
    },
    {
     "name": "stderr",
     "output_type": "stream",
     "text": [
      "  4%|▍         | 389/10000 [00:01<00:37, 254.02it/s]"
     ]
    },
    {
     "name": "stdout",
     "output_type": "stream",
     "text": [
      "[300/100] Loss: 0.819646\n",
      "[310/100] Loss: 0.822050\n",
      "[320/100] Loss: 0.820941\n",
      "[330/100] Loss: 0.820822\n",
      "[340/100] Loss: 0.818892\n",
      "[350/100] Loss: 0.819103\n",
      "[360/100] Loss: 0.819752\n",
      "[370/100] Loss: 0.819072\n",
      "[380/100] Loss: 0.820448\n",
      "[390/100] Loss: 0.821461\n",
      "[400/100] Loss: 0.819307\n"
     ]
    },
    {
     "name": "stderr",
     "output_type": "stream",
     "text": [
      "  5%|▍         | 491/10000 [00:01<00:33, 283.31it/s]"
     ]
    },
    {
     "name": "stdout",
     "output_type": "stream",
     "text": [
      "[410/100] Loss: 0.821433\n",
      "[420/100] Loss: 0.821047\n",
      "[430/100] Loss: 0.820037\n",
      "[440/100] Loss: 0.820670\n",
      "[450/100] Loss: 0.822106\n",
      "[460/100] Loss: 0.819589\n",
      "[470/100] Loss: 0.819865\n",
      "[480/100] Loss: 0.819384\n",
      "[490/100] Loss: 0.822411\n",
      "[500/100] Loss: 0.819668\n",
      "[510/100] Loss: 0.819743\n"
     ]
    },
    {
     "name": "stderr",
     "output_type": "stream",
     "text": [
      "  6%|▌         | 595/10000 [00:01<00:30, 307.44it/s]"
     ]
    },
    {
     "name": "stdout",
     "output_type": "stream",
     "text": [
      "[520/100] Loss: 0.819515\n",
      "[530/100] Loss: 0.820234\n",
      "[540/100] Loss: 0.821580\n",
      "[550/100] Loss: 0.819665\n",
      "[560/100] Loss: 0.819522\n",
      "[570/100] Loss: 0.820819\n",
      "[580/100] Loss: 0.819306\n",
      "[590/100] Loss: 0.820294\n",
      "[600/100] Loss: 0.820791\n",
      "[610/100] Loss: 0.820171\n",
      "[620/100] Loss: 0.818793\n"
     ]
    },
    {
     "name": "stderr",
     "output_type": "stream",
     "text": [
      "  7%|▋         | 698/10000 [00:02<00:28, 326.62it/s]"
     ]
    },
    {
     "name": "stdout",
     "output_type": "stream",
     "text": [
      "[630/100] Loss: 0.819254\n",
      "[640/100] Loss: 0.820470\n",
      "[650/100] Loss: 0.818188\n",
      "[660/100] Loss: 0.821770\n",
      "[670/100] Loss: 0.821330\n",
      "[680/100] Loss: 0.819591\n",
      "[690/100] Loss: 0.820143\n",
      "[700/100] Loss: 0.818917\n",
      "[710/100] Loss: 0.818440\n",
      "[720/100] Loss: 0.820404\n",
      "[730/100] Loss: 0.820674\n"
     ]
    },
    {
     "name": "stderr",
     "output_type": "stream",
     "text": [
      "  8%|▊         | 801/10000 [00:02<00:26, 342.57it/s]"
     ]
    },
    {
     "name": "stdout",
     "output_type": "stream",
     "text": [
      "[740/100] Loss: 0.822155\n",
      "[750/100] Loss: 0.818817\n",
      "[760/100] Loss: 0.821669\n",
      "[770/100] Loss: 0.819129\n",
      "[780/100] Loss: 0.820050\n",
      "[790/100] Loss: 0.821496\n",
      "[800/100] Loss: 0.819958\n",
      "[810/100] Loss: 0.819854\n",
      "[820/100] Loss: 0.819006\n",
      "[830/100] Loss: 0.819438\n",
      "[840/100] Loss: 0.820830\n"
     ]
    },
    {
     "name": "stderr",
     "output_type": "stream",
     "text": [
      "  9%|▉         | 906/10000 [00:02<00:25, 356.33it/s]"
     ]
    },
    {
     "name": "stdout",
     "output_type": "stream",
     "text": [
      "[850/100] Loss: 0.818018\n",
      "[860/100] Loss: 0.821854\n",
      "[870/100] Loss: 0.819750\n",
      "[880/100] Loss: 0.821477\n",
      "[890/100] Loss: 0.818766\n",
      "[900/100] Loss: 0.820981\n",
      "[910/100] Loss: 0.820911\n",
      "[920/100] Loss: 0.817927\n",
      "[930/100] Loss: 0.818350\n",
      "[940/100] Loss: 0.818083\n",
      "[950/100] Loss: 0.820606\n"
     ]
    },
    {
     "name": "stderr",
     "output_type": "stream",
     "text": [
      " 11%|█         | 1063/10000 [00:02<00:23, 373.57it/s]"
     ]
    },
    {
     "name": "stdout",
     "output_type": "stream",
     "text": [
      "[960/100] Loss: 0.820488\n",
      "[970/100] Loss: 0.820173\n",
      "[980/100] Loss: 0.819754\n",
      "[990/100] Loss: 0.820931\n",
      "[1000/100] Loss: 0.820711\n",
      "[1010/100] Loss: 0.820725\n",
      "[1020/100] Loss: 0.819404\n",
      "[1030/100] Loss: 0.822260\n",
      "[1040/100] Loss: 0.818370\n",
      "[1050/100] Loss: 0.818517\n",
      "[1060/100] Loss: 0.820968\n"
     ]
    },
    {
     "name": "stderr",
     "output_type": "stream",
     "text": [
      " 12%|█▏        | 1168/10000 [00:03<00:23, 383.23it/s]"
     ]
    },
    {
     "name": "stdout",
     "output_type": "stream",
     "text": [
      "[1070/100] Loss: 0.820103\n",
      "[1080/100] Loss: 0.819855\n",
      "[1090/100] Loss: 0.820541\n",
      "[1100/100] Loss: 0.819593\n",
      "[1110/100] Loss: 0.822223\n",
      "[1120/100] Loss: 0.820967\n",
      "[1130/100] Loss: 0.820923\n",
      "[1140/100] Loss: 0.819430\n",
      "[1150/100] Loss: 0.820304\n",
      "[1160/100] Loss: 0.819987\n",
      "[1170/100] Loss: 0.819129\n"
     ]
    },
    {
     "name": "stderr",
     "output_type": "stream",
     "text": [
      " 13%|█▎        | 1272/10000 [00:03<00:22, 391.37it/s]"
     ]
    },
    {
     "name": "stdout",
     "output_type": "stream",
     "text": [
      "[1180/100] Loss: 0.820291\n",
      "[1190/100] Loss: 0.820837\n",
      "[1200/100] Loss: 0.821629\n",
      "[1210/100] Loss: 0.820070\n",
      "[1220/100] Loss: 0.820328\n",
      "[1230/100] Loss: 0.818575\n",
      "[1240/100] Loss: 0.819487\n",
      "[1250/100] Loss: 0.821873\n",
      "[1260/100] Loss: 0.820924\n",
      "[1270/100] Loss: 0.821891\n",
      "[1280/100] Loss: 0.821869\n"
     ]
    },
    {
     "name": "stderr",
     "output_type": "stream",
     "text": [
      " 14%|█▍        | 1376/10000 [00:03<00:21, 398.47it/s]"
     ]
    },
    {
     "name": "stdout",
     "output_type": "stream",
     "text": [
      "[1290/100] Loss: 0.819067\n",
      "[1300/100] Loss: 0.818741\n",
      "[1310/100] Loss: 0.821817\n",
      "[1320/100] Loss: 0.820810\n",
      "[1330/100] Loss: 0.820362\n",
      "[1340/100] Loss: 0.818983\n",
      "[1350/100] Loss: 0.820074\n",
      "[1360/100] Loss: 0.821055\n",
      "[1370/100] Loss: 0.818703\n",
      "[1380/100] Loss: 0.819774\n",
      "[1390/100] Loss: 0.819999\n"
     ]
    },
    {
     "name": "stderr",
     "output_type": "stream",
     "text": [
      " 15%|█▍        | 1480/10000 [00:03<00:21, 404.82it/s]"
     ]
    },
    {
     "name": "stdout",
     "output_type": "stream",
     "text": [
      "[1400/100] Loss: 0.820517\n",
      "[1410/100] Loss: 0.819062\n",
      "[1420/100] Loss: 0.820742\n",
      "[1430/100] Loss: 0.819663\n",
      "[1440/100] Loss: 0.821754\n",
      "[1450/100] Loss: 0.819811\n",
      "[1460/100] Loss: 0.820358\n",
      "[1470/100] Loss: 0.820864\n",
      "[1480/100] Loss: 0.822212\n",
      "[1490/100] Loss: 0.820031\n",
      "[1500/100] Loss: 0.821510\n"
     ]
    },
    {
     "name": "stderr",
     "output_type": "stream",
     "text": [
      " 16%|█▌        | 1584/10000 [00:03<00:20, 410.66it/s]"
     ]
    },
    {
     "name": "stdout",
     "output_type": "stream",
     "text": [
      "[1510/100] Loss: 0.821191\n",
      "[1520/100] Loss: 0.819259\n",
      "[1530/100] Loss: 0.820566\n",
      "[1540/100] Loss: 0.820193\n",
      "[1550/100] Loss: 0.820665\n",
      "[1560/100] Loss: 0.821956\n",
      "[1570/100] Loss: 0.818236\n",
      "[1580/100] Loss: 0.819090\n",
      "[1590/100] Loss: 0.821013\n",
      "[1600/100] Loss: 0.818617\n",
      "[1610/100] Loss: 0.821601\n"
     ]
    },
    {
     "name": "stderr",
     "output_type": "stream",
     "text": [
      " 17%|█▋        | 1688/10000 [00:04<00:19, 415.72it/s]"
     ]
    },
    {
     "name": "stdout",
     "output_type": "stream",
     "text": [
      "[1620/100] Loss: 0.819770\n",
      "[1630/100] Loss: 0.819398\n",
      "[1640/100] Loss: 0.819059\n",
      "[1650/100] Loss: 0.820102\n",
      "[1660/100] Loss: 0.822418\n",
      "[1670/100] Loss: 0.820835\n",
      "[1680/100] Loss: 0.821245\n",
      "[1690/100] Loss: 0.819459\n",
      "[1700/100] Loss: 0.820714\n",
      "[1710/100] Loss: 0.819809\n",
      "[1720/100] Loss: 0.820367\n"
     ]
    },
    {
     "name": "stderr",
     "output_type": "stream",
     "text": [
      " 18%|█▊        | 1791/10000 [00:04<00:19, 419.81it/s]"
     ]
    },
    {
     "name": "stdout",
     "output_type": "stream",
     "text": [
      "[1730/100] Loss: 0.819929\n",
      "[1740/100] Loss: 0.819248\n",
      "[1750/100] Loss: 0.820342\n",
      "[1760/100] Loss: 0.818791\n",
      "[1770/100] Loss: 0.820411\n",
      "[1780/100] Loss: 0.819619\n",
      "[1790/100] Loss: 0.820184\n",
      "[1800/100] Loss: 0.821200\n",
      "[1810/100] Loss: 0.818534\n",
      "[1820/100] Loss: 0.820131\n"
     ]
    },
    {
     "name": "stderr",
     "output_type": "stream",
     "text": [
      " 19%|█▉        | 1893/10000 [00:04<00:19, 423.15it/s]"
     ]
    },
    {
     "name": "stdout",
     "output_type": "stream",
     "text": [
      "[1830/100] Loss: 0.821814\n",
      "[1840/100] Loss: 0.820126\n",
      "[1850/100] Loss: 0.820354\n",
      "[1860/100] Loss: 0.819524\n",
      "[1870/100] Loss: 0.818719\n",
      "[1880/100] Loss: 0.820261\n",
      "[1890/100] Loss: 0.819063\n",
      "[1900/100] Loss: 0.820145\n",
      "[1910/100] Loss: 0.819652\n",
      "[1920/100] Loss: 0.819279\n"
     ]
    },
    {
     "name": "stderr",
     "output_type": "stream",
     "text": [
      " 20%|█▉        | 1997/10000 [00:04<00:18, 427.08it/s]"
     ]
    },
    {
     "name": "stdout",
     "output_type": "stream",
     "text": [
      "[1930/100] Loss: 0.818834\n",
      "[1940/100] Loss: 0.819210\n",
      "[1950/100] Loss: 0.818548\n",
      "[1960/100] Loss: 0.818636\n",
      "[1970/100] Loss: 0.821560\n",
      "[1980/100] Loss: 0.820985\n",
      "[1990/100] Loss: 0.821243\n",
      "[2000/100] Loss: 0.822236\n",
      "[2010/100] Loss: 0.822359\n",
      "[2020/100] Loss: 0.821021\n",
      "[2030/100] Loss: 0.820710\n"
     ]
    },
    {
     "name": "stderr",
     "output_type": "stream",
     "text": [
      " 21%|██        | 2102/10000 [00:04<00:18, 430.86it/s]"
     ]
    },
    {
     "name": "stdout",
     "output_type": "stream",
     "text": [
      "[2040/100] Loss: 0.820035\n",
      "[2050/100] Loss: 0.821089\n",
      "[2060/100] Loss: 0.819802\n",
      "[2070/100] Loss: 0.820761\n",
      "[2080/100] Loss: 0.819140\n",
      "[2090/100] Loss: 0.818465\n",
      "[2100/100] Loss: 0.819334\n",
      "[2110/100] Loss: 0.820078\n",
      "[2120/100] Loss: 0.821443\n",
      "[2130/100] Loss: 0.820615\n",
      "[2140/100] Loss: 0.820715\n"
     ]
    },
    {
     "name": "stderr",
     "output_type": "stream",
     "text": [
      " 22%|██▏       | 2206/10000 [00:05<00:17, 434.19it/s]"
     ]
    },
    {
     "name": "stdout",
     "output_type": "stream",
     "text": [
      "[2150/100] Loss: 0.817765\n",
      "[2160/100] Loss: 0.819036\n",
      "[2170/100] Loss: 0.819069\n",
      "[2180/100] Loss: 0.821124\n",
      "[2190/100] Loss: 0.819518\n",
      "[2200/100] Loss: 0.821320\n",
      "[2210/100] Loss: 0.820437\n",
      "[2220/100] Loss: 0.819368\n",
      "[2230/100] Loss: 0.821278\n",
      "[2240/100] Loss: 0.818812\n",
      "[2250/100] Loss: 0.821618\n"
     ]
    },
    {
     "name": "stderr",
     "output_type": "stream",
     "text": [
      " 23%|██▎       | 2310/10000 [00:05<00:17, 436.95it/s]"
     ]
    },
    {
     "name": "stdout",
     "output_type": "stream",
     "text": [
      "[2260/100] Loss: 0.818393\n",
      "[2270/100] Loss: 0.821044\n",
      "[2280/100] Loss: 0.819659\n",
      "[2290/100] Loss: 0.819049\n",
      "[2300/100] Loss: 0.820011\n",
      "[2310/100] Loss: 0.820399\n",
      "[2320/100] Loss: 0.820474\n",
      "[2330/100] Loss: 0.819731\n",
      "[2340/100] Loss: 0.821686\n",
      "[2350/100] Loss: 0.819147\n"
     ]
    },
    {
     "name": "stderr",
     "output_type": "stream",
     "text": [
      " 24%|██▍       | 2412/10000 [00:05<00:17, 438.97it/s]"
     ]
    },
    {
     "name": "stdout",
     "output_type": "stream",
     "text": [
      "[2360/100] Loss: 0.820396\n",
      "[2370/100] Loss: 0.821161\n",
      "[2380/100] Loss: 0.819978\n",
      "[2390/100] Loss: 0.822095\n",
      "[2400/100] Loss: 0.820062\n",
      "[2410/100] Loss: 0.822302\n",
      "[2420/100] Loss: 0.818662\n",
      "[2430/100] Loss: 0.821065\n",
      "[2440/100] Loss: 0.821020\n",
      "[2450/100] Loss: 0.820610\n"
     ]
    },
    {
     "name": "stderr",
     "output_type": "stream",
     "text": [
      " 25%|██▌       | 2512/10000 [00:05<00:16, 440.79it/s]"
     ]
    },
    {
     "name": "stdout",
     "output_type": "stream",
     "text": [
      "[2460/100] Loss: 0.820434\n",
      "[2470/100] Loss: 0.820995\n",
      "[2480/100] Loss: 0.819667\n",
      "[2490/100] Loss: 0.820881\n",
      "[2500/100] Loss: 0.821551\n",
      "[2510/100] Loss: 0.821378\n",
      "[2520/100] Loss: 0.819499\n",
      "[2530/100] Loss: 0.819949\n",
      "[2540/100] Loss: 0.820813\n",
      "[2550/100] Loss: 0.818356\n"
     ]
    },
    {
     "name": "stderr",
     "output_type": "stream",
     "text": [
      " 26%|██▌       | 2612/10000 [00:05<00:16, 442.63it/s]"
     ]
    },
    {
     "name": "stdout",
     "output_type": "stream",
     "text": [
      "[2560/100] Loss: 0.819482\n",
      "[2570/100] Loss: 0.819197\n",
      "[2580/100] Loss: 0.821076\n",
      "[2590/100] Loss: 0.820261\n",
      "[2600/100] Loss: 0.819063\n",
      "[2610/100] Loss: 0.818902\n",
      "[2620/100] Loss: 0.819091\n",
      "[2630/100] Loss: 0.820944\n",
      "[2640/100] Loss: 0.820476\n",
      "[2650/100] Loss: 0.821239\n"
     ]
    },
    {
     "name": "stderr",
     "output_type": "stream",
     "text": [
      " 27%|██▋       | 2712/10000 [00:06<00:16, 444.26it/s]"
     ]
    },
    {
     "name": "stdout",
     "output_type": "stream",
     "text": [
      "[2660/100] Loss: 0.822366\n",
      "[2670/100] Loss: 0.820524\n",
      "[2680/100] Loss: 0.818038\n",
      "[2690/100] Loss: 0.819255\n",
      "[2700/100] Loss: 0.821968\n",
      "[2710/100] Loss: 0.820333\n",
      "[2720/100] Loss: 0.820603\n",
      "[2730/100] Loss: 0.819073\n",
      "[2740/100] Loss: 0.820314\n",
      "[2750/100] Loss: 0.821451\n"
     ]
    },
    {
     "name": "stderr",
     "output_type": "stream",
     "text": [
      " 28%|██▊       | 2812/10000 [00:06<00:16, 445.84it/s]"
     ]
    },
    {
     "name": "stdout",
     "output_type": "stream",
     "text": [
      "[2760/100] Loss: 0.821560\n",
      "[2770/100] Loss: 0.819260\n",
      "[2780/100] Loss: 0.817860\n",
      "[2790/100] Loss: 0.820322\n",
      "[2800/100] Loss: 0.820081\n",
      "[2810/100] Loss: 0.820094\n",
      "[2820/100] Loss: 0.819679\n",
      "[2830/100] Loss: 0.819620\n",
      "[2840/100] Loss: 0.820496\n",
      "[2850/100] Loss: 0.819154\n"
     ]
    },
    {
     "name": "stderr",
     "output_type": "stream",
     "text": [
      " 29%|██▉       | 2912/10000 [00:06<00:15, 447.21it/s]"
     ]
    },
    {
     "name": "stdout",
     "output_type": "stream",
     "text": [
      "[2860/100] Loss: 0.821495\n",
      "[2870/100] Loss: 0.820634\n",
      "[2880/100] Loss: 0.821272\n",
      "[2890/100] Loss: 0.820778\n",
      "[2900/100] Loss: 0.821610\n",
      "[2910/100] Loss: 0.819420\n",
      "[2920/100] Loss: 0.820929\n",
      "[2930/100] Loss: 0.819521\n",
      "[2940/100] Loss: 0.820826\n",
      "[2950/100] Loss: 0.820423\n"
     ]
    },
    {
     "name": "stderr",
     "output_type": "stream",
     "text": [
      " 30%|███       | 3012/10000 [00:06<00:15, 448.56it/s]"
     ]
    },
    {
     "name": "stdout",
     "output_type": "stream",
     "text": [
      "[2960/100] Loss: 0.821755\n",
      "[2970/100] Loss: 0.820348\n",
      "[2980/100] Loss: 0.821480\n",
      "[2990/100] Loss: 0.822901\n",
      "[3000/100] Loss: 0.820541\n",
      "[3010/100] Loss: 0.821095\n",
      "[3020/100] Loss: 0.820514\n",
      "[3030/100] Loss: 0.821334\n",
      "[3040/100] Loss: 0.820095\n",
      "[3050/100] Loss: 0.818797\n"
     ]
    },
    {
     "name": "stderr",
     "output_type": "stream",
     "text": [
      " 31%|███       | 3112/10000 [00:06<00:15, 449.74it/s]"
     ]
    },
    {
     "name": "stdout",
     "output_type": "stream",
     "text": [
      "[3060/100] Loss: 0.819614\n",
      "[3070/100] Loss: 0.820582\n",
      "[3080/100] Loss: 0.819208\n",
      "[3090/100] Loss: 0.820563\n",
      "[3100/100] Loss: 0.821314\n",
      "[3110/100] Loss: 0.818516\n",
      "[3120/100] Loss: 0.819878\n",
      "[3130/100] Loss: 0.819485\n",
      "[3140/100] Loss: 0.819978\n",
      "[3150/100] Loss: 0.818553\n"
     ]
    },
    {
     "name": "stderr",
     "output_type": "stream",
     "text": [
      " 32%|███▏      | 3211/10000 [00:07<00:15, 450.74it/s]"
     ]
    },
    {
     "name": "stdout",
     "output_type": "stream",
     "text": [
      "[3160/100] Loss: 0.818250\n",
      "[3170/100] Loss: 0.819979\n",
      "[3180/100] Loss: 0.821027\n",
      "[3190/100] Loss: 0.819369\n",
      "[3200/100] Loss: 0.821165\n",
      "[3210/100] Loss: 0.821218\n",
      "[3220/100] Loss: 0.820089\n",
      "[3230/100] Loss: 0.821464\n",
      "[3240/100] Loss: 0.820123\n",
      "[3250/100] Loss: 0.820948\n"
     ]
    },
    {
     "name": "stderr",
     "output_type": "stream",
     "text": [
      " 33%|███▎      | 3311/10000 [00:07<00:14, 451.93it/s]"
     ]
    },
    {
     "name": "stdout",
     "output_type": "stream",
     "text": [
      "[3260/100] Loss: 0.821004\n",
      "[3270/100] Loss: 0.819986\n",
      "[3280/100] Loss: 0.818592\n",
      "[3290/100] Loss: 0.820427\n",
      "[3300/100] Loss: 0.819436\n",
      "[3310/100] Loss: 0.821410\n",
      "[3320/100] Loss: 0.819390\n",
      "[3330/100] Loss: 0.821450\n",
      "[3340/100] Loss: 0.820574\n",
      "[3350/100] Loss: 0.819167\n"
     ]
    },
    {
     "name": "stderr",
     "output_type": "stream",
     "text": [
      " 34%|███▍      | 3411/10000 [00:07<00:14, 453.13it/s]"
     ]
    },
    {
     "name": "stdout",
     "output_type": "stream",
     "text": [
      "[3360/100] Loss: 0.819032\n",
      "[3370/100] Loss: 0.820731\n",
      "[3380/100] Loss: 0.820621\n",
      "[3390/100] Loss: 0.818222\n",
      "[3400/100] Loss: 0.820874\n",
      "[3410/100] Loss: 0.819695\n",
      "[3420/100] Loss: 0.819436\n",
      "[3430/100] Loss: 0.819802\n",
      "[3440/100] Loss: 0.818537\n",
      "[3450/100] Loss: 0.819310\n"
     ]
    },
    {
     "name": "stderr",
     "output_type": "stream",
     "text": [
      " 35%|███▌      | 3511/10000 [00:07<00:14, 454.12it/s]"
     ]
    },
    {
     "name": "stdout",
     "output_type": "stream",
     "text": [
      "[3460/100] Loss: 0.819185\n",
      "[3470/100] Loss: 0.819216\n",
      "[3480/100] Loss: 0.819871\n",
      "[3490/100] Loss: 0.820683\n",
      "[3500/100] Loss: 0.819735\n",
      "[3510/100] Loss: 0.820555\n",
      "[3520/100] Loss: 0.819249\n",
      "[3530/100] Loss: 0.819313\n",
      "[3540/100] Loss: 0.818163\n",
      "[3550/100] Loss: 0.820526\n"
     ]
    },
    {
     "name": "stderr",
     "output_type": "stream",
     "text": [
      " 36%|███▌      | 3611/10000 [00:07<00:14, 454.98it/s]"
     ]
    },
    {
     "name": "stdout",
     "output_type": "stream",
     "text": [
      "[3560/100] Loss: 0.820578\n",
      "[3570/100] Loss: 0.818559\n",
      "[3580/100] Loss: 0.819416\n",
      "[3590/100] Loss: 0.821358\n",
      "[3600/100] Loss: 0.819640\n",
      "[3610/100] Loss: 0.819813\n",
      "[3620/100] Loss: 0.817848\n",
      "[3630/100] Loss: 0.819862\n",
      "[3640/100] Loss: 0.819990\n",
      "[3650/100] Loss: 0.820102\n"
     ]
    },
    {
     "name": "stderr",
     "output_type": "stream",
     "text": [
      " 37%|███▋      | 3711/10000 [00:08<00:13, 456.06it/s]"
     ]
    },
    {
     "name": "stdout",
     "output_type": "stream",
     "text": [
      "[3660/100] Loss: 0.819176\n",
      "[3670/100] Loss: 0.820783\n",
      "[3680/100] Loss: 0.820293\n",
      "[3690/100] Loss: 0.819399\n",
      "[3700/100] Loss: 0.822155\n",
      "[3710/100] Loss: 0.820284\n",
      "[3720/100] Loss: 0.821206\n",
      "[3730/100] Loss: 0.818601\n",
      "[3740/100] Loss: 0.820690\n",
      "[3750/100] Loss: 0.819346\n"
     ]
    },
    {
     "name": "stderr",
     "output_type": "stream",
     "text": [
      " 38%|███▊      | 3811/10000 [00:08<00:13, 456.93it/s]"
     ]
    },
    {
     "name": "stdout",
     "output_type": "stream",
     "text": [
      "[3760/100] Loss: 0.821364\n",
      "[3770/100] Loss: 0.820448\n",
      "[3780/100] Loss: 0.820171\n",
      "[3790/100] Loss: 0.822661\n",
      "[3800/100] Loss: 0.820259\n",
      "[3810/100] Loss: 0.819865\n",
      "[3820/100] Loss: 0.819226\n",
      "[3830/100] Loss: 0.821127\n",
      "[3840/100] Loss: 0.819701\n",
      "[3850/100] Loss: 0.820049\n"
     ]
    },
    {
     "name": "stderr",
     "output_type": "stream",
     "text": [
      " 39%|███▉      | 3912/10000 [00:08<00:13, 457.93it/s]"
     ]
    },
    {
     "name": "stdout",
     "output_type": "stream",
     "text": [
      "[3860/100] Loss: 0.819568\n",
      "[3870/100] Loss: 0.819935\n",
      "[3880/100] Loss: 0.817609\n",
      "[3890/100] Loss: 0.819483\n",
      "[3900/100] Loss: 0.818877\n",
      "[3910/100] Loss: 0.820399\n",
      "[3920/100] Loss: 0.821518\n",
      "[3930/100] Loss: 0.821626\n",
      "[3940/100] Loss: 0.821814\n",
      "[3950/100] Loss: 0.821235\n",
      "[3960/100] Loss: 0.820157\n"
     ]
    },
    {
     "name": "stderr",
     "output_type": "stream",
     "text": [
      " 41%|████      | 4065/10000 [00:08<00:12, 459.49it/s]"
     ]
    },
    {
     "name": "stdout",
     "output_type": "stream",
     "text": [
      "[3970/100] Loss: 0.818289\n",
      "[3980/100] Loss: 0.820715\n",
      "[3990/100] Loss: 0.819769\n",
      "[4000/100] Loss: 0.819933\n",
      "[4010/100] Loss: 0.820898\n",
      "[4020/100] Loss: 0.820384\n",
      "[4030/100] Loss: 0.820982\n",
      "[4040/100] Loss: 0.821456\n",
      "[4050/100] Loss: 0.820917\n",
      "[4060/100] Loss: 0.822324\n",
      "[4070/100] Loss: 0.819854\n"
     ]
    },
    {
     "name": "stderr",
     "output_type": "stream",
     "text": [
      " 42%|████▏     | 4167/10000 [00:09<00:12, 460.46it/s]"
     ]
    },
    {
     "name": "stdout",
     "output_type": "stream",
     "text": [
      "[4080/100] Loss: 0.819582\n",
      "[4090/100] Loss: 0.820478\n",
      "[4100/100] Loss: 0.820021\n",
      "[4110/100] Loss: 0.820951\n",
      "[4120/100] Loss: 0.820753\n",
      "[4130/100] Loss: 0.819316\n",
      "[4140/100] Loss: 0.821658\n",
      "[4150/100] Loss: 0.821486\n",
      "[4160/100] Loss: 0.819231\n",
      "[4170/100] Loss: 0.819566\n",
      "[4180/100] Loss: 0.819716\n"
     ]
    },
    {
     "name": "stderr",
     "output_type": "stream",
     "text": [
      " 43%|████▎     | 4269/10000 [00:09<00:12, 461.42it/s]"
     ]
    },
    {
     "name": "stdout",
     "output_type": "stream",
     "text": [
      "[4190/100] Loss: 0.820830\n",
      "[4200/100] Loss: 0.819701\n",
      "[4210/100] Loss: 0.819437\n",
      "[4220/100] Loss: 0.821982\n",
      "[4230/100] Loss: 0.818860\n",
      "[4240/100] Loss: 0.819891\n",
      "[4250/100] Loss: 0.820653\n",
      "[4260/100] Loss: 0.820931\n",
      "[4270/100] Loss: 0.819315\n",
      "[4280/100] Loss: 0.820376\n",
      "[4290/100] Loss: 0.819584\n"
     ]
    },
    {
     "name": "stderr",
     "output_type": "stream",
     "text": [
      " 44%|████▎     | 4372/10000 [00:09<00:12, 462.51it/s]"
     ]
    },
    {
     "name": "stdout",
     "output_type": "stream",
     "text": [
      "[4300/100] Loss: 0.822473\n",
      "[4310/100] Loss: 0.820617\n",
      "[4320/100] Loss: 0.819460\n",
      "[4330/100] Loss: 0.817557\n",
      "[4340/100] Loss: 0.820901\n",
      "[4350/100] Loss: 0.820067\n",
      "[4360/100] Loss: 0.821104\n",
      "[4370/100] Loss: 0.820725\n",
      "[4380/100] Loss: 0.819014\n",
      "[4390/100] Loss: 0.821710\n",
      "[4400/100] Loss: 0.821252\n"
     ]
    },
    {
     "name": "stderr",
     "output_type": "stream",
     "text": [
      " 45%|████▍     | 4475/10000 [00:09<00:11, 463.39it/s]"
     ]
    },
    {
     "name": "stdout",
     "output_type": "stream",
     "text": [
      "[4410/100] Loss: 0.819025\n",
      "[4420/100] Loss: 0.820849\n",
      "[4430/100] Loss: 0.820105\n",
      "[4440/100] Loss: 0.819544\n",
      "[4450/100] Loss: 0.819595\n",
      "[4460/100] Loss: 0.820633\n",
      "[4470/100] Loss: 0.820104\n",
      "[4480/100] Loss: 0.819974\n",
      "[4490/100] Loss: 0.819505\n",
      "[4500/100] Loss: 0.820989\n",
      "[4510/100] Loss: 0.818126\n"
     ]
    },
    {
     "name": "stderr",
     "output_type": "stream",
     "text": [
      " 46%|████▌     | 4578/10000 [00:09<00:11, 464.40it/s]"
     ]
    },
    {
     "name": "stdout",
     "output_type": "stream",
     "text": [
      "[4520/100] Loss: 0.821042\n",
      "[4530/100] Loss: 0.820792\n",
      "[4540/100] Loss: 0.822197\n",
      "[4550/100] Loss: 0.820787\n",
      "[4560/100] Loss: 0.819064\n",
      "[4570/100] Loss: 0.819462\n",
      "[4580/100] Loss: 0.820831\n",
      "[4590/100] Loss: 0.821048\n",
      "[4600/100] Loss: 0.819690\n",
      "[4610/100] Loss: 0.819320\n",
      "[4620/100] Loss: 0.820179\n"
     ]
    },
    {
     "name": "stderr",
     "output_type": "stream",
     "text": [
      " 47%|████▋     | 4682/10000 [00:10<00:11, 465.35it/s]"
     ]
    },
    {
     "name": "stdout",
     "output_type": "stream",
     "text": [
      "[4630/100] Loss: 0.820436\n",
      "[4640/100] Loss: 0.819766\n",
      "[4650/100] Loss: 0.820306\n",
      "[4660/100] Loss: 0.818462\n",
      "[4670/100] Loss: 0.820514\n",
      "[4680/100] Loss: 0.818684\n",
      "[4690/100] Loss: 0.822509\n",
      "[4700/100] Loss: 0.820188\n",
      "[4710/100] Loss: 0.819660\n",
      "[4720/100] Loss: 0.820563\n",
      "[4730/100] Loss: 0.820170\n"
     ]
    },
    {
     "name": "stderr",
     "output_type": "stream",
     "text": [
      " 48%|████▊     | 4840/10000 [00:10<00:11, 466.96it/s]"
     ]
    },
    {
     "name": "stdout",
     "output_type": "stream",
     "text": [
      "[4740/100] Loss: 0.820502\n",
      "[4750/100] Loss: 0.819855\n",
      "[4760/100] Loss: 0.818848\n",
      "[4770/100] Loss: 0.820516\n",
      "[4780/100] Loss: 0.820627\n",
      "[4790/100] Loss: 0.818665\n",
      "[4800/100] Loss: 0.821057\n",
      "[4810/100] Loss: 0.819954\n",
      "[4820/100] Loss: 0.821904\n",
      "[4830/100] Loss: 0.821416\n",
      "[4840/100] Loss: 0.819857\n"
     ]
    },
    {
     "name": "stderr",
     "output_type": "stream",
     "text": [
      " 49%|████▉     | 4944/10000 [00:10<00:10, 467.80it/s]"
     ]
    },
    {
     "name": "stdout",
     "output_type": "stream",
     "text": [
      "[4850/100] Loss: 0.820724\n",
      "[4860/100] Loss: 0.819634\n",
      "[4870/100] Loss: 0.819838\n",
      "[4880/100] Loss: 0.820793\n",
      "[4890/100] Loss: 0.819727\n",
      "[4900/100] Loss: 0.820666\n",
      "[4910/100] Loss: 0.819928\n",
      "[4920/100] Loss: 0.821212\n",
      "[4930/100] Loss: 0.821229\n",
      "[4940/100] Loss: 0.822060\n",
      "[4950/100] Loss: 0.820472\n"
     ]
    },
    {
     "name": "stderr",
     "output_type": "stream",
     "text": [
      " 50%|█████     | 5048/10000 [00:10<00:10, 468.58it/s]"
     ]
    },
    {
     "name": "stdout",
     "output_type": "stream",
     "text": [
      "[4960/100] Loss: 0.820581\n",
      "[4970/100] Loss: 0.820721\n",
      "[4980/100] Loss: 0.820345\n",
      "[4990/100] Loss: 0.819478\n",
      "[5000/100] Loss: 0.819505\n",
      "[5010/100] Loss: 0.821428\n",
      "[5020/100] Loss: 0.820227\n",
      "[5030/100] Loss: 0.820274\n",
      "[5040/100] Loss: 0.820154\n",
      "[5050/100] Loss: 0.821149\n",
      "[5060/100] Loss: 0.819466\n"
     ]
    },
    {
     "name": "stderr",
     "output_type": "stream",
     "text": [
      " 52%|█████▏    | 5152/10000 [00:10<00:10, 469.39it/s]"
     ]
    },
    {
     "name": "stdout",
     "output_type": "stream",
     "text": [
      "[5070/100] Loss: 0.821261\n",
      "[5080/100] Loss: 0.819744\n",
      "[5090/100] Loss: 0.821192\n",
      "[5100/100] Loss: 0.818814\n",
      "[5110/100] Loss: 0.820316\n",
      "[5120/100] Loss: 0.819670\n",
      "[5130/100] Loss: 0.820782\n",
      "[5140/100] Loss: 0.818522\n",
      "[5150/100] Loss: 0.819568\n",
      "[5160/100] Loss: 0.821841\n",
      "[5170/100] Loss: 0.821398\n"
     ]
    },
    {
     "name": "stderr",
     "output_type": "stream",
     "text": [
      " 53%|█████▎    | 5255/10000 [00:11<00:10, 470.05it/s]"
     ]
    },
    {
     "name": "stdout",
     "output_type": "stream",
     "text": [
      "[5180/100] Loss: 0.820476\n",
      "[5190/100] Loss: 0.821337\n",
      "[5200/100] Loss: 0.822783\n",
      "[5210/100] Loss: 0.819256\n",
      "[5220/100] Loss: 0.818506\n",
      "[5230/100] Loss: 0.820472\n",
      "[5240/100] Loss: 0.820243\n",
      "[5250/100] Loss: 0.820320\n",
      "[5260/100] Loss: 0.819168\n",
      "[5270/100] Loss: 0.820921\n",
      "[5280/100] Loss: 0.820203\n"
     ]
    },
    {
     "name": "stderr",
     "output_type": "stream",
     "text": [
      " 54%|█████▎    | 5359/10000 [00:11<00:09, 470.79it/s]"
     ]
    },
    {
     "name": "stdout",
     "output_type": "stream",
     "text": [
      "[5290/100] Loss: 0.821162\n",
      "[5300/100] Loss: 0.818666\n",
      "[5310/100] Loss: 0.820315\n",
      "[5320/100] Loss: 0.818568\n",
      "[5330/100] Loss: 0.820310\n",
      "[5340/100] Loss: 0.819049\n",
      "[5350/100] Loss: 0.820477\n",
      "[5360/100] Loss: 0.820112\n",
      "[5370/100] Loss: 0.822678\n",
      "[5380/100] Loss: 0.820003\n",
      "[5390/100] Loss: 0.821843\n"
     ]
    },
    {
     "name": "stderr",
     "output_type": "stream",
     "text": [
      " 55%|█████▍    | 5463/10000 [00:11<00:09, 471.46it/s]"
     ]
    },
    {
     "name": "stdout",
     "output_type": "stream",
     "text": [
      "[5400/100] Loss: 0.821069\n",
      "[5410/100] Loss: 0.819598\n",
      "[5420/100] Loss: 0.819714\n",
      "[5430/100] Loss: 0.820572\n",
      "[5440/100] Loss: 0.819756\n",
      "[5450/100] Loss: 0.820150\n",
      "[5460/100] Loss: 0.820374\n",
      "[5470/100] Loss: 0.820942\n",
      "[5480/100] Loss: 0.820530\n",
      "[5490/100] Loss: 0.820304\n",
      "[5500/100] Loss: 0.821102\n"
     ]
    },
    {
     "name": "stderr",
     "output_type": "stream",
     "text": [
      " 56%|█████▌    | 5567/10000 [00:11<00:09, 472.17it/s]"
     ]
    },
    {
     "name": "stdout",
     "output_type": "stream",
     "text": [
      "[5510/100] Loss: 0.820598\n",
      "[5520/100] Loss: 0.821574\n",
      "[5530/100] Loss: 0.819600\n",
      "[5540/100] Loss: 0.819666\n",
      "[5550/100] Loss: 0.818418\n",
      "[5560/100] Loss: 0.818955\n",
      "[5570/100] Loss: 0.820956\n",
      "[5580/100] Loss: 0.820612\n",
      "[5590/100] Loss: 0.819207\n",
      "[5600/100] Loss: 0.821810\n",
      "[5610/100] Loss: 0.819884\n"
     ]
    },
    {
     "name": "stderr",
     "output_type": "stream",
     "text": [
      " 57%|█████▋    | 5723/10000 [00:12<00:09, 473.23it/s]"
     ]
    },
    {
     "name": "stdout",
     "output_type": "stream",
     "text": [
      "[5620/100] Loss: 0.821112\n",
      "[5630/100] Loss: 0.821591\n",
      "[5640/100] Loss: 0.820403\n",
      "[5650/100] Loss: 0.821923\n",
      "[5660/100] Loss: 0.820086\n",
      "[5670/100] Loss: 0.821364\n",
      "[5680/100] Loss: 0.819061\n",
      "[5690/100] Loss: 0.820140\n",
      "[5700/100] Loss: 0.820887\n",
      "[5710/100] Loss: 0.819432\n",
      "[5720/100] Loss: 0.819780\n"
     ]
    },
    {
     "name": "stderr",
     "output_type": "stream",
     "text": [
      " 58%|█████▊    | 5827/10000 [00:12<00:08, 473.89it/s]"
     ]
    },
    {
     "name": "stdout",
     "output_type": "stream",
     "text": [
      "[5730/100] Loss: 0.819249\n",
      "[5740/100] Loss: 0.818165\n",
      "[5750/100] Loss: 0.820142\n",
      "[5760/100] Loss: 0.820363\n",
      "[5770/100] Loss: 0.820889\n",
      "[5780/100] Loss: 0.819583\n",
      "[5790/100] Loss: 0.820666\n",
      "[5800/100] Loss: 0.822080\n",
      "[5810/100] Loss: 0.821110\n",
      "[5820/100] Loss: 0.819046\n",
      "[5830/100] Loss: 0.818563\n"
     ]
    },
    {
     "name": "stderr",
     "output_type": "stream",
     "text": [
      " 59%|█████▉    | 5931/10000 [00:12<00:08, 474.55it/s]"
     ]
    },
    {
     "name": "stdout",
     "output_type": "stream",
     "text": [
      "[5840/100] Loss: 0.819501\n",
      "[5850/100] Loss: 0.819923\n",
      "[5860/100] Loss: 0.822463\n",
      "[5870/100] Loss: 0.822651\n",
      "[5880/100] Loss: 0.820209\n",
      "[5890/100] Loss: 0.819802\n",
      "[5900/100] Loss: 0.817966\n",
      "[5910/100] Loss: 0.822139\n",
      "[5920/100] Loss: 0.819140\n",
      "[5930/100] Loss: 0.819375\n",
      "[5940/100] Loss: 0.820815\n"
     ]
    },
    {
     "name": "stderr",
     "output_type": "stream",
     "text": [
      " 60%|██████    | 6035/10000 [00:12<00:08, 475.15it/s]"
     ]
    },
    {
     "name": "stdout",
     "output_type": "stream",
     "text": [
      "[5950/100] Loss: 0.819842\n",
      "[5960/100] Loss: 0.821030\n",
      "[5970/100] Loss: 0.821041\n",
      "[5980/100] Loss: 0.820103\n",
      "[5990/100] Loss: 0.820851\n",
      "[6000/100] Loss: 0.820483\n",
      "[6010/100] Loss: 0.820199\n",
      "[6020/100] Loss: 0.818752\n",
      "[6030/100] Loss: 0.820022\n",
      "[6040/100] Loss: 0.817835\n",
      "[6050/100] Loss: 0.821356\n"
     ]
    },
    {
     "name": "stderr",
     "output_type": "stream",
     "text": [
      " 61%|██████▏   | 6139/10000 [00:12<00:08, 475.70it/s]"
     ]
    },
    {
     "name": "stdout",
     "output_type": "stream",
     "text": [
      "[6060/100] Loss: 0.819233\n",
      "[6070/100] Loss: 0.821466\n",
      "[6080/100] Loss: 0.819882\n",
      "[6090/100] Loss: 0.819289\n",
      "[6100/100] Loss: 0.820378\n",
      "[6110/100] Loss: 0.819664\n",
      "[6120/100] Loss: 0.820084\n",
      "[6130/100] Loss: 0.819559\n",
      "[6140/100] Loss: 0.819976\n",
      "[6150/100] Loss: 0.818829\n",
      "[6160/100] Loss: 0.820616\n"
     ]
    },
    {
     "name": "stderr",
     "output_type": "stream",
     "text": [
      " 62%|██████▏   | 6245/10000 [00:13<00:07, 476.44it/s]"
     ]
    },
    {
     "name": "stdout",
     "output_type": "stream",
     "text": [
      "[6170/100] Loss: 0.821002\n",
      "[6180/100] Loss: 0.819355\n",
      "[6190/100] Loss: 0.823554\n",
      "[6200/100] Loss: 0.819444\n",
      "[6210/100] Loss: 0.820923\n",
      "[6220/100] Loss: 0.819027\n",
      "[6230/100] Loss: 0.819855\n",
      "[6240/100] Loss: 0.821443\n",
      "[6250/100] Loss: 0.820844\n",
      "[6260/100] Loss: 0.818860\n",
      "[6270/100] Loss: 0.818530\n"
     ]
    },
    {
     "name": "stderr",
     "output_type": "stream",
     "text": [
      " 64%|██████▎   | 6351/10000 [00:13<00:07, 477.18it/s]"
     ]
    },
    {
     "name": "stdout",
     "output_type": "stream",
     "text": [
      "[6280/100] Loss: 0.820814\n",
      "[6290/100] Loss: 0.821106\n",
      "[6300/100] Loss: 0.820357\n",
      "[6310/100] Loss: 0.821248\n",
      "[6320/100] Loss: 0.820173\n",
      "[6330/100] Loss: 0.820073\n",
      "[6340/100] Loss: 0.820448\n",
      "[6350/100] Loss: 0.821497\n",
      "[6360/100] Loss: 0.819862\n",
      "[6370/100] Loss: 0.818679\n",
      "[6380/100] Loss: 0.819748\n"
     ]
    },
    {
     "name": "stderr",
     "output_type": "stream",
     "text": [
      " 65%|██████▍   | 6457/10000 [00:13<00:07, 477.88it/s]"
     ]
    },
    {
     "name": "stdout",
     "output_type": "stream",
     "text": [
      "[6390/100] Loss: 0.820714\n",
      "[6400/100] Loss: 0.820978\n",
      "[6410/100] Loss: 0.822763\n",
      "[6420/100] Loss: 0.821741\n",
      "[6430/100] Loss: 0.819469\n",
      "[6440/100] Loss: 0.820447\n",
      "[6450/100] Loss: 0.821638\n",
      "[6460/100] Loss: 0.820238\n",
      "[6470/100] Loss: 0.821477\n",
      "[6480/100] Loss: 0.817577\n",
      "[6490/100] Loss: 0.819048\n"
     ]
    },
    {
     "name": "stderr",
     "output_type": "stream",
     "text": [
      " 66%|██████▌   | 6563/10000 [00:13<00:07, 478.59it/s]"
     ]
    },
    {
     "name": "stdout",
     "output_type": "stream",
     "text": [
      "[6500/100] Loss: 0.819955\n",
      "[6510/100] Loss: 0.821130\n",
      "[6520/100] Loss: 0.818196\n",
      "[6530/100] Loss: 0.818545\n",
      "[6540/100] Loss: 0.820643\n",
      "[6550/100] Loss: 0.819606\n",
      "[6560/100] Loss: 0.820400\n",
      "[6570/100] Loss: 0.819702\n",
      "[6580/100] Loss: 0.819209\n",
      "[6590/100] Loss: 0.821630\n",
      "[6600/100] Loss: 0.821198\n"
     ]
    },
    {
     "name": "stderr",
     "output_type": "stream",
     "text": [
      " 67%|██████▋   | 6669/10000 [00:13<00:06, 479.28it/s]"
     ]
    },
    {
     "name": "stdout",
     "output_type": "stream",
     "text": [
      "[6610/100] Loss: 0.819123\n",
      "[6620/100] Loss: 0.819160\n",
      "[6630/100] Loss: 0.821582\n",
      "[6640/100] Loss: 0.820630\n",
      "[6650/100] Loss: 0.822102\n",
      "[6660/100] Loss: 0.820153\n",
      "[6670/100] Loss: 0.819410\n",
      "[6680/100] Loss: 0.821823\n",
      "[6690/100] Loss: 0.820147\n",
      "[6700/100] Loss: 0.820618\n",
      "[6710/100] Loss: 0.820195\n"
     ]
    },
    {
     "name": "stderr",
     "output_type": "stream",
     "text": [
      " 68%|██████▊   | 6775/10000 [00:14<00:06, 479.84it/s]"
     ]
    },
    {
     "name": "stdout",
     "output_type": "stream",
     "text": [
      "[6720/100] Loss: 0.819704\n",
      "[6730/100] Loss: 0.821138\n",
      "[6740/100] Loss: 0.820799\n",
      "[6750/100] Loss: 0.819238\n",
      "[6760/100] Loss: 0.820754\n",
      "[6770/100] Loss: 0.821169\n",
      "[6780/100] Loss: 0.820144\n",
      "[6790/100] Loss: 0.821864\n",
      "[6800/100] Loss: 0.818530\n",
      "[6810/100] Loss: 0.822324\n",
      "[6820/100] Loss: 0.818652\n"
     ]
    },
    {
     "name": "stderr",
     "output_type": "stream",
     "text": [
      " 69%|██████▉   | 6932/10000 [00:14<00:06, 480.49it/s]"
     ]
    },
    {
     "name": "stdout",
     "output_type": "stream",
     "text": [
      "[6830/100] Loss: 0.819558\n",
      "[6840/100] Loss: 0.819572\n",
      "[6850/100] Loss: 0.821957\n",
      "[6860/100] Loss: 0.822308\n",
      "[6870/100] Loss: 0.821663\n",
      "[6880/100] Loss: 0.819704\n",
      "[6890/100] Loss: 0.821042\n",
      "[6900/100] Loss: 0.819198\n",
      "[6910/100] Loss: 0.819308\n",
      "[6920/100] Loss: 0.819176\n",
      "[6930/100] Loss: 0.820143\n"
     ]
    },
    {
     "name": "stderr",
     "output_type": "stream",
     "text": [
      " 70%|███████   | 7036/10000 [00:14<00:06, 480.87it/s]"
     ]
    },
    {
     "name": "stdout",
     "output_type": "stream",
     "text": [
      "[6940/100] Loss: 0.820754\n",
      "[6950/100] Loss: 0.820800\n",
      "[6960/100] Loss: 0.820246\n",
      "[6970/100] Loss: 0.818531\n",
      "[6980/100] Loss: 0.819546\n",
      "[6990/100] Loss: 0.819068\n",
      "[7000/100] Loss: 0.820002\n",
      "[7010/100] Loss: 0.820534\n",
      "[7020/100] Loss: 0.820426\n",
      "[7030/100] Loss: 0.821383\n",
      "[7040/100] Loss: 0.819251\n"
     ]
    },
    {
     "name": "stderr",
     "output_type": "stream",
     "text": [
      " 71%|███████▏  | 7140/10000 [00:14<00:05, 481.28it/s]"
     ]
    },
    {
     "name": "stdout",
     "output_type": "stream",
     "text": [
      "[7050/100] Loss: 0.820319\n",
      "[7060/100] Loss: 0.821263\n",
      "[7070/100] Loss: 0.819930\n",
      "[7080/100] Loss: 0.821710\n",
      "[7090/100] Loss: 0.820722\n",
      "[7100/100] Loss: 0.821402\n",
      "[7110/100] Loss: 0.820487\n",
      "[7120/100] Loss: 0.819434\n",
      "[7130/100] Loss: 0.819491\n",
      "[7140/100] Loss: 0.820323\n",
      "[7150/100] Loss: 0.820767\n"
     ]
    },
    {
     "name": "stderr",
     "output_type": "stream",
     "text": [
      " 72%|███████▏  | 7246/10000 [00:15<00:05, 481.89it/s]"
     ]
    },
    {
     "name": "stdout",
     "output_type": "stream",
     "text": [
      "[7160/100] Loss: 0.821558\n",
      "[7170/100] Loss: 0.820647\n",
      "[7180/100] Loss: 0.819918\n",
      "[7190/100] Loss: 0.819498\n",
      "[7200/100] Loss: 0.819188\n",
      "[7210/100] Loss: 0.819659\n",
      "[7220/100] Loss: 0.820834\n",
      "[7230/100] Loss: 0.820129\n",
      "[7240/100] Loss: 0.821181\n",
      "[7250/100] Loss: 0.820541\n",
      "[7260/100] Loss: 0.820055\n"
     ]
    },
    {
     "name": "stderr",
     "output_type": "stream",
     "text": [
      " 74%|███████▎  | 7353/10000 [00:15<00:05, 482.52it/s]"
     ]
    },
    {
     "name": "stdout",
     "output_type": "stream",
     "text": [
      "[7270/100] Loss: 0.820576\n",
      "[7280/100] Loss: 0.820711\n",
      "[7290/100] Loss: 0.820014\n",
      "[7300/100] Loss: 0.820792\n",
      "[7310/100] Loss: 0.820822\n",
      "[7320/100] Loss: 0.820665\n",
      "[7330/100] Loss: 0.820142\n",
      "[7340/100] Loss: 0.821047\n",
      "[7350/100] Loss: 0.821010\n",
      "[7360/100] Loss: 0.818723\n",
      "[7370/100] Loss: 0.820569\n"
     ]
    },
    {
     "name": "stderr",
     "output_type": "stream",
     "text": [
      " 75%|███████▍  | 7459/10000 [00:15<00:05, 483.12it/s]"
     ]
    },
    {
     "name": "stdout",
     "output_type": "stream",
     "text": [
      "[7380/100] Loss: 0.819476\n",
      "[7390/100] Loss: 0.819137\n",
      "[7400/100] Loss: 0.821242\n",
      "[7410/100] Loss: 0.819284\n",
      "[7420/100] Loss: 0.820729\n",
      "[7430/100] Loss: 0.819726\n",
      "[7440/100] Loss: 0.819973\n",
      "[7450/100] Loss: 0.821033\n",
      "[7460/100] Loss: 0.820577\n",
      "[7470/100] Loss: 0.818926\n",
      "[7480/100] Loss: 0.819074\n"
     ]
    },
    {
     "name": "stderr",
     "output_type": "stream",
     "text": [
      " 76%|███████▌  | 7565/10000 [00:15<00:05, 483.70it/s]"
     ]
    },
    {
     "name": "stdout",
     "output_type": "stream",
     "text": [
      "[7490/100] Loss: 0.818331\n",
      "[7500/100] Loss: 0.820785\n",
      "[7510/100] Loss: 0.821440\n",
      "[7520/100] Loss: 0.820034\n",
      "[7530/100] Loss: 0.819577\n",
      "[7540/100] Loss: 0.822371\n",
      "[7550/100] Loss: 0.819876\n",
      "[7560/100] Loss: 0.821090\n",
      "[7570/100] Loss: 0.821358\n",
      "[7580/100] Loss: 0.819883\n",
      "[7590/100] Loss: 0.819914\n"
     ]
    },
    {
     "name": "stderr",
     "output_type": "stream",
     "text": [
      " 77%|███████▋  | 7671/10000 [00:15<00:04, 484.25it/s]"
     ]
    },
    {
     "name": "stdout",
     "output_type": "stream",
     "text": [
      "[7600/100] Loss: 0.821274\n",
      "[7610/100] Loss: 0.822475\n",
      "[7620/100] Loss: 0.821143\n",
      "[7630/100] Loss: 0.817075\n",
      "[7640/100] Loss: 0.820256\n",
      "[7650/100] Loss: 0.819885\n",
      "[7660/100] Loss: 0.820265\n",
      "[7670/100] Loss: 0.820567\n",
      "[7680/100] Loss: 0.819560\n",
      "[7690/100] Loss: 0.821869\n",
      "[7700/100] Loss: 0.820937\n"
     ]
    },
    {
     "name": "stderr",
     "output_type": "stream",
     "text": [
      " 78%|███████▊  | 7778/10000 [00:16<00:04, 484.76it/s]"
     ]
    },
    {
     "name": "stdout",
     "output_type": "stream",
     "text": [
      "[7710/100] Loss: 0.821262\n",
      "[7720/100] Loss: 0.820232\n",
      "[7730/100] Loss: 0.821441\n",
      "[7740/100] Loss: 0.819651\n",
      "[7750/100] Loss: 0.820573\n",
      "[7760/100] Loss: 0.820362\n",
      "[7770/100] Loss: 0.819288\n",
      "[7780/100] Loss: 0.820964\n",
      "[7790/100] Loss: 0.821219\n",
      "[7800/100] Loss: 0.821728\n",
      "[7810/100] Loss: 0.820208\n"
     ]
    },
    {
     "name": "stderr",
     "output_type": "stream",
     "text": [
      " 79%|███████▉  | 7884/10000 [00:16<00:04, 485.23it/s]"
     ]
    },
    {
     "name": "stdout",
     "output_type": "stream",
     "text": [
      "[7820/100] Loss: 0.821390\n",
      "[7830/100] Loss: 0.819011\n",
      "[7840/100] Loss: 0.821173\n",
      "[7850/100] Loss: 0.819718\n",
      "[7860/100] Loss: 0.820906\n",
      "[7870/100] Loss: 0.818942\n",
      "[7880/100] Loss: 0.820623\n",
      "[7890/100] Loss: 0.818406\n",
      "[7900/100] Loss: 0.819793\n",
      "[7910/100] Loss: 0.818294\n",
      "[7920/100] Loss: 0.821423\n"
     ]
    },
    {
     "name": "stderr",
     "output_type": "stream",
     "text": [
      " 80%|███████▉  | 7989/10000 [00:16<00:04, 485.56it/s]"
     ]
    },
    {
     "name": "stdout",
     "output_type": "stream",
     "text": [
      "[7930/100] Loss: 0.821900\n",
      "[7940/100] Loss: 0.819137\n",
      "[7950/100] Loss: 0.818726\n",
      "[7960/100] Loss: 0.819554\n",
      "[7970/100] Loss: 0.819883\n",
      "[7980/100] Loss: 0.819456\n",
      "[7990/100] Loss: 0.819832\n",
      "[8000/100] Loss: 0.818892\n",
      "[8010/100] Loss: 0.819229\n",
      "[8020/100] Loss: 0.820686\n",
      "[8030/100] Loss: 0.822047\n"
     ]
    },
    {
     "name": "stderr",
     "output_type": "stream",
     "text": [
      " 81%|████████  | 8093/10000 [00:16<00:03, 485.90it/s]"
     ]
    },
    {
     "name": "stdout",
     "output_type": "stream",
     "text": [
      "[8040/100] Loss: 0.820994\n",
      "[8050/100] Loss: 0.820314\n",
      "[8060/100] Loss: 0.821843\n",
      "[8070/100] Loss: 0.820969\n",
      "[8080/100] Loss: 0.820513\n",
      "[8090/100] Loss: 0.820286\n",
      "[8100/100] Loss: 0.821426\n",
      "[8110/100] Loss: 0.817964\n",
      "[8120/100] Loss: 0.819539\n",
      "[8130/100] Loss: 0.819210\n",
      "[8140/100] Loss: 0.820255\n"
     ]
    },
    {
     "name": "stderr",
     "output_type": "stream",
     "text": [
      " 82%|████████▏ | 8249/10000 [00:16<00:03, 486.32it/s]"
     ]
    },
    {
     "name": "stdout",
     "output_type": "stream",
     "text": [
      "[8150/100] Loss: 0.819877\n",
      "[8160/100] Loss: 0.819627\n",
      "[8170/100] Loss: 0.819021\n",
      "[8180/100] Loss: 0.821074\n",
      "[8190/100] Loss: 0.818781\n",
      "[8200/100] Loss: 0.820673\n",
      "[8210/100] Loss: 0.819850\n",
      "[8220/100] Loss: 0.822158\n",
      "[8230/100] Loss: 0.820085\n",
      "[8240/100] Loss: 0.820859\n",
      "[8250/100] Loss: 0.819989\n"
     ]
    },
    {
     "name": "stderr",
     "output_type": "stream",
     "text": [
      " 84%|████████▎ | 8353/10000 [00:17<00:03, 486.58it/s]"
     ]
    },
    {
     "name": "stdout",
     "output_type": "stream",
     "text": [
      "[8260/100] Loss: 0.821883\n",
      "[8270/100] Loss: 0.820226\n",
      "[8280/100] Loss: 0.819908\n",
      "[8290/100] Loss: 0.820014\n",
      "[8300/100] Loss: 0.820649\n",
      "[8310/100] Loss: 0.820897\n",
      "[8320/100] Loss: 0.819442\n",
      "[8330/100] Loss: 0.820123\n",
      "[8340/100] Loss: 0.818784\n",
      "[8350/100] Loss: 0.818990\n",
      "[8360/100] Loss: 0.819442\n"
     ]
    },
    {
     "name": "stderr",
     "output_type": "stream",
     "text": [
      " 85%|████████▍ | 8457/10000 [00:17<00:03, 486.89it/s]"
     ]
    },
    {
     "name": "stdout",
     "output_type": "stream",
     "text": [
      "[8370/100] Loss: 0.819709\n",
      "[8380/100] Loss: 0.820832\n",
      "[8390/100] Loss: 0.820936\n",
      "[8400/100] Loss: 0.821297\n",
      "[8410/100] Loss: 0.819287\n",
      "[8420/100] Loss: 0.818455\n",
      "[8430/100] Loss: 0.821608\n",
      "[8440/100] Loss: 0.819251\n",
      "[8450/100] Loss: 0.820659\n",
      "[8460/100] Loss: 0.820697\n",
      "[8470/100] Loss: 0.820664\n"
     ]
    },
    {
     "name": "stderr",
     "output_type": "stream",
     "text": [
      " 86%|████████▌ | 8561/10000 [00:17<00:02, 487.15it/s]"
     ]
    },
    {
     "name": "stdout",
     "output_type": "stream",
     "text": [
      "[8480/100] Loss: 0.820521\n",
      "[8490/100] Loss: 0.819914\n",
      "[8500/100] Loss: 0.820766\n",
      "[8510/100] Loss: 0.822002\n",
      "[8520/100] Loss: 0.819799\n",
      "[8530/100] Loss: 0.822370\n",
      "[8540/100] Loss: 0.820148\n",
      "[8550/100] Loss: 0.820892\n",
      "[8560/100] Loss: 0.818731\n",
      "[8570/100] Loss: 0.819665\n",
      "[8580/100] Loss: 0.819954\n"
     ]
    },
    {
     "name": "stderr",
     "output_type": "stream",
     "text": [
      " 87%|████████▋ | 8665/10000 [00:17<00:02, 487.41it/s]"
     ]
    },
    {
     "name": "stdout",
     "output_type": "stream",
     "text": [
      "[8590/100] Loss: 0.818028\n",
      "[8600/100] Loss: 0.819888\n",
      "[8610/100] Loss: 0.821892\n",
      "[8620/100] Loss: 0.821374\n",
      "[8630/100] Loss: 0.821089\n",
      "[8640/100] Loss: 0.817937\n",
      "[8650/100] Loss: 0.820988\n",
      "[8660/100] Loss: 0.818731\n",
      "[8670/100] Loss: 0.820613\n",
      "[8680/100] Loss: 0.818447\n",
      "[8690/100] Loss: 0.821208\n"
     ]
    },
    {
     "name": "stderr",
     "output_type": "stream",
     "text": [
      " 88%|████████▊ | 8769/10000 [00:17<00:02, 487.68it/s]"
     ]
    },
    {
     "name": "stdout",
     "output_type": "stream",
     "text": [
      "[8700/100] Loss: 0.821648\n",
      "[8710/100] Loss: 0.819848\n",
      "[8720/100] Loss: 0.819962\n",
      "[8730/100] Loss: 0.820851\n",
      "[8740/100] Loss: 0.821456\n",
      "[8750/100] Loss: 0.819934\n",
      "[8760/100] Loss: 0.819858\n",
      "[8770/100] Loss: 0.820463\n",
      "[8780/100] Loss: 0.820180\n",
      "[8790/100] Loss: 0.817506\n",
      "[8800/100] Loss: 0.819202\n"
     ]
    },
    {
     "name": "stderr",
     "output_type": "stream",
     "text": [
      " 89%|████████▊ | 8872/10000 [00:18<00:02, 487.91it/s]"
     ]
    },
    {
     "name": "stdout",
     "output_type": "stream",
     "text": [
      "[8810/100] Loss: 0.818698\n",
      "[8820/100] Loss: 0.819408\n",
      "[8830/100] Loss: 0.819481\n",
      "[8840/100] Loss: 0.820497\n",
      "[8850/100] Loss: 0.819417\n",
      "[8860/100] Loss: 0.820386\n",
      "[8870/100] Loss: 0.821015\n",
      "[8880/100] Loss: 0.822129\n",
      "[8890/100] Loss: 0.821207\n",
      "[8900/100] Loss: 0.818708\n",
      "[8910/100] Loss: 0.819853\n"
     ]
    },
    {
     "name": "stderr",
     "output_type": "stream",
     "text": [
      " 90%|████████▉ | 8976/10000 [00:18<00:02, 488.15it/s]"
     ]
    },
    {
     "name": "stdout",
     "output_type": "stream",
     "text": [
      "[8920/100] Loss: 0.821151\n",
      "[8930/100] Loss: 0.820097\n",
      "[8940/100] Loss: 0.821051\n",
      "[8950/100] Loss: 0.819965\n",
      "[8960/100] Loss: 0.819067\n",
      "[8970/100] Loss: 0.821794\n",
      "[8980/100] Loss: 0.820527\n",
      "[8990/100] Loss: 0.820712\n",
      "[9000/100] Loss: 0.821320\n",
      "[9010/100] Loss: 0.820024\n",
      "[9020/100] Loss: 0.819228\n"
     ]
    },
    {
     "name": "stderr",
     "output_type": "stream",
     "text": [
      " 91%|█████████▏| 9131/10000 [00:18<00:01, 488.49it/s]"
     ]
    },
    {
     "name": "stdout",
     "output_type": "stream",
     "text": [
      "[9030/100] Loss: 0.818645\n",
      "[9040/100] Loss: 0.820748\n",
      "[9050/100] Loss: 0.820879\n",
      "[9060/100] Loss: 0.820882\n",
      "[9070/100] Loss: 0.821425\n",
      "[9080/100] Loss: 0.819882\n",
      "[9090/100] Loss: 0.819780\n",
      "[9100/100] Loss: 0.820298\n",
      "[9110/100] Loss: 0.817656\n",
      "[9120/100] Loss: 0.821082\n",
      "[9130/100] Loss: 0.819670\n"
     ]
    },
    {
     "name": "stderr",
     "output_type": "stream",
     "text": [
      " 92%|█████████▏| 9233/10000 [00:18<00:01, 488.71it/s]"
     ]
    },
    {
     "name": "stdout",
     "output_type": "stream",
     "text": [
      "[9140/100] Loss: 0.819689\n",
      "[9150/100] Loss: 0.819648\n",
      "[9160/100] Loss: 0.820206\n",
      "[9170/100] Loss: 0.819773\n",
      "[9180/100] Loss: 0.818498\n",
      "[9190/100] Loss: 0.819574\n",
      "[9200/100] Loss: 0.820213\n",
      "[9210/100] Loss: 0.819957\n",
      "[9220/100] Loss: 0.821578\n",
      "[9230/100] Loss: 0.819781\n",
      "[9240/100] Loss: 0.821522\n"
     ]
    },
    {
     "name": "stderr",
     "output_type": "stream",
     "text": [
      " 93%|█████████▎| 9335/10000 [00:19<00:01, 488.92it/s]"
     ]
    },
    {
     "name": "stdout",
     "output_type": "stream",
     "text": [
      "[9250/100] Loss: 0.820867\n",
      "[9260/100] Loss: 0.821515\n",
      "[9270/100] Loss: 0.821107\n",
      "[9280/100] Loss: 0.820463\n",
      "[9290/100] Loss: 0.819742\n",
      "[9300/100] Loss: 0.820943\n",
      "[9310/100] Loss: 0.820233\n",
      "[9320/100] Loss: 0.818530\n",
      "[9330/100] Loss: 0.819364\n",
      "[9340/100] Loss: 0.820467\n",
      "[9350/100] Loss: 0.819914\n"
     ]
    },
    {
     "name": "stderr",
     "output_type": "stream",
     "text": [
      " 94%|█████████▍| 9439/10000 [00:19<00:01, 489.19it/s]"
     ]
    },
    {
     "name": "stdout",
     "output_type": "stream",
     "text": [
      "[9360/100] Loss: 0.820029\n",
      "[9370/100] Loss: 0.820468\n",
      "[9380/100] Loss: 0.821720\n",
      "[9390/100] Loss: 0.820851\n",
      "[9400/100] Loss: 0.820587\n",
      "[9410/100] Loss: 0.819952\n",
      "[9420/100] Loss: 0.820590\n",
      "[9430/100] Loss: 0.821092\n",
      "[9440/100] Loss: 0.819069\n",
      "[9450/100] Loss: 0.820247\n",
      "[9460/100] Loss: 0.820927\n"
     ]
    },
    {
     "name": "stderr",
     "output_type": "stream",
     "text": [
      " 95%|█████████▌| 9543/10000 [00:19<00:00, 489.46it/s]"
     ]
    },
    {
     "name": "stdout",
     "output_type": "stream",
     "text": [
      "[9470/100] Loss: 0.819323\n",
      "[9480/100] Loss: 0.818960\n",
      "[9490/100] Loss: 0.818385\n",
      "[9500/100] Loss: 0.819672\n",
      "[9510/100] Loss: 0.819392\n",
      "[9520/100] Loss: 0.820445\n",
      "[9530/100] Loss: 0.819672\n",
      "[9540/100] Loss: 0.822049\n",
      "[9550/100] Loss: 0.821266\n",
      "[9560/100] Loss: 0.820900\n",
      "[9570/100] Loss: 0.820385\n"
     ]
    },
    {
     "name": "stderr",
     "output_type": "stream",
     "text": [
      " 96%|█████████▋| 9648/10000 [00:19<00:00, 489.76it/s]"
     ]
    },
    {
     "name": "stdout",
     "output_type": "stream",
     "text": [
      "[9580/100] Loss: 0.819911\n",
      "[9590/100] Loss: 0.821054\n",
      "[9600/100] Loss: 0.818437\n",
      "[9610/100] Loss: 0.819015\n",
      "[9620/100] Loss: 0.820352\n",
      "[9630/100] Loss: 0.820248\n",
      "[9640/100] Loss: 0.819396\n",
      "[9650/100] Loss: 0.820043\n",
      "[9660/100] Loss: 0.821458\n",
      "[9670/100] Loss: 0.818788\n",
      "[9680/100] Loss: 0.819725\n"
     ]
    },
    {
     "name": "stderr",
     "output_type": "stream",
     "text": [
      " 98%|█████████▊| 9752/10000 [00:19<00:00, 490.03it/s]"
     ]
    },
    {
     "name": "stdout",
     "output_type": "stream",
     "text": [
      "[9690/100] Loss: 0.819334\n",
      "[9700/100] Loss: 0.820217\n",
      "[9710/100] Loss: 0.819769\n",
      "[9720/100] Loss: 0.819186\n",
      "[9730/100] Loss: 0.821048\n",
      "[9740/100] Loss: 0.822176\n",
      "[9750/100] Loss: 0.820118\n",
      "[9760/100] Loss: 0.820901\n",
      "[9770/100] Loss: 0.820400\n",
      "[9780/100] Loss: 0.820557\n",
      "[9790/100] Loss: 0.821005\n"
     ]
    },
    {
     "name": "stderr",
     "output_type": "stream",
     "text": [
      " 99%|█████████▊| 9856/10000 [00:20<00:00, 490.30it/s]"
     ]
    },
    {
     "name": "stdout",
     "output_type": "stream",
     "text": [
      "[9800/100] Loss: 0.820295\n",
      "[9810/100] Loss: 0.817622\n",
      "[9820/100] Loss: 0.818413\n",
      "[9830/100] Loss: 0.820915\n",
      "[9840/100] Loss: 0.821591\n",
      "[9850/100] Loss: 0.820828\n",
      "[9860/100] Loss: 0.820039\n",
      "[9870/100] Loss: 0.819748\n",
      "[9880/100] Loss: 0.819922\n",
      "[9890/100] Loss: 0.820145\n",
      "[9900/100] Loss: 0.820127\n"
     ]
    },
    {
     "name": "stderr",
     "output_type": "stream",
     "text": [
      "100%|██████████| 10000/10000 [00:20<00:00, 490.67it/s]"
     ]
    },
    {
     "name": "stdout",
     "output_type": "stream",
     "text": [
      "[9910/100] Loss: 0.819348\n",
      "[9920/100] Loss: 0.820234\n",
      "[9930/100] Loss: 0.822653\n",
      "[9940/100] Loss: 0.819717\n",
      "[9950/100] Loss: 0.819049\n",
      "[9960/100] Loss: 0.821781\n",
      "[9970/100] Loss: 0.820070\n",
      "[9980/100] Loss: 0.821864\n",
      "[9990/100] Loss: 0.818881\n"
     ]
    },
    {
     "name": "stderr",
     "output_type": "stream",
     "text": [
      "\n"
     ]
    }
   ],
   "source": [
    "for step in trange(0,10000):\n",
    "    \n",
    "    fetch_dict = {\"loss\":cost}\n",
    "    if step % 10 ==0:\n",
    "        fetch_dict.update({\n",
    "            \"summary\": summary_op,\n",
    "            \"loss\":cost,\n",
    "            \"lr\":lr\n",
    "        })\n",
    "    #print(step)\n",
    "    result = sess.run(fetch_dict)\n",
    "    if step % 10 ==0:\n",
    "        loss = result['loss']\n",
    "        print(\"[{}/{}] Loss: {:.6f}\".format(step,100,loss))\n",
    "    "
   ]
  },
  {
   "cell_type": "code",
   "execution_count": null,
   "metadata": {
    "collapsed": true
   },
   "outputs": [],
   "source": []
  },
  {
   "cell_type": "code",
   "execution_count": null,
   "metadata": {
    "collapsed": true
   },
   "outputs": [],
   "source": [
    "x = tf.reshape(x,[-1,self.])"
   ]
  },
  {
   "cell_type": "code",
   "execution_count": null,
   "metadata": {
    "collapsed": true
   },
   "outputs": [],
   "source": [
    "with open('logs/bedroom_lsun_1120_134241/params.json') as f:\n",
    "    aa = json.load(f)"
   ]
  },
  {
   "cell_type": "code",
   "execution_count": null,
   "metadata": {
    "collapsed": true
   },
   "outputs": [],
   "source": [
    "print(aa)\n",
    "aa['is_train']=False\n",
    "aa['data_path']"
   ]
  },
  {
   "cell_type": "code",
   "execution_count": null,
   "metadata": {
    "collapsed": true
   },
   "outputs": [],
   "source": [
    "data_loader = get_loader(aa['data_path'], aa['batch_size'], aa['input_scale_size'], aa['data_format'], aa['split']"
   ]
  },
  {
   "cell_type": "code",
   "execution_count": null,
   "metadata": {
    "collapsed": true
   },
   "outputs": [],
   "source": [
    "import argparse\n",
    "print(aa.keys())\n",
    "aa2 = argparse.Namespace()\n",
    "for dk in aa.keys():\n",
    "    exec(\"aa2.%s = aa[dk]\" % (dk))"
   ]
  },
  {
   "cell_type": "code",
   "execution_count": null,
   "metadata": {
    "collapsed": true
   },
   "outputs": [],
   "source": [
    "asd = Trainer(aa2,data_loader)"
   ]
  },
  {
   "cell_type": "code",
   "execution_count": null,
   "metadata": {
    "collapsed": true
   },
   "outputs": [],
   "source": [
    "z_fixed = np.random.uniform(-1,1,size = (asd.batch_size,asd.z_num))"
   ]
  },
  {
   "cell_type": "code",
   "execution_count": null,
   "metadata": {
    "collapsed": true
   },
   "outputs": [],
   "source": [
    "c_fixed = np.zeros(shape = (asd.batch_size,asd.c_num*10),dtype=np.float32)\n",
    "c_fixed[:,0] = 1\n",
    "zc_fixed = np.concatenate([z_fixed, c_fixed], axis=1)\n",
    "x_fake = asd.sess.run(asd.G,{asd.zc:zc_fixed})/255.\n",
    "print(x_fake.shape)"
   ]
  },
  {
   "cell_type": "code",
   "execution_count": null,
   "metadata": {
    "collapsed": true
   },
   "outputs": [],
   "source": [
    "fig = plt.figure(figsize=(20,5))\n",
    "for i in range(asd.batch_size):\n",
    "    ax = fig.add_subplot(2, asd.batch_size/2 , i+1)\n",
    "    plt.imshow(x_fake[i])\n",
    "    ax.get_xaxis().set_visible(False)\n",
    "    ax.get_yaxis().set_visible(False)\n",
    "plt.show()"
   ]
  },
  {
   "cell_type": "code",
   "execution_count": null,
   "metadata": {
    "collapsed": true
   },
   "outputs": [],
   "source": [
    "c_fixed = np.zeros(shape = (asd.batch_size,asd.c_num*10),dtype=np.float32)\n",
    "c_fixed[:,1] = 1\n",
    "zc_fixed = np.concatenate([z_fixed, c_fixed], axis=1)\n",
    "x_fake = asd.sess.run(asd.G,{asd.zc:zc_fixed})/255.\n",
    "print(x_fake.shape)"
   ]
  }
 ],
 "metadata": {
  "kernelspec": {
   "display_name": "Python keras36",
   "language": "python",
   "name": "keras36"
  },
  "language_info": {
   "codemirror_mode": {
    "name": "ipython",
    "version": 3
   },
   "file_extension": ".py",
   "mimetype": "text/x-python",
   "name": "python",
   "nbconvert_exporter": "python",
   "pygments_lexer": "ipython3",
   "version": "3.6.2"
  }
 },
 "nbformat": 4,
 "nbformat_minor": 2
}
