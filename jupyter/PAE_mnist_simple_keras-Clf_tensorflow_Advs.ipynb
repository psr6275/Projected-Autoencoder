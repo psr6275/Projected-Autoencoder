{
 "cells": [
  {
   "cell_type": "code",
   "execution_count": 1,
   "metadata": {},
   "outputs": [
    {
     "name": "stderr",
     "output_type": "stream",
     "text": [
      "Using TensorFlow backend.\n",
      "/home/slcf/.pyenv/versions/3.6.2/lib/python3.6/importlib/_bootstrap.py:205: RuntimeWarning: compiletime version 3.5 of module 'tensorflow.python.framework.fast_tensor_util' does not match runtime version 3.6\n",
      "  return f(*args, **kwds)\n"
     ]
    }
   ],
   "source": [
    "from keras.layers import Input, Dense,Dropout, Flatten,Lambda\n",
    "from keras.models import Model,Sequential\n",
    "from sklearn.model_selection import train_test_split as tts\n",
    "from keras.callbacks import TensorBoard\n",
    "import matplotlib.pyplot as plt\n",
    "from keras.utils import np_utils,plot_model\n",
    "from keras.layers.convolutional import Convolution2D,MaxPooling2D,Conv2D\n",
    "from keras import backend as K\n",
    "from keras.losses import categorical_hinge,categorical_crossentropy\n",
    "import tensorflow as tf\n",
    "#from tensorflow.layers import flatten,batch_normialization as batch_norm"
   ]
  },
  {
   "cell_type": "code",
   "execution_count": 2,
   "metadata": {},
   "outputs": [],
   "source": [
    "def corrupt(x,scale=0.5, rep =1, noise_type = 'gaussian'):\n",
    "    x_rep = np.repeat(x,rep,axis=0)\n",
    "    if noise_type == 'gaussian':\n",
    "        noise = np.random.normal(size = x_rep.shape)\n",
    "        x_crr = x_rep+scale*noise\n",
    "    elif noise_type =='corruption':\n",
    "        noise = np.random.binomial(1,1-scale,size = x_rep.shape)\n",
    "        x_crr = x_rep * noise\n",
    "    elif noise_type =='peppSalt':\n",
    "        noise = np.random.choice([-1,0,1],size = x_rep.shape,\n",
    "                                 p = [scale/2,1-scale,scale/2])\n",
    "        x_crr = x_rep + noise\n",
    "    return np.clip(x_rep,0.0,1.0), np.clip(x_crr,0.0,1.0)"
   ]
  },
  {
   "cell_type": "code",
   "execution_count": 8,
   "metadata": {},
   "outputs": [
    {
     "ename": "NameError",
     "evalue": "name 'xtrain' is not defined",
     "output_type": "error",
     "traceback": [
      "\u001b[0;31m---------------------------------------------------------------------------\u001b[0m",
      "\u001b[0;31mNameError\u001b[0m                                 Traceback (most recent call last)",
      "\u001b[0;32m<ipython-input-8-f2ab929953db>\u001b[0m in \u001b[0;36m<module>\u001b[0;34m()\u001b[0m\n\u001b[0;32m----> 1\u001b[0;31m \u001b[0mxtrain_o\u001b[0m\u001b[0;34m,\u001b[0m\u001b[0mxtrain_n\u001b[0m \u001b[0;34m=\u001b[0m \u001b[0mcorrupt\u001b[0m\u001b[0;34m(\u001b[0m\u001b[0mxtrain\u001b[0m\u001b[0;34m,\u001b[0m\u001b[0mscale\u001b[0m \u001b[0;34m=\u001b[0m \u001b[0;36m0.3\u001b[0m\u001b[0;34m)\u001b[0m\u001b[0;34m\u001b[0m\u001b[0m\n\u001b[0m\u001b[1;32m      2\u001b[0m \u001b[0mn\u001b[0m\u001b[0;34m=\u001b[0m\u001b[0;36m10\u001b[0m\u001b[0;34m\u001b[0m\u001b[0m\n\u001b[1;32m      3\u001b[0m \u001b[0mplt\u001b[0m\u001b[0;34m.\u001b[0m\u001b[0mfigure\u001b[0m\u001b[0;34m(\u001b[0m\u001b[0mfigsize\u001b[0m \u001b[0;34m=\u001b[0m \u001b[0;34m(\u001b[0m\u001b[0;36m20\u001b[0m\u001b[0;34m,\u001b[0m\u001b[0;36m4\u001b[0m\u001b[0;34m)\u001b[0m\u001b[0;34m)\u001b[0m\u001b[0;34m\u001b[0m\u001b[0m\n\u001b[1;32m      4\u001b[0m \u001b[0;32mfor\u001b[0m \u001b[0mi\u001b[0m \u001b[0;32min\u001b[0m \u001b[0mrange\u001b[0m\u001b[0;34m(\u001b[0m\u001b[0mn\u001b[0m\u001b[0;34m)\u001b[0m\u001b[0;34m:\u001b[0m\u001b[0;34m\u001b[0m\u001b[0m\n\u001b[1;32m      5\u001b[0m     \u001b[0;31m# Display Original\u001b[0m\u001b[0;34m\u001b[0m\u001b[0;34m\u001b[0m\u001b[0m\n",
      "\u001b[0;31mNameError\u001b[0m: name 'xtrain' is not defined"
     ]
    }
   ],
   "source": [
    "xtrain_o,xtrain_n = corrupt(xtrain,scale = 0.3)\n",
    "n=10\n",
    "plt.figure(figsize = (20,4))\n",
    "for i in range(n):\n",
    "    # Display Original\n",
    "    ax = plt.subplot(2,n,i+1)\n",
    "    plt.imshow(xtrain_o[i].reshape(28,28))\n",
    "    plt.gray()\n",
    "    ax.get_xaxis().set_visible(False)\n",
    "    ax .get_yaxis().set_visible(False)\n",
    "    \n",
    "    # Display Reconstruction\n",
    "    ax = plt.subplot(2,n,i+1+n)\n",
    "    plt.imshow(xtrain_n[i].reshape(28,28))\n",
    "    plt.gray()\n",
    "    ax.get_xaxis().set_visible(False)\n",
    "    ax.get_yaxis().set_visible(False)\n",
    "\n",
    "plt.show()"
   ]
  },
  {
   "cell_type": "code",
   "execution_count": 9,
   "metadata": {},
   "outputs": [],
   "source": [
    "dims = [784,1024,2048]\n",
    "input_img = Input(shape=(dims[0],))\n",
    "encoded = input_img\n",
    "for idx,dim in enumerate(dims[1:]):\n",
    "    encoded = Dense(dim,activation = 'elu')(encoded)\n",
    "decoded = encoded\n",
    "for idx, dim in enumerate(dims[:-1][::-1]):\n",
    "    if idx < len(dims)-2:\n",
    "        decoded = Dense(dim,activation='elu')(decoded)\n",
    "    else:\n",
    "        decoded = Dense(dim,activation='sigmoid')(decoded)\n",
    "encoder = Model(input_img, encoded)\n",
    "autoencoder = Model(input_img,decoded)\n",
    "input_z = Input(shape=(dims[-1],))\n",
    "decoder_layers = autoencoder.layers[len(dims):]\n",
    "z_decoded = input_z\n",
    "for lyr in decoder_layers:\n",
    "    z_decoded = lyr(z_decoded)\n",
    "decoder = Model(input_z,z_decoded)"
   ]
  },
  {
   "cell_type": "code",
   "execution_count": 10,
   "metadata": {},
   "outputs": [
    {
     "name": "stdout",
     "output_type": "stream",
     "text": [
      "Tensor(\"dense_4_1/Sigmoid:0\", shape=(?, 784), dtype=float32)\n"
     ]
    }
   ],
   "source": [
    "print(z_decoded)"
   ]
  },
  {
   "cell_type": "code",
   "execution_count": 11,
   "metadata": {},
   "outputs": [],
   "source": [
    "autoencoder.compile(optimizer = 'adadelta',loss='binary_crossentropy')"
   ]
  },
  {
   "cell_type": "code",
   "execution_count": 2,
   "metadata": {},
   "outputs": [],
   "source": [
    "from keras.datasets import fashion_mnist as mnist\n",
    "import numpy as np\n",
    "(x_train,y_train),(x_test,y_test) = mnist.load_data()"
   ]
  },
  {
   "cell_type": "code",
   "execution_count": 3,
   "metadata": {},
   "outputs": [],
   "source": [
    "x_train = x_train.astype('float32')/255.0\n",
    "x_test = x_test.astype('float32')/255.0\n",
    "## Make the input image flat\n",
    "n_features = np.prod(x_train.shape[1:])\n",
    "xtrain = x_train.reshape((len(x_train),n_features))\n",
    "xtest = x_test.reshape((len(x_test),n_features))"
   ]
  },
  {
   "cell_type": "code",
   "execution_count": 14,
   "metadata": {},
   "outputs": [],
   "source": [
    "## Generate noised images\n",
    "noise_scale = 0.3\n",
    "xtrain_o,xtrain_n = corrupt(xtrain,scale = noise_scale)"
   ]
  },
  {
   "cell_type": "code",
   "execution_count": 15,
   "metadata": {},
   "outputs": [
    {
     "name": "stdout",
     "output_type": "stream",
     "text": [
      "(60000, 1568)\n"
     ]
    }
   ],
   "source": [
    "# Split training and validation datasets\n",
    "xtrain_t = np.concatenate([xtrain_o,xtrain_n],axis =1)\n",
    "print(xtrain_t.shape)\n",
    "dmm = np.ones(shape = (len(xtrain_t),))\n",
    "xtr,xval,_,_ = tts(xtrain_t,dmm,test_size = 0.3)\n",
    "xtr_o = xtr[:,:n_features]\n",
    "xtr_n = xtr[:,n_features:]\n",
    "xval_o = xval[:,:n_features]\n",
    "xval_n = xval[:,n_features:]"
   ]
  },
  {
   "cell_type": "code",
   "execution_count": 16,
   "metadata": {
    "scrolled": true
   },
   "outputs": [
    {
     "name": "stdout",
     "output_type": "stream",
     "text": [
      "noise_scale:  0.3\n",
      "Train on 42000 samples, validate on 18000 samples\n",
      "Epoch 1/50\n",
      "42000/42000 [==============================] - 4s 94us/step - loss: 0.2403 - val_loss: 0.1891\n",
      "Epoch 2/50\n",
      "42000/42000 [==============================] - 4s 87us/step - loss: 0.1645 - val_loss: 0.1519\n",
      "Epoch 3/50\n",
      "42000/42000 [==============================] - 4s 87us/step - loss: 0.1392 - val_loss: 0.1341\n",
      "Epoch 4/50\n",
      "42000/42000 [==============================] - 4s 88us/step - loss: 0.1252 - val_loss: 0.1240\n",
      "Epoch 5/50\n",
      "42000/42000 [==============================] - 4s 84us/step - loss: 0.1167 - val_loss: 0.1154\n",
      "Epoch 6/50\n",
      "42000/42000 [==============================] - 3s 82us/step - loss: 0.1108 - val_loss: 0.1111\n",
      "Epoch 7/50\n",
      "42000/42000 [==============================] - 3s 82us/step - loss: 0.1066 - val_loss: 0.1094\n",
      "Epoch 8/50\n",
      "42000/42000 [==============================] - 3s 82us/step - loss: 0.1034 - val_loss: 0.1062\n",
      "Epoch 9/50\n",
      "42000/42000 [==============================] - 3s 81us/step - loss: 0.1009 - val_loss: 0.1025\n",
      "Epoch 10/50\n",
      "42000/42000 [==============================] - 3s 81us/step - loss: 0.0989 - val_loss: 0.1019\n",
      "Epoch 11/50\n",
      "42000/42000 [==============================] - 3s 80us/step - loss: 0.0972 - val_loss: 0.0995\n",
      "Epoch 12/50\n",
      "42000/42000 [==============================] - 3s 80us/step - loss: 0.0958 - val_loss: 0.0980\n",
      "Epoch 13/50\n",
      "42000/42000 [==============================] - 3s 81us/step - loss: 0.0946 - val_loss: 0.0972\n",
      "Epoch 14/50\n",
      "42000/42000 [==============================] - 3s 80us/step - loss: 0.0936 - val_loss: 0.0963\n",
      "Epoch 15/50\n",
      "42000/42000 [==============================] - 3s 81us/step - loss: 0.0927 - val_loss: 0.0962\n",
      "Epoch 16/50\n",
      "42000/42000 [==============================] - 3s 81us/step - loss: 0.0920 - val_loss: 0.0954\n",
      "Epoch 17/50\n",
      "42000/42000 [==============================] - 3s 82us/step - loss: 0.0913 - val_loss: 0.0942\n",
      "Epoch 18/50\n",
      "42000/42000 [==============================] - 3s 81us/step - loss: 0.0907 - val_loss: 0.0939\n",
      "Epoch 19/50\n",
      "42000/42000 [==============================] - 3s 80us/step - loss: 0.0901 - val_loss: 0.0930\n",
      "Epoch 20/50\n",
      "42000/42000 [==============================] - 3s 81us/step - loss: 0.0896 - val_loss: 0.0928\n",
      "Epoch 21/50\n",
      "42000/42000 [==============================] - 3s 81us/step - loss: 0.0891 - val_loss: 0.0917\n",
      "Epoch 22/50\n",
      "42000/42000 [==============================] - 3s 80us/step - loss: 0.0887 - val_loss: 0.0909\n",
      "Epoch 23/50\n",
      "42000/42000 [==============================] - 3s 81us/step - loss: 0.0883 - val_loss: 0.0906\n",
      "Epoch 24/50\n",
      "42000/42000 [==============================] - 3s 80us/step - loss: 0.0880 - val_loss: 0.0925\n",
      "Epoch 25/50\n",
      "42000/42000 [==============================] - 3s 80us/step - loss: 0.0877 - val_loss: 0.0901\n",
      "Epoch 26/50\n",
      "42000/42000 [==============================] - 3s 80us/step - loss: 0.0874 - val_loss: 0.0909\n",
      "Epoch 27/50\n",
      "42000/42000 [==============================] - 3s 82us/step - loss: 0.0871 - val_loss: 0.0898\n",
      "Epoch 28/50\n",
      "42000/42000 [==============================] - 3s 81us/step - loss: 0.0868 - val_loss: 0.0896\n",
      "Epoch 29/50\n",
      "42000/42000 [==============================] - 3s 80us/step - loss: 0.0866 - val_loss: 0.0895\n",
      "Epoch 30/50\n",
      "42000/42000 [==============================] - 3s 81us/step - loss: 0.0863 - val_loss: 0.0894\n",
      "Epoch 31/50\n",
      "42000/42000 [==============================] - 3s 82us/step - loss: 0.0861 - val_loss: 0.0884\n",
      "Epoch 32/50\n",
      "42000/42000 [==============================] - 3s 82us/step - loss: 0.0859 - val_loss: 0.0887\n",
      "Epoch 33/50\n",
      "42000/42000 [==============================] - 3s 82us/step - loss: 0.0857 - val_loss: 0.0886\n",
      "Epoch 34/50\n",
      "42000/42000 [==============================] - 3s 81us/step - loss: 0.0855 - val_loss: 0.0883\n",
      "Epoch 35/50\n",
      "42000/42000 [==============================] - 3s 81us/step - loss: 0.0853 - val_loss: 0.0879\n",
      "Epoch 36/50\n",
      "42000/42000 [==============================] - 3s 80us/step - loss: 0.0852 - val_loss: 0.0878\n",
      "Epoch 37/50\n",
      "42000/42000 [==============================] - 3s 81us/step - loss: 0.0850 - val_loss: 0.0877\n",
      "Epoch 38/50\n",
      "42000/42000 [==============================] - 3s 81us/step - loss: 0.0849 - val_loss: 0.0876\n",
      "Epoch 39/50\n",
      "42000/42000 [==============================] - 3s 81us/step - loss: 0.0847 - val_loss: 0.0877\n",
      "Epoch 40/50\n",
      "42000/42000 [==============================] - 3s 81us/step - loss: 0.0846 - val_loss: 0.0872\n",
      "Epoch 41/50\n",
      "42000/42000 [==============================] - 3s 81us/step - loss: 0.0844 - val_loss: 0.0872\n",
      "Epoch 42/50\n",
      "42000/42000 [==============================] - 3s 80us/step - loss: 0.0843 - val_loss: 0.0870\n",
      "Epoch 43/50\n",
      "42000/42000 [==============================] - 3s 81us/step - loss: 0.0842 - val_loss: 0.0872\n",
      "Epoch 44/50\n",
      "42000/42000 [==============================] - 3s 80us/step - loss: 0.0841 - val_loss: 0.0874\n",
      "Epoch 45/50\n",
      "42000/42000 [==============================] - 3s 81us/step - loss: 0.0840 - val_loss: 0.0864\n",
      "Epoch 46/50\n",
      "42000/42000 [==============================] - 3s 82us/step - loss: 0.0839 - val_loss: 0.0870\n",
      "Epoch 47/50\n",
      "42000/42000 [==============================] - 3s 82us/step - loss: 0.0838 - val_loss: 0.0862\n",
      "Epoch 48/50\n",
      "42000/42000 [==============================] - 3s 81us/step - loss: 0.0837 - val_loss: 0.0861\n",
      "Epoch 49/50\n",
      "42000/42000 [==============================] - 3s 82us/step - loss: 0.0836 - val_loss: 0.0858\n",
      "Epoch 50/50\n",
      "42000/42000 [==============================] - 3s 82us/step - loss: 0.0835 - val_loss: 0.0859\n"
     ]
    },
    {
     "data": {
      "text/plain": [
       "<keras.callbacks.History at 0x7f67825b65c0>"
      ]
     },
     "execution_count": 16,
     "metadata": {},
     "output_type": "execute_result"
    }
   ],
   "source": [
    "## Training the model\n",
    "print(\"noise_scale: \",noise_scale)\n",
    "autoencoder.fit(xtr_n,xtr_o,\n",
    "               epochs = 50,\n",
    "               batch_size = 128,\n",
    "               shuffle=True,\n",
    "               validation_data=(xval_n,xval_o),\n",
    "               callbacks = [TensorBoard(log_dir = '../logs/mnist_denseDAE', histogram_freq=0,write_graph=False)]\n",
    "                )"
   ]
  },
  {
   "cell_type": "code",
   "execution_count": 5,
   "metadata": {},
   "outputs": [
    {
     "ename": "NameError",
     "evalue": "name 'autoencoder' is not defined",
     "output_type": "error",
     "traceback": [
      "\u001b[0;31m------------------------------------------------\u001b[0m",
      "\u001b[0;31mNameError\u001b[0m      Traceback (most recent call last)",
      "\u001b[0;32m<ipython-input-5-4ca195d07216>\u001b[0m in \u001b[0;36m<module>\u001b[0;34m()\u001b[0m\n\u001b[1;32m      1\u001b[0m \u001b[0mxtest_o\u001b[0m\u001b[0;34m,\u001b[0m\u001b[0mxtest_n\u001b[0m \u001b[0;34m=\u001b[0m \u001b[0mcorrupt\u001b[0m\u001b[0;34m(\u001b[0m\u001b[0mxtest\u001b[0m\u001b[0;34m,\u001b[0m\u001b[0mscale\u001b[0m \u001b[0;34m=\u001b[0m\u001b[0;36m0.3\u001b[0m\u001b[0;34m)\u001b[0m\u001b[0;34m\u001b[0m\u001b[0m\n\u001b[0;32m----> 2\u001b[0;31m \u001b[0mdecoded_imgs\u001b[0m \u001b[0;34m=\u001b[0m \u001b[0mautoencoder\u001b[0m\u001b[0;34m.\u001b[0m\u001b[0mpredict\u001b[0m\u001b[0;34m(\u001b[0m\u001b[0mxtest_n\u001b[0m\u001b[0;34m)\u001b[0m\u001b[0;34m\u001b[0m\u001b[0m\n\u001b[0m\u001b[1;32m      3\u001b[0m \u001b[0;34m\u001b[0m\u001b[0m\n\u001b[1;32m      4\u001b[0m \u001b[0mn\u001b[0m\u001b[0;34m=\u001b[0m\u001b[0;36m10\u001b[0m\u001b[0;34m\u001b[0m\u001b[0m\n\u001b[1;32m      5\u001b[0m \u001b[0mplt\u001b[0m\u001b[0;34m.\u001b[0m\u001b[0mfigure\u001b[0m\u001b[0;34m(\u001b[0m\u001b[0mfigsize\u001b[0m \u001b[0;34m=\u001b[0m \u001b[0;34m(\u001b[0m\u001b[0;36m20\u001b[0m\u001b[0;34m,\u001b[0m\u001b[0;36m4\u001b[0m\u001b[0;34m)\u001b[0m\u001b[0;34m)\u001b[0m\u001b[0;34m\u001b[0m\u001b[0m\n",
      "\u001b[0;31mNameError\u001b[0m: name 'autoencoder' is not defined"
     ]
    }
   ],
   "source": [
    "xtest_o,xtest_n = corrupt(xtest,scale =0.3)\n",
    "decoded_imgs = autoencoder.predict(xtest_n)\n",
    "\n",
    "n=10\n",
    "plt.figure(figsize = (20,4))\n",
    "for i in range(n):\n",
    "    # Display Original\n",
    "    ax = plt.subplot(2,n,i+1)\n",
    "    plt.imshow(xtest_n[i].reshape(28,28))\n",
    "    plt.gray()\n",
    "    ax.get_xaxis().set_visible(False)\n",
    "    ax .get_yaxis().set_visible(False)\n",
    "    \n",
    "    # Display Reconstruction\n",
    "    ax = plt.subplot(2,n,i+1+n)\n",
    "    plt.imshow(decoded_imgs[i].reshape(28,28))\n",
    "    plt.gray()\n",
    "    ax.get_xaxis().set_visible(False)\n",
    "    ax.get_yaxis().set_visible(False)\n",
    "\n",
    "plt.show()"
   ]
  },
  {
   "cell_type": "markdown",
   "metadata": {},
   "source": [
    "# CNN Classifier"
   ]
  },
  {
   "cell_type": "code",
   "execution_count": 6,
   "metadata": {},
   "outputs": [],
   "source": [
    "### Construct Classifier\n",
    "X_train = xtrain.reshape(xtrain.shape[0],28,28,1)\n",
    "Y_train = np_utils.to_categorical(y_train)\n",
    "X_test = xtest.reshape(xtest.shape[0],28,28,1)\n",
    "Y_test = np_utils.to_categorical(y_test)\n",
    "#Y_test = y_test\n",
    "## in this example, we used sparse cross entropy loss!\n",
    "num_classes = 10\n",
    "Xtr, Xval, Ytr, Yval = tts(X_train,Y_train,test_size = 0.3)\n",
    "#Xtr, Xval, Ytr, Yval = tts(Xtr,Ytr,test_size = 0.3)"
   ]
  },
  {
   "cell_type": "code",
   "execution_count": 7,
   "metadata": {},
   "outputs": [
    {
     "name": "stdout",
     "output_type": "stream",
     "text": [
      "(42000, 10)\n"
     ]
    }
   ],
   "source": [
    "print(Ytr.shape)"
   ]
  },
  {
   "cell_type": "code",
   "execution_count": 8,
   "metadata": {},
   "outputs": [],
   "source": [
    "def cnn_model_explicit(x,train_mode = True):\n",
    "    \n",
    "    with tf.variable_scope(\"CLF\",reuse = tf.AUTO_REUSE) as vs:\n",
    "        conv1 = tf.layers.conv2d(inputs = x, filters=32,\n",
    "                            kernel_size=[5,5], padding='same',\n",
    "                            activation= tf.nn.relu)\n",
    "        pool1 = tf.layers.max_pooling2d(inputs=conv1, pool_size = [2,2],\n",
    "                                   strides = 2)\n",
    "        conv2 = tf.layers.conv2d(inputs = pool1,\n",
    "                            filters = 64, kernel_size = [5,5],\n",
    "                            padding = 'same', activation = tf.nn.relu)\n",
    "        pool2 = tf.layers.max_pooling2d(inputs = conv2, pool_size = [2,2],\n",
    "                                    strides = 2)\n",
    "        pool2_flat = tf.layers.flatten(pool2)\n",
    "        dense = tf.layers.dense(inputs = pool2_flat,units=1024, \n",
    "                            activation = tf.nn.relu)\n",
    "        dropout = tf.layers.dropout(inputs=dense, rate=0.4, \n",
    "                                training =train_mode)\n",
    "        logits = tf.layers.dense(inputs=dropout, units = 10)\n",
    "    variables = tf.contrib.framework.get_variables(vs)\n",
    "    return logits, variables"
   ]
  },
  {
   "cell_type": "code",
   "execution_count": 26,
   "metadata": {},
   "outputs": [],
   "source": [
    "class Mnist_CNN:\n",
    "    def __init__(self,trainX,trainY,num_batch=128,num_epoch=10,lr = 1e-3,val_ratio = 0.3):\n",
    "        self.trainX = trainX\n",
    "        self.trainY = trainY\n",
    "        self.val_ratio = val_ratio\n",
    "        self.num_data = len(trainY)\n",
    "        self.num_batch = num_batch\n",
    "        self.num_epoch = num_epoch\n",
    "        self.lr = lr\n",
    "        self.build_model()\n",
    "        self.sess = tf.Session()\n",
    "        self.saver = tf.train.Saver()\n",
    "        \n",
    "    def build_model(self):\n",
    "        self.input_imgs = tf.placeholder(tf.float32,shape=(None,28,28,1))\n",
    "        self.labels = tf.placeholder(tf.int32,shape=(None,10))\n",
    "        self.eval_imgs = tf.placeholder(tf.float32,shape=(None,28,28,1))\n",
    "        self.labels_eval = tf.placeholder(tf.int32,shape=(None,10))\n",
    "        self.logits, self.clf_variables = cnn_model_explicit(self.input_imgs)\n",
    "        self.y_pred = tf.nn.softmax(self.logits,name = \"prediction\")\n",
    "        self.logit_eval,_ = cnn_model_explicit(self.eval_imgs,train_mode = False)\n",
    "        self.y_eval = tf.nn.softmax(self.logit_eval,name=\"evaluation\")\n",
    "        self.loss = tf.reduce_mean(tf.nn.softmax_cross_entropy_with_logits(labels = self.labels,logits = self.logits))\n",
    "        #self.loss_eval = tf.reduce_mean()\n",
    "        with tf.variable_scope('TrainVal',reuse=tf.AUTO_REUSE):\n",
    "            self.train_step = tf.train.RMSPropOptimizer(self.lr).minimize(self.loss,var_list = self.clf_variables)\n",
    "            correct_prediction = tf.equal(tf.argmax(self.y_eval, 1), tf.argmax(self.labels_eval, 1))\n",
    "            self.accuracy = tf.reduce_mean(tf.cast(correct_prediction, tf.float32))\n",
    "    def train(self,save_path = \"../logs/mnist_CNN_clf.ckpt\"):\n",
    "        Xtr, Xval, Ytr, Yval = tts(self.trainX,self.trainY,test_size = self.val_ratio)\n",
    "        self.sess.run(tf.global_variables_initializer())\n",
    "        self.batch_gen = Next_Batch(int(self.num_data*self.val_ratio),self.num_batch)\n",
    "        num_iter = self.num_epoch*self.batch_gen.batch_len\n",
    "        for i in range(num_iter):\n",
    "            batch_idxs = self.batch_gen.get_batch()\n",
    "            X_batch = Xtr[batch_idxs]\n",
    "            Y_batch = Ytr[batch_idxs]\n",
    "            self.sess.run(self.train_step, feed_dict = {self.input_imgs:X_batch,\n",
    "                                                        self.labels:Y_batch})\n",
    "            if i%500 ==0:\n",
    "                train_loss,train_acc = self.sess.run([self.loss,self.accuracy], feed_dict = \\\n",
    "                                        {self.input_imgs:X_batch,self.labels:Y_batch,\n",
    "                                        self.eval_imgs:Xtr,self.labels_eval:Ytr})\n",
    "                val_acc = self.sess.run(self.accuracy,feed_dict = {self.eval_imgs:Xval,self.labels_eval:Yval})\n",
    "                print(\"[{}/{}] Loss: {:.6f} Train_Acc: {:.4f} Val_Acc: {:.4f}\".\\\n",
    "                  format(i,num_iter,train_loss,train_acc,val_acc))\n",
    "        self.save_path = self.saver.save(self.sess,save_path) \n",
    "        print(\"saved path: \",self.save_path)\n",
    "    def predict(self,testX):\n",
    "        y_pred = self.sess.run(self.y_eval,feed_dict = {self.eval_imgs:testX})\n",
    "        return y_pred\n",
    "    \n",
    "    def accuracy_score(self,testX,testY):\n",
    "        acc = self.sess.run(self.accuracy,feed_dict = {self.eval_imgs:testX, self.labels_eval:testY})\n",
    "        return acc\n",
    "    def restore(self,ckpt_path = None):\n",
    "        if ckpt_path is None:\n",
    "            print('Please, specify the path for checkpoint')\n",
    "        else:\n",
    "            self.saver.restore(self.sess,ckpt_path)\n",
    "            print(\"Success!\")\n",
    "            \n",
    "        "
   ]
  },
  {
   "cell_type": "code",
   "execution_count": 27,
   "metadata": {},
   "outputs": [],
   "source": [
    "class Next_Batch:\n",
    "    def __init__(self, num_data, num_batch, idxs = None):\n",
    "        self.num_data = num_data\n",
    "        self.num_batch = num_batch\n",
    "        self.idxs = None\n",
    "        self.batch_len = int(num_data/num_batch)\n",
    "        self.idxs = np.arange(0,num_data)\n",
    "        np.random.shuffle(self.idxs)\n",
    "        self.elapsed_batch = 0\n",
    "        self.num_epoch = 0\n",
    "    def shuffle_idxs(self):\n",
    "        np.random.shuffle(self.idxs)\n",
    "    def get_batch(self):\n",
    "        if self.elapsed_batch>self.batch_len-1:\n",
    "            self.shuffle_idxs()\n",
    "            self.elapsed_batch = 0\n",
    "            self.num_epoch += 1\n",
    "        self.elapsed_batch += 1\n",
    "        return self.idxs[(self.elapsed_batch-1)*self.num_batch:self.elapsed_batch*self.num_batch]\n",
    "        \n",
    "        "
   ]
  },
  {
   "cell_type": "code",
   "execution_count": 4,
   "metadata": {},
   "outputs": [],
   "source": [
    "import sys\n",
    "sys.path.append('../')\n",
    "from mnist_clf import *"
   ]
  },
  {
   "cell_type": "code",
   "execution_count": 7,
   "metadata": {},
   "outputs": [
    {
     "name": "stdout",
     "output_type": "stream",
     "text": [
      "(60000, 10)\n"
     ]
    }
   ],
   "source": [
    "mnist_cnn = Mnist_CNN(X_train,Y_train)\n",
    "print(Y_train.shape)"
   ]
  },
  {
   "cell_type": "code",
   "execution_count": 8,
   "metadata": {},
   "outputs": [
    {
     "name": "stdout",
     "output_type": "stream",
     "text": [
      "[0/1400] Loss: 2.306130 Train_Acc: 0.1456 Val_Acc: 0.1494\n",
      "[500/1400] Loss: 0.275151 Train_Acc: 0.8829 Val_Acc: 0.8754\n",
      "[1000/1400] Loss: 0.062096 Train_Acc: 0.9146 Val_Acc: 0.8974\n",
      "saved path:  ../logs/fashion_mnist_CNN_clf.ckpt\n"
     ]
    }
   ],
   "source": [
    "mnist_cnn.train(\"../logs/fashion_mnist_CNN_clf.ckpt\")\n",
    "#mnist_cnn.restore('../logs/fashion_mnist_CNN_clf.ckpt')"
   ]
  },
  {
   "cell_type": "code",
   "execution_count": 9,
   "metadata": {},
   "outputs": [
    {
     "data": {
      "text/plain": [
       "0.88510001"
      ]
     },
     "execution_count": 9,
     "metadata": {},
     "output_type": "execute_result"
    }
   ],
   "source": [
    "mnist_cnn.accuracy_score(X_test,Y_test)"
   ]
  },
  {
   "cell_type": "code",
   "execution_count": 10,
   "metadata": {},
   "outputs": [
    {
     "name": "stdout",
     "output_type": "stream",
     "text": [
      "(10000, 10)\n",
      "(10000, 28, 28, 1)\n"
     ]
    }
   ],
   "source": [
    "print(Y_test.shape)\n",
    "X_test = xtest.reshape(xtest.shape[0],28,28,1)\n",
    "Y_test = np_utils.to_categorical(y_test)\n",
    "print(X_test.shape)"
   ]
  },
  {
   "cell_type": "code",
   "execution_count": 11,
   "metadata": {},
   "outputs": [
    {
     "name": "stdout",
     "output_type": "stream",
     "text": [
      "0.2494\n"
     ]
    }
   ],
   "source": [
    "_,xtest_n = corrupt(X_test,scale =0.3,noise_type = 'peppSalt')\n",
    "test_acc = mnist_cnn.sess.run(mnist_cnn.accuracy,feed_dict = {mnist_cnn.eval_imgs:xtest_n,mnist_cnn.labels_eval:Y_test})\n",
    "print(test_acc)"
   ]
  },
  {
   "cell_type": "code",
   "execution_count": 12,
   "metadata": {},
   "outputs": [
    {
     "name": "stdout",
     "output_type": "stream",
     "text": [
      "0.2494\n"
     ]
    }
   ],
   "source": [
    "print(mnist_cnn.accuracy_score(xtest_n,Y_test))"
   ]
  },
  {
   "cell_type": "code",
   "execution_count": null,
   "metadata": {},
   "outputs": [],
   "source": [
    "## original: 0.9710\n",
    "## noised: 0.9463\n",
    "## reconstructed: 0.9557\n",
    "# clean: 0.9942\n",
    "# Gaussian: 0.9798(0.3)\n",
    "# Corruption: 0.946(0.3)\n",
    "# Pepp-and-salt: 0.7881(0.3)\n",
    "\n",
    "##Fashion_mnist\n",
    "#original: 0.8998\n",
    "#gaussian: 0.6013\n",
    "#corruption: 0.7622\n",
    "#peppSalt: 0.3199"
   ]
  },
  {
   "cell_type": "code",
   "execution_count": 13,
   "metadata": {},
   "outputs": [
    {
     "data": {
      "image/png": "[encoded data removed]",
      "text/plain": [
       "<matplotlib.figure.Figure at 0x7f12545becc0>"
      ]
     },
     "metadata": {},
     "output_type": "display_data"
    }
   ],
   "source": [
    "n=10\n",
    "plt.figure(figsize = (20,4))\n",
    "for i in range(n):\n",
    "    # Display Original\n",
    "    ax = plt.subplot(2,n,i+1)\n",
    "    plt.imshow(xtest_n[i].reshape(28,28))\n",
    "    plt.gray()\n",
    "    ax.get_xaxis().set_visible(False)\n",
    "    ax .get_yaxis().set_visible(False)\n",
    "    \n",
    "    # Display Reconstruction\n",
    "    ax = plt.subplot(2,n,i+1+n)\n",
    "    plt.imshow(X_test[i].reshape(28,28))\n",
    "    plt.gray()\n",
    "    ax.get_xaxis().set_visible(False)\n",
    "    ax.get_yaxis().set_visible(False)\n",
    "\n",
    "plt.show()"
   ]
  },
  {
   "cell_type": "code",
   "execution_count": 81,
   "metadata": {},
   "outputs": [
    {
     "name": "stdout",
     "output_type": "stream",
     "text": [
      "0.03137254901960784\n"
     ]
    }
   ],
   "source": [
    "print(8./255.)"
   ]
  },
  {
   "cell_type": "markdown",
   "metadata": {},
   "source": [
    "# Adversarial Attacks"
   ]
  },
  {
   "cell_type": "code",
   "execution_count": 97,
   "metadata": {},
   "outputs": [],
   "source": [
    "from scipy.misc import imsave"
   ]
  },
  {
   "cell_type": "code",
   "execution_count": 107,
   "metadata": {},
   "outputs": [
    {
     "name": "stdout",
     "output_type": "stream",
     "text": [
      "mnist_test_12884_1_10\n"
     ]
    }
   ],
   "source": [
    "print(\"mnist_test_%d_%d_%d\"%(12884,1,10))"
   ]
  },
  {
   "cell_type": "code",
   "execution_count": 14,
   "metadata": {},
   "outputs": [
    {
     "ename": "NameError",
     "evalue": "name 'Xtest' is not defined",
     "output_type": "error",
     "traceback": [
      "\u001b[0;31m------------------------------------------------------------------\u001b[0m",
      "\u001b[0;31mNameError\u001b[0m                        Traceback (most recent call last)",
      "\u001b[0;32m<ipython-input-14-14a0795da3bc>\u001b[0m in \u001b[0;36m<module>\u001b[0;34m()\u001b[0m\n\u001b[0;32m----> 1\u001b[0;31m \u001b[0mmnist_cnn\u001b[0m\u001b[0;34m.\u001b[0m\u001b[0mtargeted_attack\u001b[0m\u001b[0;34m(\u001b[0m\u001b[0mX_test\u001b[0m\u001b[0;34m,\u001b[0m\u001b[0mY_test\u001b[0m\u001b[0;34m)\u001b[0m\u001b[0;34m\u001b[0m\u001b[0m\n\u001b[0m",
      "\u001b[0;32m~/saerom/PAE/mnist_clf.py\u001b[0m in \u001b[0;36mtargeted_attack\u001b[0;34m(self, testX, testY, alpha, max_iter, eps, save_path)\u001b[0m\n\u001b[1;32m    146\u001b[0m         \u001b[0mgrad\u001b[0m \u001b[0;34m=\u001b[0m \u001b[0mtf\u001b[0m\u001b[0;34m.\u001b[0m\u001b[0mgradients\u001b[0m\u001b[0;34m(\u001b[0m\u001b[0madv_loss\u001b[0m\u001b[0;34m,\u001b[0m\u001b[0madv_imgs\u001b[0m\u001b[0;34m)\u001b[0m\u001b[0;34m\u001b[0m\u001b[0m\n\u001b[1;32m    147\u001b[0m \u001b[0;34m\u001b[0m\u001b[0m\n\u001b[0;32m--> 148\u001b[0;31m         \u001b[0mself\u001b[0m\u001b[0;34m.\u001b[0m\u001b[0madvX\u001b[0m \u001b[0;34m=\u001b[0m \u001b[0mnp\u001b[0m\u001b[0;34m.\u001b[0m\u001b[0mcopy\u001b[0m\u001b[0;34m(\u001b[0m\u001b[0mXtest\u001b[0m\u001b[0;34m)\u001b[0m\u001b[0;34m.\u001b[0m\u001b[0mastype\u001b[0m\u001b[0;34m(\u001b[0m\u001b[0;34m'float32'\u001b[0m\u001b[0;34m)\u001b[0m\u001b[0;34m\u001b[0m\u001b[0m\n\u001b[0m\u001b[1;32m    149\u001b[0m         \u001b[0myte\u001b[0m \u001b[0;34m=\u001b[0m \u001b[0mnp\u001b[0m\u001b[0;34m.\u001b[0m\u001b[0margmax\u001b[0m\u001b[0;34m(\u001b[0m\u001b[0mY_test\u001b[0m\u001b[0;34m,\u001b[0m\u001b[0maxis\u001b[0m\u001b[0;34m=\u001b[0m\u001b[0;36m1\u001b[0m\u001b[0;34m)\u001b[0m\u001b[0;34m\u001b[0m\u001b[0m\n\u001b[1;32m    150\u001b[0m         \u001b[0myte_adv\u001b[0m \u001b[0;34m=\u001b[0m \u001b[0;34m(\u001b[0m\u001b[0myte\u001b[0m\u001b[0;34m+\u001b[0m\u001b[0mnp\u001b[0m\u001b[0;34m.\u001b[0m\u001b[0mrandom\u001b[0m\u001b[0;34m.\u001b[0m\u001b[0mrandint\u001b[0m\u001b[0;34m(\u001b[0m\u001b[0mlow\u001b[0m\u001b[0;34m=\u001b[0m\u001b[0;36m1\u001b[0m\u001b[0;34m,\u001b[0m\u001b[0mhugh\u001b[0m\u001b[0;34m=\u001b[0m\u001b[0;36m9\u001b[0m\u001b[0;34m,\u001b[0m\u001b[0msize\u001b[0m\u001b[0;34m=\u001b[0m\u001b[0;34m(\u001b[0m\u001b[0mY_test\u001b[0m\u001b[0;34m.\u001b[0m\u001b[0mshape\u001b[0m\u001b[0;34m[\u001b[0m\u001b[0;36m0\u001b[0m\u001b[0;34m]\u001b[0m\u001b[0;34m,\u001b[0m\u001b[0;34m)\u001b[0m\u001b[0;34m)\u001b[0m\u001b[0;34m)\u001b[0m\u001b[0;34m%\u001b[0m\u001b[0;36m10\u001b[0m\u001b[0;34m\u001b[0m\u001b[0m\n",
      "\u001b[0;31mNameError\u001b[0m: name 'Xtest' is not defined"
     ]
    }
   ],
   "source": [
    "mnist_cnn.targeted_attack(X_test,Y_test)"
   ]
  },
  {
   "cell_type": "code",
   "execution_count": 105,
   "metadata": {},
   "outputs": [
    {
     "name": "stderr",
     "output_type": "stream",
     "text": [
      "ERROR:root:Internal Python error in the inspect module.\n",
      "Below is the traceback from this internal error.\n",
      "\n"
     ]
    },
    {
     "name": "stdout",
     "output_type": "stream",
     "text": [
      "Traceback (most recent call last):\n",
      "  File \"/home/slcf/.pyenv/versions/keras36/lib/python3.6/site-packages/IPython/core/interactiveshell.py\", line 2910, in run_code\n",
      "    exec(code_obj, self.user_global_ns, self.user_ns)\n",
      "  File \"<ipython-input-105-71fbe0c0be75>\", line 31, in <module>\n",
      "    np.save('test',X_adv)\n",
      "  File \"/home/slcf/.pyenv/versions/keras36/lib/python3.6/site-packages/numpy/lib/npyio.py\", line 490, in save\n",
      "    fid = open(file, \"wb\")\n",
      "FileNotFoundError: [Errno 2] No such file or directory: 'test.npy'\n",
      "\n",
      "During handling of the above exception, another exception occurred:\n",
      "\n",
      "Traceback (most recent call last):\n",
      "  File \"/home/slcf/.pyenv/versions/keras36/lib/python3.6/site-packages/IPython/core/interactiveshell.py\", line 1828, in showtraceback\n",
      "    stb = value._render_traceback_()\n",
      "AttributeError: 'FileNotFoundError' object has no attribute '_render_traceback_'\n",
      "\n",
      "During handling of the above exception, another exception occurred:\n",
      "\n",
      "Traceback (most recent call last):\n",
      "  File \"/home/slcf/.pyenv/versions/keras36/lib/python3.6/site-packages/IPython/core/ultratb.py\", line 1090, in get_records\n",
      "    return _fixed_getinnerframes(etb, number_of_lines_of_context, tb_offset)\n",
      "  File \"/home/slcf/.pyenv/versions/keras36/lib/python3.6/site-packages/IPython/core/ultratb.py\", line 311, in wrapped\n",
      "    return f(*args, **kwargs)\n",
      "  File \"/home/slcf/.pyenv/versions/keras36/lib/python3.6/site-packages/IPython/core/ultratb.py\", line 345, in _fixed_getinnerframes\n",
      "    records = fix_frame_records_filenames(inspect.getinnerframes(etb, context))\n",
      "  File \"/home/slcf/.pyenv/versions/3.6.2/lib/python3.6/inspect.py\", line 1480, in getinnerframes\n",
      "    frameinfo = (tb.tb_frame,) + getframeinfo(tb, context)\n",
      "  File \"/home/slcf/.pyenv/versions/3.6.2/lib/python3.6/inspect.py\", line 1438, in getframeinfo\n",
      "    filename = getsourcefile(frame) or getfile(frame)\n",
      "  File \"/home/slcf/.pyenv/versions/3.6.2/lib/python3.6/inspect.py\", line 693, in getsourcefile\n",
      "    if getattr(getmodule(object, filename), '__loader__', None) is not None:\n",
      "  File \"/home/slcf/.pyenv/versions/3.6.2/lib/python3.6/inspect.py\", line 722, in getmodule\n",
      "    file = getabsfile(object, _filename)\n",
      "  File \"/home/slcf/.pyenv/versions/3.6.2/lib/python3.6/inspect.py\", line 706, in getabsfile\n",
      "    return os.path.normcase(os.path.abspath(_filename))\n",
      "  File \"/home/slcf/.pyenv/versions/3.6.2/lib/python3.6/posixpath.py\", line 374, in abspath\n",
      "    cwd = os.getcwd()\n",
      "FileNotFoundError: [Errno 2] No such file or directory\n"
     ]
    },
    {
     "ename": "FileNotFoundError",
     "evalue": "[Errno 2] No such file or directory: 'test.npy'",
     "output_type": "error",
     "traceback": [
      "\u001b[0;31m---------------------------------------------------------------------------\u001b[0m"
     ]
    }
   ],
   "source": [
    "#adv_imgs = tf.placeholder(tf.float32,shape=(None,28,28,1))\n",
    "labels_test = tf.placeholder(tf.int32,shape=(None,10))\n",
    "y_te = np.argmax(Y_test,axis=1)\n",
    "yte_adv = (np.argmax(Y_test,axis=1) + np.random.randint(low=1,high=9,size = (Y_test.shape[0],)))%10\n",
    "Y_adv = np_utils.to_categorical(yte_adv)\n",
    "#logit_test,_ = cnn_model_explicit(adv_imgs,train_mode = False)\n",
    "#print(logit_test)\n",
    "adv_loss = tf.nn.softmax_cross_entropy_with_logits(logits=mnist_cnn.logit_eval,\n",
    "                                                  labels=labels_test)\n",
    "grad = tf.gradients(adv_loss,mnist_cnn.eval_imgs)\n",
    "adv = np.copy(X_test).astype('float32')\n",
    "eps = 32./255.\n",
    "max_iter = 20\n",
    "alpha = 0.1\n",
    "adv_list = []\n",
    "for i in range(20):\n",
    "    tmp = adv[i].reshape(1,28,28,1)\n",
    "    #print(np.expand_dims(tmp,0).shape)\n",
    "    lower = np.clip(tmp-eps,0,1)\n",
    "    upper = np.clip(tmp+eps,0,1)\n",
    "    \n",
    "    for iter in range(max_iter):\n",
    "        g = mnist_cnn.sess.run(grad,{mnist_cnn.eval_imgs:tmp,labels_test:np.expand_dims(Y_adv[i],0)})\n",
    "        tmp = tmp - alpha*np.sign(g[0])\n",
    "        tmp = np.clip(tmp,lower,upper)\n",
    "        #print(np.sum(tmp[0]-np.clip(adv[i],lower,upper)))\n",
    "    adv_list.append(list(tmp[0]))\n",
    "    #imsave(\"../data/advX_\"+str(i)+'_'+str(y_te[i])+'_'+str(yte_adv[i])+\".png\",tmp[0])\n",
    "#print(adv_list)\n",
    "X_adv = np.array(adv_list)\n",
    "\n",
    "np.save('test',X_adv)\n",
    "\n",
    "\n"
   ]
  },
  {
   "cell_type": "code",
   "execution_count": 95,
   "metadata": {},
   "outputs": [],
   "source": [
    "adv_loss =tf.nn.softmax_cross_entropy_with_logits(logits=mnist_cnn.logit_eval,\n",
    "                                                  labels=labels_test)\n",
    "grad = tf.gradients(adv_loss,mnist_cnn.eval_imgs)"
   ]
  },
  {
   "cell_type": "code",
   "execution_count": 96,
   "metadata": {},
   "outputs": [
    {
     "name": "stdout",
     "output_type": "stream",
     "text": [
      "[<tf.Tensor 'gradients_10/CLF_9/conv2d/Conv2D_grad/Conv2DBackpropInput:0' shape=(?, 28, 28, 1) dtype=float32>]\n"
     ]
    }
   ],
   "source": [
    "print(grad)"
   ]
  },
  {
   "cell_type": "code",
   "execution_count": 84,
   "metadata": {},
   "outputs": [
    {
     "data": {
      "image/png": "[encoded data removed]",
      "text/plain": [
       "<matplotlib.figure.Figure at 0x7efebd96ac18>"
      ]
     },
     "metadata": {},
     "output_type": "display_data"
    }
   ],
   "source": [
    "plt.hist(g[0].flatten())\n",
    "plt.show()"
   ]
  },
  {
   "cell_type": "code",
   "execution_count": 92,
   "metadata": {},
   "outputs": [
    {
     "name": "stdout",
     "output_type": "stream",
     "text": [
      "0.8\n"
     ]
    }
   ],
   "source": [
    "print(mnist_cnn.accuracy_score(X_adv[:20],Y_adv[:20]))"
   ]
  },
  {
   "cell_type": "code",
   "execution_count": 90,
   "metadata": {},
   "outputs": [
    {
     "name": "stdout",
     "output_type": "stream",
     "text": [
      "20\n"
     ]
    },
    {
     "data": {
      "image/png": "[encoded data removed]",
      "text/plain": [
       "<matplotlib.figure.Figure at 0x7efebddfe9b0>"
      ]
     },
     "metadata": {},
     "output_type": "display_data"
    }
   ],
   "source": [
    "print(len(adv_list))\n",
    "\n",
    "n=10\n",
    "plt.figure(figsize = (20,4))\n",
    "for i in range(n):\n",
    "    # Display Original\n",
    "    ax = plt.subplot(2,n,i+1)\n",
    "    plt.imshow(X_adv[i].reshape(28,28))\n",
    "    plt.gray()\n",
    "    ax.get_xaxis().set_visible(False)\n",
    "    ax .get_yaxis().set_visible(False)\n",
    "    \n",
    "    # Display Reconstruction\n",
    "    ax = plt.subplot(2,n,i+1+n)\n",
    "    plt.imshow(X_test[i].reshape(28,28))\n",
    "    plt.gray()\n",
    "    ax.get_xaxis().set_visible(False)\n",
    "    ax.get_yaxis().set_visible(False)\n",
    "\n",
    "plt.show()"
   ]
  },
  {
   "cell_type": "code",
   "execution_count": null,
   "metadata": {},
   "outputs": [],
   "source": [
    "## Try to obtain adversarial examples\n",
    "grad= K.gradients(clf_model.total_loss,clf_model.input)\n",
    "yte = np.argmax(Yte,axis=1)\n",
    "yte_adv = (np.argmax(Yte,axis=1) + np.random.randint(low=1,high=9,size = (Yte.shape[0],)))%10\n",
    "\n",
    "adv = np.copy(Xte)\n",
    "n_test = len(yte)\n",
    "\n",
    "for i in range(n_test):\n",
    "    tmp = adv[i]\n",
    "    lower = np.clip(tmp-eps,0,1)\n",
    "    upper = np.clip(tmp+eps,0,1)\n",
    "    \n",
    "    for iter in range(10):\n",
    "        g = grad.predict(tmp)"
   ]
  },
  {
   "cell_type": "code",
   "execution_count": null,
   "metadata": {},
   "outputs": [],
   "source": []
  }
 ],
 "metadata": {
  "kernelspec": {
   "display_name": "Python keras36",
   "language": "python",
   "name": "keras36"
  },
  "language_info": {
   "codemirror_mode": {
    "name": "ipython",
    "version": 3
   },
   "file_extension": ".py",
   "mimetype": "text/x-python",
   "name": "python",
   "nbconvert_exporter": "python",
   "pygments_lexer": "ipython3",
   "version": "3.6.2"
  }
 },
 "nbformat": 4,
 "nbformat_minor": 2
}
