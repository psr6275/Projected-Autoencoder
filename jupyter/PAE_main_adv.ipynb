{
 "cells": [
  {
   "cell_type": "code",
   "execution_count": 3,
   "metadata": {},
   "outputs": [],
   "source": [
    "from keras.layers import Input, Dense,Dropout, Flatten,Lambda\n",
    "from keras.models import Model,Sequential\n",
    "from sklearn.model_selection import train_test_split as tts\n",
    "from keras.callbacks import TensorBoard\n",
    "import matplotlib.pyplot as plt\n",
    "from keras.utils import np_utils,plot_model\n",
    "from keras.layers.convolutional import Convolution2D,MaxPooling2D,Conv2D\n",
    "from keras import backend as K\n",
    "from keras.losses import categorical_hinge,categorical_crossentropy\n",
    "import tensorflow as tf"
   ]
  },
  {
   "cell_type": "code",
   "execution_count": 4,
   "metadata": {},
   "outputs": [
    {
     "name": "stdout",
     "output_type": "stream",
     "text": [
      "Downloading data from http://fashion-mnist.s3-website.eu-central-1.amazonaws.com/train-labels-idx1-ubyte.gz\n",
      "32768/29515 [=================================] - 0s 4us/step\n",
      "Downloading data from http://fashion-mnist.s3-website.eu-central-1.amazonaws.com/train-images-idx3-ubyte.gz\n",
      "26427392/26421880 [==============================] - 85s 3us/step\n",
      "Downloading data from http://fashion-mnist.s3-website.eu-central-1.amazonaws.com/t10k-labels-idx1-ubyte.gz\n",
      "8192/5148 [===============================================] - 0s 2us/step\n",
      "Downloading data from http://fashion-mnist.s3-website.eu-central-1.amazonaws.com/t10k-images-idx3-ubyte.gz\n",
      "4423680/4422102 [==============================] - 14s 3us/step\n"
     ]
    }
   ],
   "source": [
    "from keras.datasets import fashion_mnist as mnist\n",
    "import numpy as np\n",
    "(x_train,y_train),(x_test,y_test) = mnist.load_data()"
   ]
  },
  {
   "cell_type": "code",
   "execution_count": 5,
   "metadata": {},
   "outputs": [],
   "source": [
    "x_train = x_train.astype('float32')/255.0\n",
    "x_test = x_test.astype('float32')/255.0\n",
    "## Make the input image flat\n",
    "n_features = np.prod(x_train.shape[1:])\n",
    "xtrain = x_train.reshape((len(x_train),n_features))\n",
    "xtest = x_test.reshape((len(x_test),n_features))"
   ]
  },
  {
   "cell_type": "code",
   "execution_count": 6,
   "metadata": {},
   "outputs": [],
   "source": [
    "### Construct Classifier\n",
    "X_train = xtrain.reshape(xtrain.shape[0],28,28,1)\n",
    "Y_train = np_utils.to_categorical(y_train)\n",
    "X_test = xtest.reshape(xtest.shape[0],28,28,1)\n",
    "Y_test = np_utils.to_categorical(y_test)\n",
    "#Y_test = y_test\n",
    "## in this example, we used sparse cross entropy loss!\n",
    "num_classes = 10\n",
    "Xtr, Xval, Ytr, Yval = tts(X_train,Y_train,test_size = 0.3)\n",
    "#Xtr, Xval, Ytr, Yval = tts(Xtr,Ytr,test_size = 0.3)"
   ]
  },
  {
   "cell_type": "code",
   "execution_count": 7,
   "metadata": {},
   "outputs": [],
   "source": [
    "import sys\n",
    "sys.path.append('../')\n",
    "from mnist_clf import *\n",
    "from mnist_dae import *"
   ]
  },
  {
   "cell_type": "markdown",
   "metadata": {},
   "source": [
    "# Training Classifier"
   ]
  },
  {
   "cell_type": "code",
   "execution_count": 8,
   "metadata": {},
   "outputs": [
    {
     "name": "stdout",
     "output_type": "stream",
     "text": [
      "WARNING:tensorflow:From ../mnist_clf.py:81: softmax_cross_entropy_with_logits (from tensorflow.python.ops.nn_ops) is deprecated and will be removed in a future version.\n",
      "Instructions for updating:\n",
      "\n",
      "Future major versions of TensorFlow will allow gradients to flow\n",
      "into the labels input on backprop by default.\n",
      "\n",
      "See `tf.nn.softmax_cross_entropy_with_logits_v2`.\n",
      "\n"
     ]
    }
   ],
   "source": [
    "mnist_cnn = Mnist_CNN(X_train,Y_train)"
   ]
  },
  {
   "cell_type": "code",
   "execution_count": 9,
   "metadata": {},
   "outputs": [
    {
     "name": "stdout",
     "output_type": "stream",
     "text": [
      "[0/1400] Loss: 2.309857 Train_Acc: 0.0737 Val_Acc: 0.0781\n",
      "[500/1400] Loss: 0.134700 Train_Acc: 0.8862 Val_Acc: 0.8800\n",
      "[1000/1400] Loss: 0.185010 Train_Acc: 0.8984 Val_Acc: 0.8828\n",
      "saved path:  ../logs/../logs/fashion_mnist_CNN_clf.ckpt\n"
     ]
    }
   ],
   "source": [
    "mnist_cnn.train(\"../logs/fashion_mnist_CNN_clf.ckpt\")\n",
    "#mnist_cnn.restore('../logs/fashion_mnist_CNN_clf.ckpt')"
   ]
  },
  {
   "cell_type": "code",
   "execution_count": 10,
   "metadata": {},
   "outputs": [
    {
     "data": {
      "text/plain": [
       "0.8975"
      ]
     },
     "execution_count": 10,
     "metadata": {},
     "output_type": "execute_result"
    }
   ],
   "source": [
    "mnist_cnn.accuracy_score(X_test,Y_test)"
   ]
  },
  {
   "cell_type": "code",
   "execution_count": 11,
   "metadata": {},
   "outputs": [
    {
     "name": "stdout",
     "output_type": "stream",
     "text": [
      "(10000, 10)\n",
      "(10000, 28, 28, 1)\n"
     ]
    }
   ],
   "source": [
    "print(Y_test.shape)\n",
    "X_test = xtest.reshape(xtest.shape[0],28,28,1)\n",
    "Y_test = np_utils.to_categorical(y_test)\n",
    "print(X_test.shape)"
   ]
  },
  {
   "cell_type": "code",
   "execution_count": 12,
   "metadata": {},
   "outputs": [
    {
     "name": "stdout",
     "output_type": "stream",
     "text": [
      "0.1958\n"
     ]
    }
   ],
   "source": [
    "_,xtest_n = corrupt(X_test,scale =0.3,noise_type = 'peppSalt')\n",
    "test_acc = mnist_cnn.sess.run(mnist_cnn.accuracy,feed_dict = {mnist_cnn.eval_imgs:xtest_n,mnist_cnn.labels_eval:Y_test})\n",
    "print(test_acc)"
   ]
  },
  {
   "cell_type": "code",
   "execution_count": null,
   "metadata": {},
   "outputs": [],
   "source": [
    "n=10\n",
    "plt.figure(figsize = (20,4))\n",
    "for i in range(n):\n",
    "    # Display Original\n",
    "    ax = plt.subplot(2,n,i+1)\n",
    "    plt.imshow(xtest_n[i].reshape(28,28))\n",
    "    plt.gray()\n",
    "    ax.get_xaxis().set_visible(False)\n",
    "    ax .get_yaxis().set_visible(False)\n",
    "    \n",
    "    # Display Reconstruction\n",
    "    ax = plt.subplot(2,n,i+1+n)\n",
    "    plt.imshow(X_test[i].reshape(28,28))\n",
    "    plt.gray()\n",
    "    ax.get_xaxis().set_visible(False)\n",
    "    ax.get_yaxis().set_visible(False)\n",
    "\n",
    "plt.show()"
   ]
  },
  {
   "cell_type": "markdown",
   "metadata": {},
   "source": [
    "# Adversarial Attacks (PGD)"
   ]
  },
  {
   "cell_type": "code",
   "execution_count": 12,
   "metadata": {
    "scrolled": true
   },
   "outputs": [
    {
     "name": "stdout",
     "output_type": "stream",
     "text": [
      "[0/10000] processed\n",
      "[100/10000] processed\n",
      "[200/10000] processed\n",
      "[300/10000] processed\n",
      "[400/10000] processed\n",
      "[500/10000] processed\n",
      "[600/10000] processed\n",
      "[700/10000] processed\n",
      "[800/10000] processed\n",
      "[900/10000] processed\n",
      "[1000/10000] processed\n",
      "[1100/10000] processed\n",
      "[1200/10000] processed\n",
      "[1300/10000] processed\n",
      "[1400/10000] processed\n",
      "[1500/10000] processed\n",
      "[1600/10000] processed\n",
      "[1700/10000] processed\n",
      "[1800/10000] processed\n",
      "[1900/10000] processed\n",
      "[2000/10000] processed\n",
      "[2100/10000] processed\n",
      "[2200/10000] processed\n",
      "[2300/10000] processed\n",
      "[2400/10000] processed\n",
      "[2500/10000] processed\n",
      "[2600/10000] processed\n",
      "[2700/10000] processed\n",
      "[2800/10000] processed\n",
      "[2900/10000] processed\n",
      "[3000/10000] processed\n",
      "[3100/10000] processed\n",
      "[3200/10000] processed\n",
      "[3300/10000] processed\n",
      "[3400/10000] processed\n",
      "[3500/10000] processed\n",
      "[3600/10000] processed\n",
      "[3700/10000] processed\n",
      "[3800/10000] processed\n",
      "[3900/10000] processed\n",
      "[4000/10000] processed\n",
      "[4100/10000] processed\n",
      "[4200/10000] processed\n",
      "[4300/10000] processed\n",
      "[4400/10000] processed\n",
      "[4500/10000] processed\n",
      "[4600/10000] processed\n",
      "[4700/10000] processed\n",
      "[4800/10000] processed\n",
      "[4900/10000] processed\n",
      "[5000/10000] processed\n",
      "[5100/10000] processed\n",
      "[5200/10000] processed\n",
      "[5300/10000] processed\n",
      "[5400/10000] processed\n",
      "[5500/10000] processed\n",
      "[5600/10000] processed\n",
      "[5700/10000] processed\n",
      "[5800/10000] processed\n",
      "[5900/10000] processed\n",
      "[6000/10000] processed\n",
      "[6100/10000] processed\n",
      "[6200/10000] processed\n",
      "[6300/10000] processed\n",
      "[6400/10000] processed\n",
      "[6500/10000] processed\n",
      "[6600/10000] processed\n",
      "[6700/10000] processed\n",
      "[6800/10000] processed\n",
      "[6900/10000] processed\n",
      "[7000/10000] processed\n",
      "[7100/10000] processed\n",
      "[7200/10000] processed\n",
      "[7300/10000] processed\n",
      "[7400/10000] processed\n",
      "[7500/10000] processed\n",
      "[7600/10000] processed\n",
      "[7700/10000] processed\n",
      "[7800/10000] processed\n",
      "[7900/10000] processed\n",
      "[8000/10000] processed\n",
      "[8100/10000] processed\n",
      "[8200/10000] processed\n",
      "[8300/10000] processed\n",
      "[8400/10000] processed\n",
      "[8500/10000] processed\n",
      "[8600/10000] processed\n",
      "[8700/10000] processed\n",
      "[8800/10000] processed\n",
      "[8900/10000] processed\n",
      "[9000/10000] processed\n",
      "[9100/10000] processed\n",
      "[9200/10000] processed\n",
      "[9300/10000] processed\n",
      "[9400/10000] processed\n",
      "[9500/10000] processed\n",
      "[9600/10000] processed\n",
      "[9700/10000] processed\n",
      "[9800/10000] processed\n",
      "[9900/10000] processed\n"
     ]
    }
   ],
   "source": [
    "mnist_cnn.targeted_attack(X_test,Y_test,file_name = 'minstF_adv')"
   ]
  },
  {
   "cell_type": "code",
   "execution_count": 13,
   "metadata": {},
   "outputs": [
    {
     "name": "stdout",
     "output_type": "stream",
     "text": [
      "0.2285\n",
      "0.7144\n"
     ]
    }
   ],
   "source": [
    "print(mnist_cnn.accuracy_score(mnist_cnn.advX,Y_test))\n",
    "print(mnist_cnn.accuracy_score(mnist_cnn.advX,mnist_cnn.advY))"
   ]
  },
  {
   "cell_type": "code",
   "execution_count": 14,
   "metadata": {},
   "outputs": [
    {
     "data": {
      "image/png": "[encoded data removed]",
      "text/plain": [
       "<matplotlib.figure.Figure at 0x7f4fc46b81d0>"
      ]
     },
     "metadata": {},
     "output_type": "display_data"
    }
   ],
   "source": [
    "n=10\n",
    "plt.figure(figsize = (20,4))\n",
    "for i in range(n):\n",
    "    # Display Original\n",
    "    ax = plt.subplot(2,n,i+1)\n",
    "    plt.imshow(mnist_cnn.advX[i].reshape(28,28))\n",
    "    plt.gray()\n",
    "    ax.get_xaxis().set_visible(False)\n",
    "    ax .get_yaxis().set_visible(False)\n",
    "    \n",
    "    # Display Reconstruction\n",
    "    ax = plt.subplot(2,n,i+1+n)\n",
    "    plt.imshow(X_test[i].reshape(28,28))\n",
    "    plt.gray()\n",
    "    ax.get_xaxis().set_visible(False)\n",
    "    ax.get_yaxis().set_visible(False)\n",
    "\n",
    "plt.show()"
   ]
  },
  {
   "cell_type": "markdown",
   "metadata": {},
   "source": [
    "# Training Denoising Autoencoder"
   ]
  },
  {
   "cell_type": "code",
   "execution_count": 15,
   "metadata": {},
   "outputs": [],
   "source": [
    "encoder, decoder, autoencoder = mnist_dae()"
   ]
  },
  {
   "cell_type": "code",
   "execution_count": 16,
   "metadata": {},
   "outputs": [],
   "source": [
    "autoencoder.compile(optimizer = 'adadelta',loss='binary_crossentropy')"
   ]
  },
  {
   "cell_type": "code",
   "execution_count": 17,
   "metadata": {},
   "outputs": [],
   "source": [
    "## Generate noised images\n",
    "noise_scale = 0.3\n",
    "xtrain_o,xtrain_n = corrupt(xtrain,scale = noise_scale)"
   ]
  },
  {
   "cell_type": "code",
   "execution_count": 18,
   "metadata": {},
   "outputs": [
    {
     "name": "stdout",
     "output_type": "stream",
     "text": [
      "(60000, 1568)\n"
     ]
    }
   ],
   "source": [
    "xtrain_t = np.concatenate([xtrain_o,xtrain_n],axis =1)\n",
    "print(xtrain_t.shape)\n",
    "dmm = np.ones(shape = (len(xtrain_t),))\n",
    "xtr,xval,_,_ = tts(xtrain_t,dmm,test_size = 0.3)\n",
    "xtr_o = xtr[:,:n_features]\n",
    "xtr_n = xtr[:,n_features:]\n",
    "xval_o = xval[:,:n_features]\n",
    "xval_n = xval[:,n_features:]"
   ]
  },
  {
   "cell_type": "code",
   "execution_count": 19,
   "metadata": {},
   "outputs": [
    {
     "name": "stdout",
     "output_type": "stream",
     "text": [
      "noise_scale:  0.3\n",
      "Train on 42000 samples, validate on 18000 samples\n",
      "Epoch 1/50\n",
      "42000/42000 [==============================] - 4s 84us/step - loss: 0.3971 - val_loss: 0.3371\n",
      "Epoch 2/50\n",
      "42000/42000 [==============================] - 3s 83us/step - loss: 0.3275 - val_loss: 0.3200\n",
      "Epoch 3/50\n",
      "42000/42000 [==============================] - 3s 83us/step - loss: 0.3155 - val_loss: 0.3137\n",
      "Epoch 4/50\n",
      "42000/42000 [==============================] - 3s 83us/step - loss: 0.3102 - val_loss: 0.3117\n",
      "Epoch 5/50\n",
      "42000/42000 [==============================] - 3s 83us/step - loss: 0.3060 - val_loss: 0.3059\n",
      "Epoch 6/50\n",
      "42000/42000 [==============================] - 3s 82us/step - loss: 0.3030 - val_loss: 0.3038\n",
      "Epoch 7/50\n",
      "42000/42000 [==============================] - 3s 82us/step - loss: 0.3004 - val_loss: 0.2998\n",
      "Epoch 8/50\n",
      "42000/42000 [==============================] - 3s 82us/step - loss: 0.2980 - val_loss: 0.2982\n",
      "Epoch 9/50\n",
      "42000/42000 [==============================] - 3s 82us/step - loss: 0.2961 - val_loss: 0.2964\n",
      "Epoch 10/50\n",
      "42000/42000 [==============================] - 3s 82us/step - loss: 0.2943 - val_loss: 0.2945\n",
      "Epoch 11/50\n",
      "42000/42000 [==============================] - 3s 82us/step - loss: 0.2928 - val_loss: 0.2941\n",
      "Epoch 12/50\n",
      "42000/42000 [==============================] - 3s 82us/step - loss: 0.2917 - val_loss: 0.2923\n",
      "Epoch 13/50\n",
      "42000/42000 [==============================] - 3s 82us/step - loss: 0.2905 - val_loss: 0.2915\n",
      "Epoch 14/50\n",
      "42000/42000 [==============================] - 3s 82us/step - loss: 0.2896 - val_loss: 0.2918\n",
      "Epoch 15/50\n",
      "42000/42000 [==============================] - 3s 82us/step - loss: 0.2887 - val_loss: 0.2909\n",
      "Epoch 16/50\n",
      "42000/42000 [==============================] - 3s 82us/step - loss: 0.2881 - val_loss: 0.2897\n",
      "Epoch 17/50\n",
      "42000/42000 [==============================] - 3s 82us/step - loss: 0.2873 - val_loss: 0.2882\n",
      "Epoch 18/50\n",
      "42000/42000 [==============================] - 3s 82us/step - loss: 0.2866 - val_loss: 0.2875\n",
      "Epoch 19/50\n",
      "42000/42000 [==============================] - 3s 82us/step - loss: 0.2860 - val_loss: 0.2883\n",
      "Epoch 20/50\n",
      "42000/42000 [==============================] - 3s 82us/step - loss: 0.2855 - val_loss: 0.2872\n",
      "Epoch 21/50\n",
      "42000/42000 [==============================] - 3s 82us/step - loss: 0.2850 - val_loss: 0.2879\n",
      "Epoch 22/50\n",
      "42000/42000 [==============================] - 3s 82us/step - loss: 0.2845 - val_loss: 0.2856\n",
      "Epoch 23/50\n",
      "42000/42000 [==============================] - 3s 82us/step - loss: 0.2841 - val_loss: 0.2865\n",
      "Epoch 24/50\n",
      "42000/42000 [==============================] - 3s 82us/step - loss: 0.2836 - val_loss: 0.2849\n",
      "Epoch 25/50\n",
      "42000/42000 [==============================] - 4s 84us/step - loss: 0.2833 - val_loss: 0.2852\n",
      "Epoch 26/50\n",
      "42000/42000 [==============================] - 3s 83us/step - loss: 0.2829 - val_loss: 0.2846\n",
      "Epoch 27/50\n",
      "42000/42000 [==============================] - 3s 83us/step - loss: 0.2825 - val_loss: 0.2831\n",
      "Epoch 28/50\n",
      "42000/42000 [==============================] - 3s 82us/step - loss: 0.2822 - val_loss: 0.2833\n",
      "Epoch 29/50\n",
      "42000/42000 [==============================] - 3s 83us/step - loss: 0.2820 - val_loss: 0.2834\n",
      "Epoch 30/50\n",
      "42000/42000 [==============================] - 3s 83us/step - loss: 0.2816 - val_loss: 0.2824\n",
      "Epoch 31/50\n",
      "42000/42000 [==============================] - 3s 82us/step - loss: 0.2813 - val_loss: 0.2830\n",
      "Epoch 32/50\n",
      "42000/42000 [==============================] - 3s 83us/step - loss: 0.2810 - val_loss: 0.2826\n",
      "Epoch 33/50\n",
      "42000/42000 [==============================] - 3s 82us/step - loss: 0.2808 - val_loss: 0.2827\n",
      "Epoch 34/50\n",
      "42000/42000 [==============================] - 3s 83us/step - loss: 0.2806 - val_loss: 0.2815\n",
      "Epoch 35/50\n",
      "42000/42000 [==============================] - 3s 83us/step - loss: 0.2803 - val_loss: 0.2811\n",
      "Epoch 36/50\n",
      "42000/42000 [==============================] - 3s 83us/step - loss: 0.2800 - val_loss: 0.2815\n",
      "Epoch 37/50\n",
      "42000/42000 [==============================] - 3s 82us/step - loss: 0.2798 - val_loss: 0.2821\n",
      "Epoch 38/50\n",
      "42000/42000 [==============================] - 3s 83us/step - loss: 0.2796 - val_loss: 0.2811\n",
      "Epoch 39/50\n",
      "42000/42000 [==============================] - 3s 82us/step - loss: 0.2795 - val_loss: 0.2802\n",
      "Epoch 40/50\n",
      "42000/42000 [==============================] - 3s 83us/step - loss: 0.2792 - val_loss: 0.2816\n",
      "Epoch 41/50\n",
      "42000/42000 [==============================] - 3s 83us/step - loss: 0.2790 - val_loss: 0.2801\n",
      "Epoch 42/50\n",
      "42000/42000 [==============================] - 3s 83us/step - loss: 0.2788 - val_loss: 0.2805\n",
      "Epoch 43/50\n",
      "42000/42000 [==============================] - 3s 83us/step - loss: 0.2786 - val_loss: 0.2804\n",
      "Epoch 44/50\n",
      "42000/42000 [==============================] - 3s 83us/step - loss: 0.2785 - val_loss: 0.2802\n",
      "Epoch 45/50\n",
      "42000/42000 [==============================] - 3s 82us/step - loss: 0.2783 - val_loss: 0.2808\n",
      "Epoch 46/50\n",
      "42000/42000 [==============================] - 3s 83us/step - loss: 0.2781 - val_loss: 0.2797\n",
      "Epoch 47/50\n",
      "42000/42000 [==============================] - 3s 82us/step - loss: 0.2780 - val_loss: 0.2793\n",
      "Epoch 48/50\n",
      "42000/42000 [==============================] - 3s 82us/step - loss: 0.2777 - val_loss: 0.2794\n",
      "Epoch 49/50\n",
      "42000/42000 [==============================] - 3s 83us/step - loss: 0.2776 - val_loss: 0.2782\n",
      "Epoch 50/50\n",
      "42000/42000 [==============================] - 3s 82us/step - loss: 0.2775 - val_loss: 0.2786\n"
     ]
    },
    {
     "data": {
      "text/plain": [
       "<keras.callbacks.History at 0x7f4fcc109358>"
      ]
     },
     "execution_count": 19,
     "metadata": {},
     "output_type": "execute_result"
    }
   ],
   "source": [
    "## Training the model\n",
    "print(\"noise_scale: \",noise_scale)\n",
    "autoencoder.fit(xtr_n,xtr_o,\n",
    "               epochs = 50,\n",
    "               batch_size = 128,\n",
    "               shuffle=True,\n",
    "               validation_data=(xval_n,xval_o),\n",
    "               callbacks = [TensorBoard(log_dir = '../logs/mnist_denseDAE', histogram_freq=0,write_graph=False)]\n",
    "                )"
   ]
  },
  {
   "cell_type": "code",
   "execution_count": 20,
   "metadata": {},
   "outputs": [
    {
     "data": {
      "image/png": "[encoded data removed]",
      "text/plain": [
       "<matplotlib.figure.Figure at 0x7f4fcc178a20>"
      ]
     },
     "metadata": {},
     "output_type": "display_data"
    }
   ],
   "source": [
    "xtest_o,xtest_n = corrupt(xtest,scale =0.3,noise_type='peppSalt')\n",
    "decoded_imgs = autoencoder.predict(xtest_n)\n",
    "\n",
    "n=10\n",
    "plt.figure(figsize = (20,4))\n",
    "for i in range(n):\n",
    "    # Display Original\n",
    "    ax = plt.subplot(2,n,i+1)\n",
    "    plt.imshow(xtest_n[i].reshape(28,28))\n",
    "    plt.gray()\n",
    "    ax.get_xaxis().set_visible(False)\n",
    "    ax .get_yaxis().set_visible(False)\n",
    "    \n",
    "    # Display Reconstruction\n",
    "    ax = plt.subplot(2,n,i+1+n)\n",
    "    plt.imshow(decoded_imgs[i].reshape(28,28))\n",
    "    plt.gray()\n",
    "    ax.get_xaxis().set_visible(False)\n",
    "    ax.get_yaxis().set_visible(False)\n",
    "\n",
    "plt.show()"
   ]
  },
  {
   "cell_type": "code",
   "execution_count": 21,
   "metadata": {},
   "outputs": [
    {
     "name": "stdout",
     "output_type": "stream",
     "text": [
      "(10000, 784)\n"
     ]
    }
   ],
   "source": [
    "print(xtest_n.shape)"
   ]
  },
  {
   "cell_type": "code",
   "execution_count": 22,
   "metadata": {},
   "outputs": [
    {
     "data": {
      "text/plain": [
       "0.25319999"
      ]
     },
     "execution_count": 22,
     "metadata": {},
     "output_type": "execute_result"
    }
   ],
   "source": [
    "mnist_cnn.accuracy_score(xtest_n.reshape(-1,28,28,1),Y_test)"
   ]
  },
  {
   "cell_type": "code",
   "execution_count": 23,
   "metadata": {},
   "outputs": [
    {
     "data": {
      "text/plain": [
       "0.7507"
      ]
     },
     "execution_count": 23,
     "metadata": {},
     "output_type": "execute_result"
    }
   ],
   "source": [
    "mnist_cnn.accuracy_score(decoded_imgs.reshape(-1,28,28,1),Y_test)"
   ]
  },
  {
   "cell_type": "code",
   "execution_count": 24,
   "metadata": {},
   "outputs": [
    {
     "name": "stdout",
     "output_type": "stream",
     "text": [
      "(10000, 28, 28, 1)\n"
     ]
    }
   ],
   "source": [
    "print(mnist_cnn.advX.shape)"
   ]
  },
  {
   "cell_type": "code",
   "execution_count": 25,
   "metadata": {},
   "outputs": [],
   "source": [
    "decoded_advX = autoencoder.predict(mnist_cnn.advX.reshape(-1,784))"
   ]
  },
  {
   "cell_type": "code",
   "execution_count": 26,
   "metadata": {},
   "outputs": [
    {
     "data": {
      "text/plain": [
       "0.75400001"
      ]
     },
     "execution_count": 26,
     "metadata": {},
     "output_type": "execute_result"
    }
   ],
   "source": [
    "mnist_cnn.accuracy_score(decoded_advX.reshape(-1,28,28,1),Y_test)"
   ]
  },
  {
   "cell_type": "code",
   "execution_count": 27,
   "metadata": {},
   "outputs": [
    {
     "data": {
      "text/plain": [
       "0.087399997"
      ]
     },
     "execution_count": 27,
     "metadata": {},
     "output_type": "execute_result"
    }
   ],
   "source": [
    "mnist_cnn.accuracy_score(decoded_advX.reshape(-1,28,28,1),mnist_cnn.advY)"
   ]
  },
  {
   "cell_type": "markdown",
   "metadata": {},
   "source": [
    "# Applying DS to noised data"
   ]
  },
  {
   "cell_type": "code",
   "execution_count": 40,
   "metadata": {},
   "outputs": [],
   "source": [
    "from mnist_ds3 import *"
   ]
  },
  {
   "cell_type": "code",
   "execution_count": 41,
   "metadata": {},
   "outputs": [
    {
     "name": "stdout",
     "output_type": "stream",
     "text": [
      "(784,)\n"
     ]
    }
   ],
   "source": [
    "print(xtest_n[0].shape)"
   ]
  },
  {
   "cell_type": "code",
   "execution_count": 42,
   "metadata": {},
   "outputs": [
    {
     "data": {
      "image/png": "[encoded data removed]",
      "text/plain": [
       "<matplotlib.figure.Figure at 0x7f4f54632e80>"
      ]
     },
     "metadata": {},
     "output_type": "display_data"
    }
   ],
   "source": [
    "plt.imshow(xtest_n[0].reshape(28,28))\n",
    "plt.show()"
   ]
  },
  {
   "cell_type": "code",
   "execution_count": 43,
   "metadata": {},
   "outputs": [
    {
     "data": {
      "image/png": "[encoded data removed]",
      "text/plain": [
       "<matplotlib.figure.Figure at 0x7f4f940f8f98>"
      ]
     },
     "metadata": {},
     "output_type": "display_data"
    },
    {
     "data": {
      "image/png": "[encoded data removed]",
      "text/plain": [
       "<matplotlib.figure.Figure at 0x7f4f5455b630>"
      ]
     },
     "metadata": {},
     "output_type": "display_data"
    },
    {
     "data": {
      "image/png": "[encoded data removed]",
      "text/plain": [
       "<matplotlib.figure.Figure at 0x7f4f544ba3c8>"
      ]
     },
     "metadata": {},
     "output_type": "display_data"
    },
    {
     "data": {
      "image/png": "[encoded data removed]",
      "text/plain": [
       "<matplotlib.figure.Figure at 0x7f4f54596c88>"
      ]
     },
     "metadata": {},
     "output_type": "display_data"
    },
    {
     "data": {
      "image/png": "[encoded data removed]",
      "text/plain": [
       "<matplotlib.figure.Figure at 0x7f4f545004e0>"
      ]
     },
     "metadata": {},
     "output_type": "display_data"
    },
    {
     "data": {
      "image/png": "[encoded data removed]",
      "text/plain": [
       "<matplotlib.figure.Figure at 0x7f4f543d0080>"
      ]
     },
     "metadata": {},
     "output_type": "display_data"
    },
    {
     "data": {
      "image/png": "[encoded data removed]",
      "text/plain": [
       "<matplotlib.figure.Figure at 0x7f4f544533c8>"
      ]
     },
     "metadata": {},
     "output_type": "display_data"
    },
    {
     "data": {
      "image/png": "[encoded data removed]",
      "text/plain": [
       "<matplotlib.figure.Figure at 0x7f4f543095c0>"
      ]
     },
     "metadata": {},
     "output_type": "display_data"
    },
    {
     "data": {
      "image/png": "[encoded data removed]",
      "text/plain": [
       "<matplotlib.figure.Figure at 0x7f4f542f8cc0>"
      ]
     },
     "metadata": {},
     "output_type": "display_data"
    },
    {
     "data": {
      "image/png": "[encoded data removed]",
      "text/plain": [
       "<matplotlib.figure.Figure at 0x7f4f5428fba8>"
      ]
     },
     "metadata": {},
     "output_type": "display_data"
    }
   ],
   "source": [
    "xx = projection_DS(autoencoder,xtest_n[0].reshape(-1,784),viz_image=100 )"
   ]
  },
  {
   "cell_type": "code",
   "execution_count": null,
   "metadata": {},
   "outputs": [],
   "source": []
  }
 ],
 "metadata": {
  "kernelspec": {
   "display_name": "tensorflow",
   "language": "python",
   "name": "tensorflow_env"
  },
  "language_info": {
   "codemirror_mode": {
    "name": "ipython",
    "version": 3
   },
   "file_extension": ".py",
   "mimetype": "text/x-python",
   "name": "python",
   "nbconvert_exporter": "python",
   "pygments_lexer": "ipython3",
   "version": "3.6.7"
  }
 },
 "nbformat": 4,
 "nbformat_minor": 2
}
