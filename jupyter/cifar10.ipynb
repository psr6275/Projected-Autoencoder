{
 "cells": [
  {
   "cell_type": "code",
   "execution_count": 1,
   "metadata": {},
   "outputs": [
    {
     "name": "stderr",
     "output_type": "stream",
     "text": [
      "Using TensorFlow backend.\n",
      "/home/slcf/.pyenv/versions/3.6.2/lib/python3.6/importlib/_bootstrap.py:205: RuntimeWarning: compiletime version 3.5 of module 'tensorflow.python.framework.fast_tensor_util' does not match runtime version 3.6\n",
      "  return f(*args, **kwds)\n"
     ]
    }
   ],
   "source": [
    "from keras.layers import Input, Dense,Dropout, Flatten,Lambda\n",
    "from keras.models import Model,Sequential\n",
    "from sklearn.model_selection import train_test_split as tts\n",
    "from keras.callbacks import TensorBoard\n",
    "import matplotlib.pyplot as plt\n",
    "from keras.utils import np_utils,plot_model\n",
    "from keras.layers.convolutional import Convolution2D,MaxPooling2D,Conv2D\n",
    "from keras import backend as K\n",
    "from keras.losses import categorical_hinge,categorical_crossentropy\n",
    "import tensorflow as tf\n",
    "from time import time\n",
    "#from tensorflow.layers import flatten,batch_normialization as batch_norm"
   ]
  },
  {
   "cell_type": "markdown",
   "metadata": {},
   "source": [
    "## load data"
   ]
  },
  {
   "cell_type": "code",
   "execution_count": 2,
   "metadata": {},
   "outputs": [],
   "source": [
    "from keras.datasets import cifar10\n",
    "(x_train,y_train),(x_test,y_test) = cifar10.load_data()"
   ]
  },
  {
   "cell_type": "code",
   "execution_count": 3,
   "metadata": {},
   "outputs": [],
   "source": [
    "x_train = x_train.astype('float32')/255.0\n",
    "x_test = x_test.astype('float32')/255.0\n",
    "Y_train = np_utils.to_categorical(y_train)\n",
    "Y_test = np_utils.to_categorical(y_test)"
   ]
  },
  {
   "cell_type": "code",
   "execution_count": 4,
   "metadata": {},
   "outputs": [
    {
     "name": "stdout",
     "output_type": "stream",
     "text": [
      "(50000, 32, 32, 3)\n"
     ]
    }
   ],
   "source": [
    "print(x_train.shape)"
   ]
  },
  {
   "cell_type": "code",
   "execution_count": 5,
   "metadata": {},
   "outputs": [],
   "source": [
    "Xtr,Xval,Ytr,Yval = tts(x_train,Y_train,test_size = 0.3)"
   ]
  },
  {
   "cell_type": "markdown",
   "metadata": {},
   "source": [
    "## import defined modules"
   ]
  },
  {
   "cell_type": "code",
   "execution_count": 6,
   "metadata": {},
   "outputs": [],
   "source": [
    "import sys\n",
    "sys.path.append('../')\n",
    "from cifar_clf import *\n",
    "from cifar_dae import *"
   ]
  },
  {
   "cell_type": "code",
   "execution_count": 7,
   "metadata": {},
   "outputs": [],
   "source": [
    "cifar_cnn = Cifar10_CNN(x_train,Y_train,num_batch=128,num_epoch=50)"
   ]
  },
  {
   "cell_type": "code",
   "execution_count": 8,
   "metadata": {},
   "outputs": [
    {
     "name": "stdout",
     "output_type": "stream",
     "text": [
      "(35000, 32, 32, 3)\n"
     ]
    }
   ],
   "source": [
    "print(Xtr.shape)"
   ]
  },
  {
   "cell_type": "code",
   "execution_count": 9,
   "metadata": {},
   "outputs": [],
   "source": [
    "#len(cifar_cnn.batch_gen.get_batch())"
   ]
  },
  {
   "cell_type": "markdown",
   "metadata": {},
   "source": [
    "### train classifer"
   ]
  },
  {
   "cell_type": "code",
   "execution_count": 9,
   "metadata": {},
   "outputs": [
    {
     "name": "stdout",
     "output_type": "stream",
     "text": [
      "INFO:tensorflow:Restoring parameters from ../logs/cifar10/cifar_CNN_clf\n",
      "Success!\n"
     ]
    }
   ],
   "source": [
    "#cifar_cnn.train(\"cifar10/cifar_CNN_clf\")\n",
    "cifar_cnn.restore(\"../logs/cifar10/cifar_CNN_clf\")"
   ]
  },
  {
   "cell_type": "code",
   "execution_count": 10,
   "metadata": {},
   "outputs": [
    {
     "data": {
      "text/plain": [
       "0.6312099358974359"
      ]
     },
     "execution_count": 10,
     "metadata": {},
     "output_type": "execute_result"
    }
   ],
   "source": [
    "cifar_cnn.accuracy_score(x_test,Y_test)"
   ]
  },
  {
   "cell_type": "markdown",
   "metadata": {},
   "source": [
    "# PGD targeted attacks"
   ]
  },
  {
   "cell_type": "code",
   "execution_count": 27,
   "metadata": {
    "scrolled": true
   },
   "outputs": [
    {
     "name": "stdout",
     "output_type": "stream",
     "text": [
      "[0/10000] processed\n",
      "[100/10000] processed\n",
      "[200/10000] processed\n",
      "[300/10000] processed\n",
      "[400/10000] processed\n",
      "[500/10000] processed\n",
      "[600/10000] processed\n",
      "[700/10000] processed\n",
      "[800/10000] processed\n",
      "[900/10000] processed\n",
      "[1000/10000] processed\n",
      "[1100/10000] processed\n",
      "[1200/10000] processed\n",
      "[1300/10000] processed\n",
      "[1400/10000] processed\n",
      "[1500/10000] processed\n",
      "[1600/10000] processed\n",
      "[1700/10000] processed\n",
      "[1800/10000] processed\n",
      "[1900/10000] processed\n",
      "[2000/10000] processed\n",
      "[2100/10000] processed\n",
      "[2200/10000] processed\n",
      "[2300/10000] processed\n",
      "[2400/10000] processed\n",
      "[2500/10000] processed\n",
      "[2600/10000] processed\n",
      "[2700/10000] processed\n",
      "[2800/10000] processed\n",
      "[2900/10000] processed\n",
      "[3000/10000] processed\n",
      "[3100/10000] processed\n",
      "[3200/10000] processed\n",
      "[3300/10000] processed\n",
      "[3400/10000] processed\n",
      "[3500/10000] processed\n",
      "[3600/10000] processed\n",
      "[3700/10000] processed\n",
      "[3800/10000] processed\n",
      "[3900/10000] processed\n",
      "[4000/10000] processed\n",
      "[4100/10000] processed\n",
      "[4200/10000] processed\n",
      "[4300/10000] processed\n",
      "[4400/10000] processed\n",
      "[4500/10000] processed\n",
      "[4600/10000] processed\n",
      "[4700/10000] processed\n",
      "[4800/10000] processed\n",
      "[4900/10000] processed\n",
      "[5000/10000] processed\n",
      "[5100/10000] processed\n",
      "[5200/10000] processed\n",
      "[5300/10000] processed\n",
      "[5400/10000] processed\n",
      "[5500/10000] processed\n",
      "[5600/10000] processed\n",
      "[5700/10000] processed\n",
      "[5800/10000] processed\n",
      "[5900/10000] processed\n",
      "[6000/10000] processed\n",
      "[6100/10000] processed\n",
      "[6200/10000] processed\n",
      "[6300/10000] processed\n",
      "[6400/10000] processed\n",
      "[6500/10000] processed\n",
      "[6600/10000] processed\n",
      "[6700/10000] processed\n",
      "[6800/10000] processed\n",
      "[6900/10000] processed\n",
      "[7000/10000] processed\n",
      "[7100/10000] processed\n",
      "[7200/10000] processed\n",
      "[7300/10000] processed\n",
      "[7400/10000] processed\n",
      "[7500/10000] processed\n",
      "[7600/10000] processed\n",
      "[7700/10000] processed\n",
      "[7800/10000] processed\n",
      "[7900/10000] processed\n",
      "[8000/10000] processed\n",
      "[8100/10000] processed\n",
      "[8200/10000] processed\n",
      "[8300/10000] processed\n",
      "[8400/10000] processed\n",
      "[8500/10000] processed\n",
      "[8600/10000] processed\n",
      "[8700/10000] processed\n",
      "[8800/10000] processed\n",
      "[8900/10000] processed\n",
      "[9000/10000] processed\n",
      "[9100/10000] processed\n",
      "[9200/10000] processed\n",
      "[9300/10000] processed\n",
      "[9400/10000] processed\n",
      "[9500/10000] processed\n",
      "[9600/10000] processed\n",
      "[9700/10000] processed\n",
      "[9800/10000] processed\n",
      "[9900/10000] processed\n"
     ]
    }
   ],
   "source": [
    "#cifar_cnn.targeted_attack(x_test,Y_test,alpha=0.3,eps=64./255.,max_iter =10)"
   ]
  },
  {
   "cell_type": "code",
   "execution_count": 31,
   "metadata": {},
   "outputs": [
    {
     "name": "stdout",
     "output_type": "stream",
     "text": [
      "0.185897435897\n"
     ]
    }
   ],
   "source": [
    "#X_adv = cifar_cnn.advX\n",
    "#cifar_cnn.save_path = '../data/'\n",
    "#cifar_cnn.save_np(X_adv,'cifar_adv2')\n",
    "X_adv = np.load('../data/cifar_adv.npy')\n",
    "print(cifar_cnn.accuracy_score(X_adv,Y_test))"
   ]
  },
  {
   "cell_type": "markdown",
   "metadata": {},
   "source": [
    "# Train DAE "
   ]
  },
  {
   "cell_type": "code",
   "execution_count": 7,
   "metadata": {},
   "outputs": [],
   "source": [
    "cifar_dae = Cifar_DAE(x_train,Y_train,noise_scale = 0.1,dae_type = \"over\",filter_nums = [64,32],\n",
    "                      loss_type = \"binary_crossentropy\",epoch = 10) \n",
    "# default is mse nosise!"
   ]
  },
  {
   "cell_type": "code",
   "execution_count": null,
   "metadata": {
    "scrolled": true
   },
   "outputs": [
    {
     "name": "stdout",
     "output_type": "stream",
     "text": [
      "loss type is binary_crossentropy\n",
      "dae network is over\n",
      "train the DAE model with noise gaussian  ( 0.1 )\n",
      "Train on 35000 samples, validate on 15000 samples\n",
      "Epoch 1/10\n",
      "23424/35000 [===================>..........] - ETA: 2s - loss: 0.6243"
     ]
    }
   ],
   "source": [
    "#cifar_dae.train_dae()\n"
   ]
  },
  {
   "cell_type": "code",
   "execution_count": 8,
   "metadata": {},
   "outputs": [],
   "source": [
    "#cifar_dae.save('../results/cifar_dae.h5')\n",
    "cifar_dae.load_model('../results/cifar_dae.h5')"
   ]
  },
  {
   "cell_type": "code",
   "execution_count": 14,
   "metadata": {
    "scrolled": true
   },
   "outputs": [
    {
     "data": {
      "image/png": "[encoded data removed]",
      "text/plain": [
       "<matplotlib.figure.Figure at 0x7fafde1200f0>"
      ]
     },
     "metadata": {},
     "output_type": "display_data"
    }
   ],
   "source": [
    "cifar_dae.plot_imgs(x_train,noise_type = 'gaussian',noise_scale = 0.00)"
   ]
  },
  {
   "cell_type": "markdown",
   "metadata": {},
   "source": [
    "# Generate the corrupted images"
   ]
  },
  {
   "cell_type": "code",
   "execution_count": 10,
   "metadata": {},
   "outputs": [],
   "source": [
    "_,x_gs = corrupt(x_test,scale =0.2,noise_type = 'gaussian')\n",
    "_,x_ps = corrupt(x_test,scale =0.2,noise_type = 'peppSalt')"
   ]
  },
  {
   "cell_type": "code",
   "execution_count": 16,
   "metadata": {},
   "outputs": [
    {
     "name": "stdout",
     "output_type": "stream",
     "text": [
      "0.46734775641\n",
      "0.359475160256\n"
     ]
    }
   ],
   "source": [
    "print(cifar_cnn.accuracy_score(x_gs,Y_test))\n",
    "print(cifar_cnn.accuracy_score(x_ps,Y_test))"
   ]
  },
  {
   "cell_type": "code",
   "execution_count": 11,
   "metadata": {},
   "outputs": [
    {
     "name": "stdout",
     "output_type": "stream",
     "text": [
      "0.003210334062576294\n"
     ]
    }
   ],
   "source": [
    "t1 = time()\n",
    "x_ps_ds = cifar_dae.apply_DS(x_ps,vr = 0.95,max_iter=30)\n",
    "print((time()-t1)/len(x_test))\n",
    "x_gs_ds = cifar_dae.apply_DS(x_gs,vr=0.95)"
   ]
  },
  {
   "cell_type": "code",
   "execution_count": 12,
   "metadata": {},
   "outputs": [
    {
     "name": "stdout",
     "output_type": "stream",
     "text": [
      "32.10334062576294\n"
     ]
    }
   ],
   "source": [
    "print(0.003210334062576294*len(x_test))"
   ]
  },
  {
   "cell_type": "code",
   "execution_count": 18,
   "metadata": {},
   "outputs": [
    {
     "name": "stdout",
     "output_type": "stream",
     "text": [
      "0.52594150641\n",
      "0.459435096154\n"
     ]
    }
   ],
   "source": [
    "print(cifar_cnn.accuracy_score(x_gs_ds,Y_test))\n",
    "print(cifar_cnn.accuracy_score(x_ps_ds,Y_test))"
   ]
  },
  {
   "cell_type": "code",
   "execution_count": 29,
   "metadata": {},
   "outputs": [],
   "source": [
    "x_adv_ds = cifar_dae.apply_DS(X_adv,vr=0.95,max_iter=30)"
   ]
  },
  {
   "cell_type": "code",
   "execution_count": 30,
   "metadata": {},
   "outputs": [
    {
     "name": "stdout",
     "output_type": "stream",
     "text": [
      "0.0215344551282\n",
      "0.0379607371795\n"
     ]
    }
   ],
   "source": [
    "print(cifar_cnn.accuracy_score(X_adv,Y_test))\n",
    "print(cifar_cnn.accuracy_score(x_adv_ds,Y_test))"
   ]
  },
  {
   "cell_type": "code",
   "execution_count": 95,
   "metadata": {},
   "outputs": [
    {
     "data": {
      "text/plain": [
       "'over'"
      ]
     },
     "execution_count": 95,
     "metadata": {},
     "output_type": "execute_result"
    }
   ],
   "source": [
    "cifar_dae.dae_type"
   ]
  },
  {
   "cell_type": "markdown",
   "metadata": {},
   "source": [
    "# SVM classifier"
   ]
  },
  {
   "cell_type": "code",
   "execution_count": 21,
   "metadata": {},
   "outputs": [],
   "source": [
    "from sklearn import svm\n",
    "from sklearn.decomposition import PCA\n",
    "num_te = len(x_test)\n",
    "pca = PCA(n_components = 32)\n",
    "x_pca = pca.fit_transform(x_train.reshape(x_train.shape[0],-1))\n",
    "x_te_pca = pca.transform(x_test.reshape(num_te,-1))\n",
    "x_ps_pca = pca.transform(x_ps.reshape(num_te,-1))\n",
    "x_gs_pca = pca.transform(x_gs.reshape(num_te,-1))\n",
    "x_ps_ds_pca = pca.transform(x_ps_ds.reshape(num_te,-1))\n",
    "x_gs_ds_pca = pca.transform(x_gs_ds.reshape(num_te,-1))\n",
    "x_adv_pca = pca.transform(X_adv.reshape(X_adv.shape[0],-1))\n",
    "x_adv_ds_pca = pca.transform(x_adv_ds.reshape(num_te,-1))"
   ]
  },
  {
   "cell_type": "code",
   "execution_count": 23,
   "metadata": {},
   "outputs": [
    {
     "name": "stdout",
     "output_type": "stream",
     "text": [
      "(50000, 1)\n"
     ]
    }
   ],
   "source": [
    "print(y_train.shape)\n",
    "y_train = y_train.ravel()\n",
    "y_test = y_test.ravel()"
   ]
  },
  {
   "cell_type": "code",
   "execution_count": 24,
   "metadata": {},
   "outputs": [
    {
     "data": {
      "text/plain": [
       "SVC(C=10, cache_size=200, class_weight=None, coef0=0.0,\n",
       "  decision_function_shape='ovr', degree=3, gamma='auto', kernel='rbf',\n",
       "  max_iter=-1, probability=False, random_state=None, shrinking=True,\n",
       "  tol=0.001, verbose=False)"
      ]
     },
     "execution_count": 24,
     "metadata": {},
     "output_type": "execute_result"
    }
   ],
   "source": [
    "clf = svm.SVC(C =10)\n",
    "clf.fit(x_pca[:10000],y_train[:10000])"
   ]
  },
  {
   "cell_type": "code",
   "execution_count": 25,
   "metadata": {},
   "outputs": [
    {
     "name": "stdout",
     "output_type": "stream",
     "text": [
      "0.4326\n",
      "0.4231\n",
      "0.4373\n",
      "0.416\n",
      "0.4272\n",
      "0.4304\n",
      "0.419\n"
     ]
    }
   ],
   "source": [
    "print(clf.score(x_te_pca,y_test))\n",
    "print(clf.score(x_ps_pca,y_test))\n",
    "print(clf.score(x_gs_pca,y_test))\n",
    "print(clf.score(x_ps_ds_pca,y_test))\n",
    "print(clf.score(x_gs_ds_pca,y_test))\n",
    "print(clf.score(x_adv_pca,y_test))\n",
    "print(clf.score(x_adv_ds_pca,y_test))"
   ]
  },
  {
   "cell_type": "code",
   "execution_count": null,
   "metadata": {},
   "outputs": [],
   "source": []
  }
 ],
 "metadata": {
  "kernelspec": {
   "display_name": "Python keras36",
   "language": "python",
   "name": "keras36"
  },
  "language_info": {
   "codemirror_mode": {
    "name": "ipython",
    "version": 3
   },
   "file_extension": ".py",
   "mimetype": "text/x-python",
   "name": "python",
   "nbconvert_exporter": "python",
   "pygments_lexer": "ipython3",
   "version": "3.6.2"
  }
 },
 "nbformat": 4,
 "nbformat_minor": 2
}
