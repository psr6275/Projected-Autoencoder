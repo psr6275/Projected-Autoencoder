{
 "cells": [
  {
   "cell_type": "code",
   "execution_count": 1,
   "metadata": {},
   "outputs": [
    {
     "name": "stderr",
     "output_type": "stream",
     "text": [
      "Using TensorFlow backend.\n",
      "/home/slcf/.pyenv/versions/3.6.2/lib/python3.6/importlib/_bootstrap.py:205: RuntimeWarning: compiletime version 3.5 of module 'tensorflow.python.framework.fast_tensor_util' does not match runtime version 3.6\n",
      "  return f(*args, **kwds)\n"
     ]
    }
   ],
   "source": [
    "from keras.layers import Input, Dense,Dropout, Flatten,Lambda\n",
    "from keras.models import Model,Sequential\n",
    "from sklearn.model_selection import train_test_split as tts\n",
    "from keras.callbacks import TensorBoard\n",
    "import matplotlib.pyplot as plt\n",
    "from keras.utils import np_utils,plot_model\n",
    "from keras.layers.convolutional import Convolution2D,MaxPooling2D,Conv2D\n",
    "from keras import backend as K\n",
    "from keras.losses import categorical_hinge,categorical_crossentropy\n",
    "import tensorflow as tf"
   ]
  },
  {
   "cell_type": "code",
   "execution_count": 2,
   "metadata": {},
   "outputs": [],
   "source": [
    "from keras.datasets import fashion_mnist as mnist\n",
    "import numpy as np\n",
    "(x_train,y_train),(x_test,y_test) = mnist.load_data()"
   ]
  },
  {
   "cell_type": "code",
   "execution_count": 4,
   "metadata": {},
   "outputs": [],
   "source": [
    "x_train = x_train.astype('float32')/255.0\n",
    "x_test = x_test.astype('float32')/255.0\n",
    "## Make the input image flat\n",
    "n_features = np.prod(x_train.shape[1:])\n",
    "xtrain = x_train.reshape((len(x_train),n_features))\n",
    "xtest = x_test.reshape((len(x_test),n_features))"
   ]
  },
  {
   "cell_type": "code",
   "execution_count": 5,
   "metadata": {},
   "outputs": [],
   "source": [
    "### Construct Classifier\n",
    "X_train = xtrain.reshape(xtrain.shape[0],28,28,1)\n",
    "Y_train = np_utils.to_categorical(y_train)\n",
    "X_test = xtest.reshape(xtest.shape[0],28,28,1)\n",
    "Y_test = np_utils.to_categorical(y_test)\n",
    "#Y_test = y_test\n",
    "## in this example, we used sparse cross entropy loss!\n",
    "num_classes = 10\n",
    "Xtr, Xval, Ytr, Yval = tts(X_train,Y_train,test_size = 0.3)\n",
    "#Xtr, Xval, Ytr, Yval = tts(Xtr,Ytr,test_size = 0.3)"
   ]
  },
  {
   "cell_type": "code",
   "execution_count": 6,
   "metadata": {},
   "outputs": [],
   "source": [
    "import sys\n",
    "sys.path.append('../')\n",
    "from mnist_clf import *"
   ]
  },
  {
   "cell_type": "code",
   "execution_count": 7,
   "metadata": {},
   "outputs": [],
   "source": [
    "mnist_cnn = Mnist_CNN(X_train,Y_train)"
   ]
  },
  {
   "cell_type": "code",
   "execution_count": 8,
   "metadata": {},
   "outputs": [
    {
     "name": "stdout",
     "output_type": "stream",
     "text": [
      "INFO:tensorflow:Restoring parameters from ../logs/fashion_mnist_CNN_clf.ckpt\n",
      "Success!\n"
     ]
    }
   ],
   "source": [
    "#mnist_cnn.train(\"../logs/fashion_mnist_CNN_clf.ckpt\")\n",
    "mnist_cnn.restore('../logs/fashion_mnist_CNN_clf.ckpt')"
   ]
  },
  {
   "cell_type": "code",
   "execution_count": 9,
   "metadata": {},
   "outputs": [
    {
     "data": {
      "text/plain": [
       "0.1"
      ]
     },
     "execution_count": 9,
     "metadata": {},
     "output_type": "execute_result"
    }
   ],
   "source": [
    "mnist_cnn.accuracy_score(X_test,Y_test)"
   ]
  },
  {
   "cell_type": "code",
   "execution_count": 10,
   "metadata": {},
   "outputs": [
    {
     "name": "stdout",
     "output_type": "stream",
     "text": [
      "(10000, 10)\n",
      "(10000, 28, 28, 1)\n"
     ]
    }
   ],
   "source": [
    "print(Y_test.shape)\n",
    "X_test = xtest.reshape(xtest.shape[0],28,28,1)\n",
    "Y_test = np_utils.to_categorical(y_test)\n",
    "print(X_test.shape)"
   ]
  },
  {
   "cell_type": "code",
   "execution_count": 11,
   "metadata": {},
   "outputs": [
    {
     "name": "stdout",
     "output_type": "stream",
     "text": [
      "0.1011\n"
     ]
    }
   ],
   "source": [
    "_,xtest_n = corrupt(X_test,scale =0.3,noise_type = 'peppSalt')\n",
    "test_acc = mnist_cnn.sess.run(mnist_cnn.accuracy,feed_dict = {mnist_cnn.eval_imgs:xtest_n,mnist_cnn.labels_eval:Y_test})\n",
    "print(test_acc)"
   ]
  },
  {
   "cell_type": "code",
   "execution_count": 12,
   "metadata": {},
   "outputs": [
    {
     "data": {
      "image/png": "[encoded data removed]",
      "text/plain": [
       "<matplotlib.figure.Figure at 0x7f3e440b2550>"
      ]
     },
     "metadata": {},
     "output_type": "display_data"
    }
   ],
   "source": [
    "n=10\n",
    "plt.figure(figsize = (20,4))\n",
    "for i in range(n):\n",
    "    # Display Original\n",
    "    ax = plt.subplot(2,n,i+1)\n",
    "    plt.imshow(xtest_n[i].reshape(28,28))\n",
    "    plt.gray()\n",
    "    ax.get_xaxis().set_visible(False)\n",
    "    ax .get_yaxis().set_visible(False)\n",
    "    \n",
    "    # Display Reconstruction\n",
    "    ax = plt.subplot(2,n,i+1+n)\n",
    "    plt.imshow(X_test[i].reshape(28,28))\n",
    "    plt.gray()\n",
    "    ax.get_xaxis().set_visible(False)\n",
    "    ax.get_yaxis().set_visible(False)\n",
    "\n",
    "plt.show()"
   ]
  },
  {
   "cell_type": "code",
   "execution_count": null,
   "metadata": {
    "scrolled": true
   },
   "outputs": [
    {
     "name": "stdout",
     "output_type": "stream",
     "text": [
      "[0/10000] processed\n",
      "[100/10000] processed\n",
      "[200/10000] processed\n",
      "[300/10000] processed\n",
      "[400/10000] processed\n",
      "[500/10000] processed\n",
      "[600/10000] processed\n",
      "[700/10000] processed\n",
      "[800/10000] processed\n",
      "[900/10000] processed\n",
      "[1000/10000] processed\n",
      "[1100/10000] processed\n",
      "[1200/10000] processed\n",
      "[1300/10000] processed\n",
      "[1400/10000] processed\n",
      "[1500/10000] processed\n",
      "[1600/10000] processed\n",
      "[1700/10000] processed\n",
      "[1800/10000] processed\n",
      "[1900/10000] processed\n",
      "[2000/10000] processed\n",
      "[2100/10000] processed\n",
      "[2200/10000] processed\n",
      "[2300/10000] processed\n",
      "[2400/10000] processed\n",
      "[2500/10000] processed\n",
      "[2600/10000] processed\n",
      "[2700/10000] processed\n",
      "[2800/10000] processed\n",
      "[2900/10000] processed\n",
      "[3000/10000] processed\n",
      "[3100/10000] processed\n",
      "[3200/10000] processed\n",
      "[3300/10000] processed\n",
      "[3400/10000] processed\n",
      "[3500/10000] processed\n",
      "[3600/10000] processed\n",
      "[3700/10000] processed\n",
      "[3800/10000] processed\n",
      "[3900/10000] processed\n",
      "[4000/10000] processed\n",
      "[4100/10000] processed\n",
      "[4200/10000] processed\n",
      "[4300/10000] processed\n",
      "[4400/10000] processed\n",
      "[4500/10000] processed\n",
      "[4600/10000] processed\n",
      "[4700/10000] processed\n",
      "[4800/10000] processed\n",
      "[4900/10000] processed\n",
      "[5000/10000] processed\n",
      "[5100/10000] processed\n",
      "[5200/10000] processed\n",
      "[5300/10000] processed\n",
      "[5400/10000] processed\n",
      "[5500/10000] processed\n",
      "[5600/10000] processed\n",
      "[5700/10000] processed\n",
      "[5800/10000] processed\n",
      "[5900/10000] processed\n",
      "[6000/10000] processed\n",
      "[6100/10000] processed\n",
      "[6200/10000] processed\n",
      "[6300/10000] processed\n",
      "[6400/10000] processed\n",
      "[6500/10000] processed\n",
      "[6600/10000] processed\n"
     ]
    }
   ],
   "source": [
    "mnist_cnn.targeted_attack(X_test,Y_test,save_path = '../data/')"
   ]
  },
  {
   "cell_type": "code",
   "execution_count": null,
   "metadata": {},
   "outputs": [],
   "source": [
    "print(mnist_cnn.accuracy_score(mnist_cnn.advX,Y_test))\n",
    "print(mnist_cnn.accuracy_score(mnist_cnn.advX,mnist_cnn.advY))"
   ]
  },
  {
   "cell_type": "code",
   "execution_count": 17,
   "metadata": {},
   "outputs": [
    {
     "data": {
      "image/png": "[encoded data removed]",
      "text/plain": [
       "<matplotlib.figure.Figure at 0x7f17e83bf208>"
      ]
     },
     "metadata": {},
     "output_type": "display_data"
    }
   ],
   "source": [
    "n=10\n",
    "plt.figure(figsize = (20,4))\n",
    "for i in range(n):\n",
    "    # Display Original\n",
    "    ax = plt.subplot(2,n,i+1)\n",
    "    plt.imshow(mnist_cnn.advX[i].reshape(28,28))\n",
    "    plt.gray()\n",
    "    ax.get_xaxis().set_visible(False)\n",
    "    ax .get_yaxis().set_visible(False)\n",
    "    \n",
    "    # Display Reconstruction\n",
    "    ax = plt.subplot(2,n,i+1+n)\n",
    "    plt.imshow(X_test[i].reshape(28,28))\n",
    "    plt.gray()\n",
    "    ax.get_xaxis().set_visible(False)\n",
    "    ax.get_yaxis().set_visible(False)\n",
    "\n",
    "plt.show()"
   ]
  },
  {
   "cell_type": "code",
   "execution_count": 25,
   "metadata": {},
   "outputs": [],
   "source": [
    "from mnist_dae import *"
   ]
  },
  {
   "cell_type": "code",
   "execution_count": 26,
   "metadata": {},
   "outputs": [
    {
     "ename": "NameError",
     "evalue": "name 'dimx' is not defined",
     "output_type": "error",
     "traceback": [
      "\u001b[0;31m------------------------------------------------------------------\u001b[0m",
      "\u001b[0;31mNameError\u001b[0m                        Traceback (most recent call last)",
      "\u001b[0;32m<ipython-input-26-74be1b3af942>\u001b[0m in \u001b[0;36m<module>\u001b[0;34m()\u001b[0m\n\u001b[0;32m----> 1\u001b[0;31m \u001b[0mencoder\u001b[0m\u001b[0;34m,\u001b[0m \u001b[0mdecoder\u001b[0m\u001b[0;34m,\u001b[0m \u001b[0mautoencoder\u001b[0m \u001b[0;34m=\u001b[0m \u001b[0mmnist_dae\u001b[0m\u001b[0;34m(\u001b[0m\u001b[0;34m)\u001b[0m\u001b[0;34m\u001b[0m\u001b[0m\n\u001b[0m",
      "\u001b[0;32m~/saerom/PAE/mnist_dae.py\u001b[0m in \u001b[0;36mmnist_dae\u001b[0;34m(dims)\u001b[0m\n\u001b[1;32m     30\u001b[0m             \u001b[0mautoencoder\u001b[0m \u001b[0;34m(\u001b[0m\u001b[0mreconstruction\u001b[0m \u001b[0mfunction\u001b[0m \u001b[0mof\u001b[0m \u001b[0mdae\u001b[0m \u001b[0mmodel\u001b[0m\u001b[0;34m)\u001b[0m\u001b[0;34m\u001b[0m\u001b[0m\n\u001b[1;32m     31\u001b[0m     \"\"\"\n\u001b[0;32m---> 32\u001b[0;31m     \u001b[0minput_img\u001b[0m \u001b[0;34m=\u001b[0m \u001b[0mInput\u001b[0m\u001b[0;34m(\u001b[0m\u001b[0mshape\u001b[0m \u001b[0;34m=\u001b[0m \u001b[0;34m(\u001b[0m\u001b[0mdims\u001b[0m\u001b[0;34m[\u001b[0m\u001b[0;36m0\u001b[0m\u001b[0;34m]\u001b[0m\u001b[0;34m,\u001b[0m\u001b[0;34m)\u001b[0m\u001b[0;34m)\u001b[0m\u001b[0;34m\u001b[0m\u001b[0m\n\u001b[0m\u001b[1;32m     33\u001b[0m     \u001b[0mencoded\u001b[0m \u001b[0;34m=\u001b[0m \u001b[0minput_img\u001b[0m\u001b[0;34m\u001b[0m\u001b[0m\n\u001b[1;32m     34\u001b[0m     \u001b[0;32mfor\u001b[0m \u001b[0midx\u001b[0m\u001b[0;34m,\u001b[0m \u001b[0mdim\u001b[0m \u001b[0;32min\u001b[0m \u001b[0menumerate\u001b[0m\u001b[0;34m(\u001b[0m\u001b[0mdims\u001b[0m\u001b[0;34m[\u001b[0m\u001b[0;36m1\u001b[0m\u001b[0;34m:\u001b[0m\u001b[0;34m]\u001b[0m\u001b[0;34m)\u001b[0m\u001b[0;34m:\u001b[0m\u001b[0;34m\u001b[0m\u001b[0m\n",
      "\u001b[0;31mNameError\u001b[0m: name 'dimx' is not defined"
     ]
    }
   ],
   "source": [
    "encoder, decoder, autoencoder = mnist_dae()"
   ]
  },
  {
   "cell_type": "code",
   "execution_count": null,
   "metadata": {},
   "outputs": [],
   "source": []
  }
 ],
 "metadata": {
  "kernelspec": {
   "display_name": "Python keras36",
   "language": "python",
   "name": "keras36"
  },
  "language_info": {
   "codemirror_mode": {
    "name": "ipython",
    "version": 3
   },
   "file_extension": ".py",
   "mimetype": "text/x-python",
   "name": "python",
   "nbconvert_exporter": "python",
   "pygments_lexer": "ipython3",
   "version": "3.6.2"
  }
 },
 "nbformat": 4,
 "nbformat_minor": 2
}
