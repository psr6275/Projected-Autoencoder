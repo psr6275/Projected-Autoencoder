{
 "cells": [
  {
   "cell_type": "code",
   "execution_count": 1,
   "metadata": {},
   "outputs": [
    {
     "name": "stderr",
     "output_type": "stream",
     "text": [
      "Using TensorFlow backend.\n",
      "/home/slcf/.pyenv/versions/3.6.2/lib/python3.6/importlib/_bootstrap.py:205: RuntimeWarning: compiletime version 3.5 of module 'tensorflow.python.framework.fast_tensor_util' does not match runtime version 3.6\n",
      "  return f(*args, **kwds)\n"
     ]
    }
   ],
   "source": [
    "from keras.layers import Input, Dense,Dropout, Flatten,Lambda\n",
    "from keras.models import Model,Sequential\n",
    "from sklearn.model_selection import train_test_split as tts\n",
    "from keras.callbacks import TensorBoard\n",
    "import matplotlib.pyplot as plt\n",
    "from keras.utils import np_utils,plot_model\n",
    "from keras.layers.convolutional import Convolution2D,MaxPooling2D,Conv2D\n",
    "from keras import backend as K\n",
    "from keras.losses import categorical_hinge,categorical_crossentropy\n",
    "import tensorflow as tf\n",
    "#from tensorflow.layers import flatten,batch_normialization as batch_norm"
   ]
  },
  {
   "cell_type": "code",
   "execution_count": 2,
   "metadata": {},
   "outputs": [],
   "source": [
    "from keras.datasets import mnist\n",
    "import numpy as np\n",
    "(x_train,y_train),(x_test,y_test) = mnist.load_data()"
   ]
  },
  {
   "cell_type": "code",
   "execution_count": 3,
   "metadata": {},
   "outputs": [],
   "source": [
    "x_train = x_train.astype('float32')/255.0\n",
    "x_test = x_test.astype('float32')/255.0\n",
    "## Make the input image flat\n",
    "n_features = np.prod(x_train.shape[1:])\n",
    "xtrain = x_train.reshape((len(x_train),n_features))\n",
    "xtest = x_test.reshape((len(x_test),n_features))"
   ]
  },
  {
   "cell_type": "markdown",
   "metadata": {},
   "source": [
    "# CNN Classifier"
   ]
  },
  {
   "cell_type": "code",
   "execution_count": 4,
   "metadata": {},
   "outputs": [],
   "source": [
    "### Construct Classifier\n",
    "X_train = xtrain.reshape(xtrain.shape[0],28,28,1)\n",
    "Y_train = np_utils.to_categorical(y_train)\n",
    "X_test = xtest.reshape(xtest.shape[0],28,28,1)\n",
    "Y_test = np_utils.to_categorical(y_test)\n",
    "#Y_test = y_test\n",
    "## in this example, we used sparse cross entropy loss!\n",
    "num_classes = 10\n",
    "Xtr, Xval, Ytr, Yval = tts(X_train,Y_train,test_size = 0.3)\n",
    "#Xtr, Xval, Ytr, Yval = tts(Xtr,Ytr,test_size = 0.3)"
   ]
  },
  {
   "cell_type": "code",
   "execution_count": 5,
   "metadata": {},
   "outputs": [
    {
     "name": "stdout",
     "output_type": "stream",
     "text": [
      "(42000, 10)\n"
     ]
    }
   ],
   "source": [
    "print(Ytr.shape)"
   ]
  },
  {
   "cell_type": "code",
   "execution_count": 6,
   "metadata": {},
   "outputs": [],
   "source": [
    "import sys\n",
    "sys.path.append('../')\n",
    "from mnist_clf import *\n",
    "from mnist_dae import *"
   ]
  },
  {
   "cell_type": "code",
   "execution_count": 7,
   "metadata": {},
   "outputs": [
    {
     "name": "stdout",
     "output_type": "stream",
     "text": [
      "(60000, 10)\n"
     ]
    }
   ],
   "source": [
    "mnist_cnn = Mnist_CNN(X_train,Y_train)\n",
    "print(Y_train.shape)"
   ]
  },
  {
   "cell_type": "code",
   "execution_count": 10,
   "metadata": {},
   "outputs": [
    {
     "name": "stdout",
     "output_type": "stream",
     "text": [
      "[0/1400] Loss: 2.303226 Train_Acc: 0.0677 Val_Acc: 0.0683\n",
      "[500/1400] Loss: 0.008544 Train_Acc: 0.9870 Val_Acc: 0.9852\n",
      "[1000/1400] Loss: 0.001064 Train_Acc: 0.9923 Val_Acc: 0.9877\n",
      "saved path:  ../logs/../logs/mnist/mnist_CNN_clf\n"
     ]
    }
   ],
   "source": [
    "mnist_cnn.train(\"../logs/mnist/mnist_CNN_clf\")\n",
    "#mnist_cnn.restore('../logs/mnist/mnist_CNN_clf')"
   ]
  },
  {
   "cell_type": "code",
   "execution_count": 11,
   "metadata": {},
   "outputs": [
    {
     "data": {
      "text/plain": [
       "0.98820001"
      ]
     },
     "execution_count": 11,
     "metadata": {},
     "output_type": "execute_result"
    }
   ],
   "source": [
    "mnist_cnn.accuracy_score(X_test,Y_test)"
   ]
  },
  {
   "cell_type": "code",
   "execution_count": 13,
   "metadata": {},
   "outputs": [
    {
     "name": "stdout",
     "output_type": "stream",
     "text": [
      "0.8164\n"
     ]
    }
   ],
   "source": [
    "_,xtest_n = corrupt(X_test,scale =0.3,noise_type = 'peppSalt')\n",
    "test_acc = mnist_cnn.sess.run(mnist_cnn.accuracy,feed_dict = {mnist_cnn.eval_imgs:xtest_n,mnist_cnn.labels_eval:Y_test})\n",
    "print(test_acc)"
   ]
  },
  {
   "cell_type": "code",
   "execution_count": 14,
   "metadata": {},
   "outputs": [
    {
     "name": "stdout",
     "output_type": "stream",
     "text": [
      "0.8164\n"
     ]
    }
   ],
   "source": [
    "print(mnist_cnn.accuracy_score(xtest_n,Y_test))"
   ]
  },
  {
   "cell_type": "code",
   "execution_count": null,
   "metadata": {},
   "outputs": [],
   "source": [
    "## original: 0.9710\n",
    "## noised: 0.9463\n",
    "## reconstructed: 0.9557\n",
    "# clean: 0.9942\n",
    "# Gaussian: 0.9798(0.3)\n",
    "# Corruption: 0.946(0.3)\n",
    "# Pepp-and-salt: 0.7881(0.3)\n",
    "\n",
    "##Fashion_mnist\n",
    "#original: 0.8998\n",
    "#gaussian: 0.6013\n",
    "#corruption: 0.7622\n",
    "#peppSalt: 0.3199\n",
    "#adversarial: "
   ]
  },
  {
   "cell_type": "code",
   "execution_count": 15,
   "metadata": {},
   "outputs": [
    {
     "data": {
      "image/png": "[encoded data removed]",
      "text/plain": [
       "<matplotlib.figure.Figure at 0x7fea5037d438>"
      ]
     },
     "metadata": {},
     "output_type": "display_data"
    }
   ],
   "source": [
    "n=10\n",
    "plt.figure(figsize = (20,4))\n",
    "for i in range(n):\n",
    "    # Display Original\n",
    "    ax = plt.subplot(2,n,i+1)\n",
    "    plt.imshow(xtest_n[i].reshape(28,28))\n",
    "    plt.gray()\n",
    "    ax.get_xaxis().set_visible(False)\n",
    "    ax .get_yaxis().set_visible(False)\n",
    "    \n",
    "    # Display Reconstruction\n",
    "    ax = plt.subplot(2,n,i+1+n)\n",
    "    plt.imshow(X_test[i].reshape(28,28))\n",
    "    plt.gray()\n",
    "    ax.get_xaxis().set_visible(False)\n",
    "    ax.get_yaxis().set_visible(False)\n",
    "\n",
    "plt.show()"
   ]
  },
  {
   "cell_type": "code",
   "execution_count": 81,
   "metadata": {},
   "outputs": [
    {
     "name": "stdout",
     "output_type": "stream",
     "text": [
      "0.03137254901960784\n"
     ]
    }
   ],
   "source": [
    "print(8./255.)"
   ]
  },
  {
   "cell_type": "markdown",
   "metadata": {},
   "source": [
    "# Adversarial Attacks"
   ]
  },
  {
   "cell_type": "code",
   "execution_count": 19,
   "metadata": {},
   "outputs": [],
   "source": [
    "from scipy.misc import imsave"
   ]
  },
  {
   "cell_type": "code",
   "execution_count": 20,
   "metadata": {},
   "outputs": [
    {
     "name": "stdout",
     "output_type": "stream",
     "text": [
      "mnist_test_12884_1_10\n"
     ]
    }
   ],
   "source": [
    "print(\"mnist_test_%d_%d_%d\"%(12884,1,10))"
   ]
  },
  {
   "cell_type": "code",
   "execution_count": 43,
   "metadata": {
    "scrolled": true
   },
   "outputs": [
    {
     "name": "stdout",
     "output_type": "stream",
     "text": [
      "[0/10000] processed\n",
      "[100/10000] processed\n",
      "[200/10000] processed\n",
      "[300/10000] processed\n",
      "[400/10000] processed\n",
      "[500/10000] processed\n",
      "[600/10000] processed\n",
      "[700/10000] processed\n",
      "[800/10000] processed\n",
      "[900/10000] processed\n",
      "[1000/10000] processed\n",
      "[1100/10000] processed\n",
      "[1200/10000] processed\n",
      "[1300/10000] processed\n",
      "[1400/10000] processed\n",
      "[1500/10000] processed\n",
      "[1600/10000] processed\n",
      "[1700/10000] processed\n",
      "[1800/10000] processed\n",
      "[1900/10000] processed\n",
      "[2000/10000] processed\n",
      "[2100/10000] processed\n",
      "[2200/10000] processed\n",
      "[2300/10000] processed\n",
      "[2400/10000] processed\n",
      "[2500/10000] processed\n",
      "[2600/10000] processed\n",
      "[2700/10000] processed\n",
      "[2800/10000] processed\n",
      "[2900/10000] processed\n",
      "[3000/10000] processed\n",
      "[3100/10000] processed\n",
      "[3200/10000] processed\n",
      "[3300/10000] processed\n",
      "[3400/10000] processed\n",
      "[3500/10000] processed\n",
      "[3600/10000] processed\n",
      "[3700/10000] processed\n",
      "[3800/10000] processed\n",
      "[3900/10000] processed\n",
      "[4000/10000] processed\n",
      "[4100/10000] processed\n",
      "[4200/10000] processed\n",
      "[4300/10000] processed\n",
      "[4400/10000] processed\n",
      "[4500/10000] processed\n",
      "[4600/10000] processed\n",
      "[4700/10000] processed\n",
      "[4800/10000] processed\n",
      "[4900/10000] processed\n",
      "[5000/10000] processed\n",
      "[5100/10000] processed\n",
      "[5200/10000] processed\n",
      "[5300/10000] processed\n",
      "[5400/10000] processed\n",
      "[5500/10000] processed\n",
      "[5600/10000] processed\n",
      "[5700/10000] processed\n",
      "[5800/10000] processed\n",
      "[5900/10000] processed\n",
      "[6000/10000] processed\n",
      "[6100/10000] processed\n",
      "[6200/10000] processed\n",
      "[6300/10000] processed\n",
      "[6400/10000] processed\n",
      "[6500/10000] processed\n",
      "[6600/10000] processed\n",
      "[6700/10000] processed\n",
      "[6800/10000] processed\n",
      "[6900/10000] processed\n",
      "[7000/10000] processed\n",
      "[7100/10000] processed\n",
      "[7200/10000] processed\n",
      "[7300/10000] processed\n",
      "[7400/10000] processed\n",
      "[7500/10000] processed\n",
      "[7600/10000] processed\n",
      "[7700/10000] processed\n",
      "[7800/10000] processed\n",
      "[7900/10000] processed\n",
      "[8000/10000] processed\n",
      "[8100/10000] processed\n",
      "[8200/10000] processed\n",
      "[8300/10000] processed\n",
      "[8400/10000] processed\n",
      "[8500/10000] processed\n",
      "[8600/10000] processed\n",
      "[8700/10000] processed\n",
      "[8800/10000] processed\n",
      "[8900/10000] processed\n",
      "[9000/10000] processed\n",
      "[9100/10000] processed\n",
      "[9200/10000] processed\n",
      "[9300/10000] processed\n",
      "[9400/10000] processed\n",
      "[9500/10000] processed\n",
      "[9600/10000] processed\n",
      "[9700/10000] processed\n",
      "[9800/10000] processed\n",
      "[9900/10000] processed\n"
     ]
    }
   ],
   "source": [
    "#mnist_cnn.targeted_attack(X_test,Y_test,alpha=0.5,eps=128./255.,max_iter =10)\n"
   ]
  },
  {
   "cell_type": "code",
   "execution_count": 49,
   "metadata": {},
   "outputs": [
    {
     "name": "stdout",
     "output_type": "stream",
     "text": [
      "0.182\n"
     ]
    }
   ],
   "source": [
    "#X_adv = mnist_cnn.advX\n",
    "X_adv = np.load('../data/mnist_adv.npy')\n",
    "print(mnist_cnn.accuracy_score(X_adv,Y_test))"
   ]
  },
  {
   "cell_type": "code",
   "execution_count": 48,
   "metadata": {},
   "outputs": [
    {
     "name": "stdout",
     "output_type": "stream",
     "text": [
      "Save:  ../data/mnist_adv\n"
     ]
    }
   ],
   "source": [
    "#mnist_cnn.save_path = '../data/'\n",
    "#mnist_cnn.save_np(X_adv,'mnist_adv')"
   ]
  },
  {
   "cell_type": "markdown",
   "metadata": {},
   "source": [
    "# Mnist DAE"
   ]
  },
  {
   "cell_type": "code",
   "execution_count": 50,
   "metadata": {},
   "outputs": [],
   "source": [
    "x_train = x_train.reshape(x_train.shape[0],-1)\n",
    "x_test = x_test.reshape(x_test.shape[0],-1)"
   ]
  },
  {
   "cell_type": "code",
   "execution_count": 51,
   "metadata": {},
   "outputs": [],
   "source": [
    "mnist_dae = Mnist_DAE(x_train,y_train)"
   ]
  },
  {
   "cell_type": "code",
   "execution_count": 52,
   "metadata": {
    "scrolled": true
   },
   "outputs": [
    {
     "name": "stdout",
     "output_type": "stream",
     "text": [
      "train the DAE model with noise gaussian  ( 0.3 )\n",
      "Train on 42000 samples, validate on 18000 samples\n",
      "Epoch 1/30\n",
      "42000/42000 [==============================] - 4s 87us/step - loss: 0.2395 - val_loss: 0.1917\n",
      "Epoch 2/30\n",
      "42000/42000 [==============================] - 4s 85us/step - loss: 0.1649 - val_loss: 0.1527\n",
      "Epoch 3/30\n",
      "42000/42000 [==============================] - 4s 85us/step - loss: 0.1398 - val_loss: 0.1347\n",
      "Epoch 4/30\n",
      "42000/42000 [==============================] - 4s 86us/step - loss: 0.1254 - val_loss: 0.1250\n",
      "Epoch 5/30\n",
      "42000/42000 [==============================] - 4s 85us/step - loss: 0.1169 - val_loss: 0.1161\n",
      "Epoch 6/30\n",
      "42000/42000 [==============================] - 4s 85us/step - loss: 0.1109 - val_loss: 0.1116\n",
      "Epoch 7/30\n",
      "42000/42000 [==============================] - 4s 86us/step - loss: 0.1068 - val_loss: 0.1083\n",
      "Epoch 8/30\n",
      "42000/42000 [==============================] - 4s 85us/step - loss: 0.1035 - val_loss: 0.1049\n",
      "Epoch 9/30\n",
      "42000/42000 [==============================] - 3s 83us/step - loss: 0.1009 - val_loss: 0.1042\n",
      "Epoch 10/30\n",
      "42000/42000 [==============================] - 3s 83us/step - loss: 0.0989 - val_loss: 0.1015\n",
      "Epoch 11/30\n",
      "42000/42000 [==============================] - 3s 83us/step - loss: 0.0973 - val_loss: 0.1001\n",
      "Epoch 12/30\n",
      "42000/42000 [==============================] - 3s 82us/step - loss: 0.0958 - val_loss: 0.0983\n",
      "Epoch 13/30\n",
      "42000/42000 [==============================] - 3s 83us/step - loss: 0.0946 - val_loss: 0.0976\n",
      "Epoch 14/30\n",
      "42000/42000 [==============================] - 3s 82us/step - loss: 0.0936 - val_loss: 0.0979\n",
      "Epoch 15/30\n",
      "42000/42000 [==============================] - 4s 83us/step - loss: 0.0927 - val_loss: 0.0952\n",
      "Epoch 16/30\n",
      "42000/42000 [==============================] - 3s 82us/step - loss: 0.0920 - val_loss: 0.0946\n",
      "Epoch 17/30\n",
      "42000/42000 [==============================] - 3s 82us/step - loss: 0.0913 - val_loss: 0.0948\n",
      "Epoch 18/30\n",
      "42000/42000 [==============================] - 3s 82us/step - loss: 0.0907 - val_loss: 0.0935\n",
      "Epoch 19/30\n",
      "42000/42000 [==============================] - 3s 81us/step - loss: 0.0901 - val_loss: 0.0925\n",
      "Epoch 20/30\n",
      "42000/42000 [==============================] - 3s 83us/step - loss: 0.0896 - val_loss: 0.0920\n",
      "Epoch 21/30\n",
      "42000/42000 [==============================] - 3s 82us/step - loss: 0.0892 - val_loss: 0.0920\n",
      "Epoch 22/30\n",
      "42000/42000 [==============================] - 3s 81us/step - loss: 0.0888 - val_loss: 0.0926\n",
      "Epoch 23/30\n",
      "42000/42000 [==============================] - 3s 82us/step - loss: 0.0884 - val_loss: 0.0913\n",
      "Epoch 24/30\n",
      "42000/42000 [==============================] - 3s 82us/step - loss: 0.0880 - val_loss: 0.0905\n",
      "Epoch 25/30\n",
      "42000/42000 [==============================] - 3s 81us/step - loss: 0.0877 - val_loss: 0.0908\n",
      "Epoch 26/30\n",
      "42000/42000 [==============================] - 3s 81us/step - loss: 0.0874 - val_loss: 0.0902\n",
      "Epoch 27/30\n",
      "42000/42000 [==============================] - 3s 81us/step - loss: 0.0871 - val_loss: 0.0899\n",
      "Epoch 28/30\n",
      "42000/42000 [==============================] - 3s 81us/step - loss: 0.0868 - val_loss: 0.0900\n",
      "Epoch 29/30\n",
      "42000/42000 [==============================] - 3s 82us/step - loss: 0.0865 - val_loss: 0.0895\n",
      "Epoch 30/30\n",
      "42000/42000 [==============================] - 3s 82us/step - loss: 0.0863 - val_loss: 0.0890\n"
     ]
    }
   ],
   "source": [
    "#mnist_dae.train_dae()\n",
    "#mnist_dae.save('../results/mnist_dae.h5')\n",
    "mnist_dae.load_model('../results/mnist_dae.h5')"
   ]
  },
  {
   "cell_type": "markdown",
   "metadata": {},
   "source": [
    "## Generate the corrupted images"
   ]
  },
  {
   "cell_type": "code",
   "execution_count": 63,
   "metadata": {},
   "outputs": [],
   "source": [
    "## Gaussian noise images\n",
    "_,x_ps = corrupt(x_test,scale =0.3,noise_type = 'peppSalt')"
   ]
  },
  {
   "cell_type": "code",
   "execution_count": 64,
   "metadata": {},
   "outputs": [],
   "source": [
    "_,x_gs = corrupt(x_test,scale =0.5,noise_type = 'gaussian')"
   ]
  },
  {
   "cell_type": "code",
   "execution_count": 65,
   "metadata": {},
   "outputs": [
    {
     "data": {
      "text/plain": [
       "0.81590003"
      ]
     },
     "execution_count": 65,
     "metadata": {},
     "output_type": "execute_result"
    }
   ],
   "source": [
    "mnist_cnn.accuracy_score(x_ps,Y_test)"
   ]
  },
  {
   "cell_type": "code",
   "execution_count": 66,
   "metadata": {},
   "outputs": [
    {
     "data": {
      "text/plain": [
       "0.86680001"
      ]
     },
     "execution_count": 66,
     "metadata": {},
     "output_type": "execute_result"
    }
   ],
   "source": [
    "mnist_cnn.accuracy_score(x_gs,Y_test)"
   ]
  },
  {
   "cell_type": "code",
   "execution_count": 73,
   "metadata": {},
   "outputs": [],
   "source": [
    "x_ps_ds = mnist_dae.apply_DS(x_ps,vr = 0.95,max_iter=30)\n",
    "x_gs_ds = mnist_dae.apply_DS(x_gs,vr=0.95)"
   ]
  },
  {
   "cell_type": "code",
   "execution_count": 72,
   "metadata": {},
   "outputs": [
    {
     "name": "stdout",
     "output_type": "stream",
     "text": [
      "0.9359\n",
      "0.8736\n"
     ]
    }
   ],
   "source": [
    "print(mnist_cnn.accuracy_score(x_ps_ds,Y_test))\n",
    "print(mnist_cnn.accuracy_score(x_gs_ds,Y_test))"
   ]
  },
  {
   "cell_type": "code",
   "execution_count": 59,
   "metadata": {},
   "outputs": [],
   "source": [
    "##Adv images\n",
    "x_adv_ds = mnist_dae.apply_DS(X_adv,vr=0.95,max_iter=30)"
   ]
  },
  {
   "cell_type": "code",
   "execution_count": 60,
   "metadata": {},
   "outputs": [
    {
     "name": "stdout",
     "output_type": "stream",
     "text": [
      "0.182\n",
      "0.4673\n"
     ]
    }
   ],
   "source": [
    "print(mnist_cnn.accuracy_score(X_adv,Y_test))\n",
    "print(mnist_cnn.accuracy_score(x_adv_ds,Y_test))"
   ]
  },
  {
   "cell_type": "code",
   "execution_count": 61,
   "metadata": {},
   "outputs": [
    {
     "data": {
      "image/png": "[encoded data removed]",
      "text/plain": [
       "<matplotlib.figure.Figure at 0x7fe9d07994e0>"
      ]
     },
     "metadata": {},
     "output_type": "display_data"
    }
   ],
   "source": [
    "mnist_dae.plot_imgs(x_test)"
   ]
  },
  {
   "cell_type": "code",
   "execution_count": 70,
   "metadata": {},
   "outputs": [
    {
     "data": {
      "image/png": "[encoded data removed]",
      "text/plain": [
       "<matplotlib.figure.Figure at 0x7fe970281eb8>"
      ]
     },
     "metadata": {},
     "output_type": "display_data"
    }
   ],
   "source": [
    "#print(len(adv_list))\n",
    "\n",
    "n=10\n",
    "plt.figure(figsize = (20,4))\n",
    "for i in range(n):\n",
    "    # Display Original\n",
    "    ax = plt.subplot(2,n,i+1)\n",
    "    plt.imshow(x_ps[i].reshape(28,28))\n",
    "    plt.gray()\n",
    "    ax.get_xaxis().set_visible(False)\n",
    "    ax .get_yaxis().set_visible(False)\n",
    "    \n",
    "    # Display Reconstruction\n",
    "    ax = plt.subplot(2,n,i+1+n)\n",
    "    plt.imshow(x_ps_ds[i].reshape(28,28))\n",
    "    plt.gray()\n",
    "    ax.get_xaxis().set_visible(False)\n",
    "    ax.get_yaxis().set_visible(False)\n",
    "\n",
    "plt.show()"
   ]
  },
  {
   "cell_type": "markdown",
   "metadata": {},
   "source": [
    "# SVM classifer"
   ]
  },
  {
   "cell_type": "code",
   "execution_count": 74,
   "metadata": {},
   "outputs": [],
   "source": [
    "from sklearn import svm"
   ]
  },
  {
   "cell_type": "code",
   "execution_count": null,
   "metadata": {},
   "outputs": [],
   "source": [
    "## should apply PCA because the training time is too costly\n",
    "from sklearn.decomposition import PCA\n",
    "pca = PCA(n_components = 32)\n",
    "x_pca = pca.fit_transform(x_train)\n",
    "x_te_pca = pca.transform(x_test)\n",
    "x_ps_pca = pca.transform(x_ps)\n",
    "x_gs_pca = pca.transform(x_gs)\n",
    "x_ps_ds_pca = pca.transform(x_ps_ds)\n",
    "x_gs_ds_pca = pca.transform(x_gs_ds)\n",
    "x_adv_pca = pca.transform(X_adv.reshape(X_adv.shape[0],-1))\n",
    "x_adv_ds_pca = pca.transform(x_adv_ds)"
   ]
  },
  {
   "cell_type": "code",
   "execution_count": 75,
   "metadata": {},
   "outputs": [
    {
     "data": {
      "text/plain": [
       "SVC(C=10, cache_size=200, class_weight=None, coef0=0.0,\n",
       "  decision_function_shape='ovr', degree=3, gamma='auto', kernel='rbf',\n",
       "  max_iter=-1, probability=False, random_state=None, shrinking=True,\n",
       "  tol=0.001, verbose=False)"
      ]
     },
     "execution_count": 75,
     "metadata": {},
     "output_type": "execute_result"
    }
   ],
   "source": [
    "clf = svm.SVC(C =10)\n",
    "clf.fit(x_train,y_train)"
   ]
  },
  {
   "cell_type": "code",
   "execution_count": null,
   "metadata": {},
   "outputs": [],
   "source": [
    "clf = svm.SVC(C =10)\n",
    "clf.fit(x_pca,y_train)"
   ]
  },
  {
   "cell_type": "code",
   "execution_count": null,
   "metadata": {},
   "outputs": [
    {
     "name": "stdout",
     "output_type": "stream",
     "text": [
      "0.9614\n",
      "0.552\n"
     ]
    }
   ],
   "source": [
    "print(clf.score(x_test,y_test))\n",
    "print(clf.score(x_ps,y_test))\n",
    "print(clf.score(x_gs,y_test))\n",
    "print(clf.score(x_ps_ds,y_test))\n",
    "print(clf.score(x_gs_ds,y_test))\n",
    "print(clf.score(X_adv.reshape(X_adv.shape[0],-1),y_test))\n",
    "print(clf.score(x_adv_ds,y_test))"
   ]
  },
  {
   "cell_type": "code",
   "execution_count": null,
   "metadata": {},
   "outputs": [],
   "source": [
    "print(clf.score(x_te_pca,y_test))\n",
    "print(clf.score(x_ps_pca,y_test))\n",
    "print(clf.score(x_gs_pca,y_test))\n",
    "print(clf.score(x_ps_ds_pca,y_test))\n",
    "print(clf.score(x_gs_ds_pca,y_test))\n",
    "print(clf.score(x_adv_pca,y_test))\n",
    "print(clf.score(x_adv_ds_pca,y_test))"
   ]
  }
 ],
 "metadata": {
  "kernelspec": {
   "display_name": "Python keras36",
   "language": "python",
   "name": "keras36"
  },
  "language_info": {
   "codemirror_mode": {
    "name": "ipython",
    "version": 3
   },
   "file_extension": ".py",
   "mimetype": "text/x-python",
   "name": "python",
   "nbconvert_exporter": "python",
   "pygments_lexer": "ipython3",
   "version": "3.6.2"
  }
 },
 "nbformat": 4,
 "nbformat_minor": 2
}
