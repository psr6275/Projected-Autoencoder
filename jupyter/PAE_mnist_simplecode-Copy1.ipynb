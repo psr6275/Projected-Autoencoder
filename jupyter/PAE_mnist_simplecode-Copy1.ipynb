{
 "cells": [
  {
   "cell_type": "code",
   "execution_count": 1,
   "metadata": {},
   "outputs": [
    {
     "name": "stderr",
     "output_type": "stream",
     "text": [
      "/home/slcf/.pyenv/versions/3.6.2/lib/python3.6/importlib/_bootstrap.py:205: RuntimeWarning: compiletime version 3.5 of module 'tensorflow.python.framework.fast_tensor_util' does not match runtime version 3.6\n",
      "  return f(*args, **kwds)\n"
     ]
    }
   ],
   "source": [
    "import numpy as np\n",
    "import os,sys\n",
    "sys.path.append('..')\n",
    "from trainer import Trainer\n",
    "from config import get_config\n",
    "from utils import *\n",
    "import pickle\n",
    "import matplotlib.pyplot as plt\n",
    "import math\n",
    "from tqdm import trange\n",
    "#from re_main import main\n",
    "#from trainer import *\n",
    "\n",
    "from pprint import pprint\n",
    "from models import *"
   ]
  },
  {
   "cell_type": "code",
   "execution_count": 2,
   "metadata": {},
   "outputs": [],
   "source": [
    "def norm_img(img):\n",
    "    img = img/255.0\n",
    "    return img\n",
    "def denorm_img(img):\n",
    "    return tf.clip_by_value(img*255.0,0,255)\n"
   ]
  },
  {
   "cell_type": "code",
   "execution_count": 3,
   "metadata": {},
   "outputs": [],
   "source": [
    "def corrupt_np(x,noise_type='gaussian',noise_param=0.1):\n",
    "    noise = np.random.normal(scale = noise_param,size = x.shape)\n",
    "    corrupted = np.clip(x+noise,0.0,1.0)\n",
    "    return corrupted"
   ]
  },
  {
   "cell_type": "code",
   "execution_count": 4,
   "metadata": {},
   "outputs": [
    {
     "ename": "NameError",
     "evalue": "name 'x_train' is not defined",
     "output_type": "error",
     "traceback": [
      "\u001b[0;31m---------------------------------------------------------------------------\u001b[0m",
      "\u001b[0;31mNameError\u001b[0m                                 Traceback (most recent call last)",
      "\u001b[0;32m<ipython-input-4-8156e936a8f1>\u001b[0m in \u001b[0;36m<module>\u001b[0;34m()\u001b[0m\n\u001b[0;32m----> 1\u001b[0;31m \u001b[0mcrrX\u001b[0m \u001b[0;34m=\u001b[0m \u001b[0mcorrupt_np\u001b[0m\u001b[0;34m(\u001b[0m\u001b[0mx_train\u001b[0m\u001b[0;34m/\u001b[0m\u001b[0;36m255.0\u001b[0m\u001b[0;34m)\u001b[0m\u001b[0;34m\u001b[0m\u001b[0m\n\u001b[0m\u001b[1;32m      2\u001b[0m \u001b[0mn\u001b[0m\u001b[0;34m=\u001b[0m\u001b[0;36m10\u001b[0m\u001b[0;34m\u001b[0m\u001b[0m\n\u001b[1;32m      3\u001b[0m \u001b[0mplt\u001b[0m\u001b[0;34m.\u001b[0m\u001b[0mfigure\u001b[0m\u001b[0;34m(\u001b[0m\u001b[0mfigsize\u001b[0m \u001b[0;34m=\u001b[0m \u001b[0;34m(\u001b[0m\u001b[0;36m20\u001b[0m\u001b[0;34m,\u001b[0m\u001b[0;36m4\u001b[0m\u001b[0;34m)\u001b[0m\u001b[0;34m)\u001b[0m\u001b[0;34m\u001b[0m\u001b[0m\n\u001b[1;32m      4\u001b[0m \u001b[0;32mfor\u001b[0m \u001b[0mi\u001b[0m \u001b[0;32min\u001b[0m \u001b[0mrange\u001b[0m\u001b[0;34m(\u001b[0m\u001b[0mn\u001b[0m\u001b[0;34m)\u001b[0m\u001b[0;34m:\u001b[0m\u001b[0;34m\u001b[0m\u001b[0m\n\u001b[1;32m      5\u001b[0m     \u001b[0;31m# Display Original\u001b[0m\u001b[0;34m\u001b[0m\u001b[0;34m\u001b[0m\u001b[0m\n",
      "\u001b[0;31mNameError\u001b[0m: name 'x_train' is not defined"
     ]
    }
   ],
   "source": [
    "crrX = corrupt_np(x_train/255.0)\n",
    "n=10\n",
    "plt.figure(figsize = (20,4))\n",
    "for i in range(n):\n",
    "    # Display Original\n",
    "    ax = plt.subplot(2,n,i+1)\n",
    "    plt.imshow(x_train[i].reshape(28,28))\n",
    "    plt.gray()\n",
    "    ax.get_xaxis().set_visible(False)\n",
    "    ax .get_yaxis().set_visible(False)\n",
    "    \n",
    "    # Display Reconstruction\n",
    "    ax = plt.subplot(2,n,i+1+n)\n",
    "    plt.imshow(crrX[i].reshape(28,28))\n",
    "    plt.gray()\n",
    "    ax.get_xaxis().set_visible(False)\n",
    "    ax.get_yaxis().set_visible(False)\n",
    "\n",
    "plt.show()"
   ]
  },
  {
   "cell_type": "code",
   "execution_count": 4,
   "metadata": {},
   "outputs": [],
   "source": [
    "def corrupt(x, noise_type='gaussian',noise_param=0.01):\n",
    "    if noise_type=='corrupt':\n",
    "        mask_dist = dist.Bernoulli(probs=1-noise_param,dtype=tf.float32)\n",
    "        mask = mask_dist.sample(sample_shape=tf.shape(x))\n",
    "        corrupted = tf.multiply(x,mask)    \n",
    "    elif noise_type == 'pipSalt':\n",
    "        noise_dist = dist.Categorial(probs=[noise_paaram/2.1-noise_param,noise_param/2])\n",
    "        noise = tf.cast(noise_dist.sample(sample_shape = tf.shape(x))-1,dtype = tf.float32)\n",
    "        corrupted = tf.clip_by_value(tf.add(x,noise),0.0,1.0)\n",
    "    else:\n",
    "        noise = tf.random_normal(shape=tf.shape(x),mean=0.0,stddev = noise_param)\n",
    "        corrupted = tf.clip_by_value(tf.add(x,noise),0.0,1.0)\n",
    "        \n",
    "    return corrupted\n",
    "        "
   ]
  },
  {
   "cell_type": "code",
   "execution_count": 5,
   "metadata": {},
   "outputs": [],
   "source": [
    "def AE_dense(X=None,dims = [784,1024,1024],activation=tf.nn.elu,tied=False):\n",
    "    shapeX = X.shape\n",
    "    with tf.variable_scope(\"AE_dense\") as vs:\n",
    "        z = tf.reshape(X,[-1,np.prod(shapeX[1:])])\n",
    "        for idx, n_output in enumerate(dims[1:]):\n",
    "            z = slim.fully_connected(z,n_output,activation_fn = activation)\n",
    "            z = slim.batch_norm(z)\n",
    "            \n",
    "        rx = z\n",
    "        for idx, n_output in enumerate(dims[:-1][::-1]):\n",
    "            if idx<len(dims)-2:\n",
    "                rx = slim.fully_connected(rx,n_output,activation_fn = activation)\n",
    "                rx = slim.batch_norm(rx)\n",
    "            else:\n",
    "                rx_z = rx\n",
    "                rx = slim.fully_connected(rx,n_output,activation_fn = tf.nn.sigmoid)\n",
    "    variables = tf.contrib.framework.get_variables(vs)\n",
    "    return rx, z, rx_z, variables\n",
    "    "
   ]
  },
  {
   "cell_type": "code",
   "execution_count": 6,
   "metadata": {},
   "outputs": [],
   "source": [
    "### parameter specification ###\n",
    "layers = [784,1024,1024]\n",
    "lr_init = 0.1\n",
    "lr_step = 100\n",
    "lr_decay = 0.1\n",
    "iterations = 10000\n",
    "batch_size = 128\n",
    "model_dir = '../logs/mnist_denseDAE'"
   ]
  },
  {
   "cell_type": "code",
   "execution_count": 7,
   "metadata": {},
   "outputs": [
    {
     "name": "stdout",
     "output_type": "stream",
     "text": [
      "float32\n"
     ]
    }
   ],
   "source": [
    "tf.reset_default_graph()\n",
    "mnist = tf.keras.datasets.mnist\n",
    "(x_train,y_train),(x_test,y_test) = mnist.load_data()\n",
    "x_train = np.array(x_train,dtype=np.float32)\n",
    "x_test = np.array(x_test,dtype=np.float32)\n",
    "print(x_train.dtype)"
   ]
  },
  {
   "cell_type": "code",
   "execution_count": 8,
   "metadata": {},
   "outputs": [],
   "source": [
    "def next_batch_dae(num, x, y):\n",
    "    idx = np.arange(0 , len(x))\n",
    "    np.random.shuffle(idx)\n",
    "    idx = idx[:num]\n",
    "    x_shuffle = [x[ i] for i in idx]\n",
    "    y_shuffle = [y[ i] for i in idx]\n",
    "\n",
    "    return np.asarray(x_shuffle), np.asarray(y_shuffle)"
   ]
  },
  {
   "cell_type": "code",
   "execution_count": 9,
   "metadata": {},
   "outputs": [],
   "source": [
    "def create_model():\n",
    "    tf.reset_default_graph()\n",
    "    step_var = tf.Variable(0,name='step',trainable=False)\n",
    "    lr = tf.train.exponential_decay(lr_init, step_var, lr_step,lr_decay,staircase=True)\n",
    "\n",
    "\n",
    "    image_batch = tf.placeholder(tf.float32,shape=[batch_size,28,28])\n",
    "    batch_X = norm_img(image_batch)\n",
    "    crrX = corrupt(batch_X)#defualt is gaussian\n",
    "    batch_crrX = denorm_img(crrX)\n",
    "\n",
    "\n",
    "    x = tf.reshape(batch_X,[-1,layers[0]])\n",
    "    rx,z, variables = AE_dense(crrX,layers,tf.nn.elu)\n",
    "    batch_rx = denorm_img(rx)\n",
    "    optimizer = tf.train.AdamOptimizer(lr)\n",
    "    loss = tf.reduce_mean(tf.abs(rx-x))\n",
    "    optim = optimizer.minimize(loss,var_list = variables)\n",
    "    summary_op = tf.summary.merge([\n",
    "        tf.summary.scalar(\"loss\",loss),\n",
    "        tf.summary.scalar(\"lr\",lr)\n",
    "    ])\n",
    "\n",
    "    init_op = tf.global_variables_initializer()"
   ]
  },
  {
   "cell_type": "code",
   "execution_count": 10,
   "metadata": {},
   "outputs": [
    {
     "data": {
      "text/plain": [
       "'\\nsummary_writer = tf.summary.FileWriter(model_dir)\\nsv = tf.train.Supervisor(logdir = model_dir,\\n                        is_chief = True, saver = saver,\\n                        summary_op = summary_op,\\n                        summary_writer = summary_writer,\\n                        save_model_secs = 100,\\n                        global_step = step_var,\\n                        ready_for_local_init_op = None)\\ngpu_options = tf.GPUOptions(allow_growth = True)\\nsess_config = tf.ConfigProto(allow_soft_placement=True,\\n                            gpu_options = gpu_options)\\n'"
      ]
     },
     "execution_count": 10,
     "metadata": {},
     "output_type": "execute_result"
    }
   ],
   "source": [
    "#Reset default graph 하면 이전에 정의해 놓았던 tensor들이 모호해 지므로 적당한 위치에\n",
    "#놓는 것이 매우 중요하다.\n",
    "\n",
    "step_var = tf.Variable(0,name='step',trainable=False)\n",
    "lr = tf.train.exponential_decay(lr_init, step_var, lr_step,lr_decay,staircase=True)\n",
    "\n",
    "\n",
    "image_batch = tf.placeholder(tf.float32,shape=[batch_size,28,28])\n",
    "batch_X = norm_img(image_batch)\n",
    "crrX = corrupt(batch_X,'gaussian',0.2)#defualt is gaussian\n",
    "batch_crrX = denorm_img(crrX)\n",
    "\n",
    "\n",
    "x = tf.reshape(batch_X,[-1,layers[0]])\n",
    "rx,z,rx_z, variables = AE_dense(crrX,layers,tf.nn.elu)\n",
    "batch_rx = denorm_img(rx)\n",
    "optimizer = tf.train.AdamOptimizer(lr)\n",
    "#loss = tf.reduce_mean(tf.abs(rx-x))\n",
    "loss = tf.reduce_mean(tf.square(rx-x))\n",
    "optim = optimizer.minimize(loss,var_list = variables)\n",
    "summary_op = tf.summary.merge([\n",
    "    tf.summary.scalar(\"loss\",loss),\n",
    "    tf.summary.scalar(\"lr\",lr)\n",
    "])\n",
    "\n",
    "init_op = tf.global_variables_initializer()\n",
    "saver = tf.train.Saver()\n",
    "\"\"\"\n",
    "summary_writer = tf.summary.FileWriter(model_dir)\n",
    "sv = tf.train.Supervisor(logdir = model_dir,\n",
    "                        is_chief = True, saver = saver,\n",
    "                        summary_op = summary_op,\n",
    "                        summary_writer = summary_writer,\n",
    "                        save_model_secs = 100,\n",
    "                        global_step = step_var,\n",
    "                        ready_for_local_init_op = None)\n",
    "gpu_options = tf.GPUOptions(allow_growth = True)\n",
    "sess_config = tf.ConfigProto(allow_soft_placement=True,\n",
    "                            gpu_options = gpu_options)\n",
    "\"\"\""
   ]
  },
  {
   "cell_type": "code",
   "execution_count": 13,
   "metadata": {
    "scrolled": true
   },
   "outputs": [
    {
     "name": "stderr",
     "output_type": "stream",
     "text": [
      "  0%|          | 24/10000 [00:00<01:26, 115.71it/s]"
     ]
    },
    {
     "name": "stdout",
     "output_type": "stream",
     "text": [
      "[0/10000] Loss:0.277754\n"
     ]
    },
    {
     "name": "stderr",
     "output_type": "stream",
     "text": [
      "  1%|▏         | 134/10000 [00:00<01:00, 162.62it/s]"
     ]
    },
    {
     "name": "stdout",
     "output_type": "stream",
     "text": [
      "[100/10000] Loss:0.068456\n"
     ]
    },
    {
     "name": "stderr",
     "output_type": "stream",
     "text": [
      "  2%|▏         | 227/10000 [00:01<00:57, 169.59it/s]"
     ]
    },
    {
     "name": "stdout",
     "output_type": "stream",
     "text": [
      "[200/10000] Loss:0.061190\n"
     ]
    },
    {
     "name": "stderr",
     "output_type": "stream",
     "text": [
      "  3%|▎         | 336/10000 [00:01<00:56, 172.20it/s]"
     ]
    },
    {
     "name": "stdout",
     "output_type": "stream",
     "text": [
      "[300/10000] Loss:0.057734\n"
     ]
    },
    {
     "name": "stderr",
     "output_type": "stream",
     "text": [
      "  4%|▍         | 431/10000 [00:02<00:55, 173.95it/s]"
     ]
    },
    {
     "name": "stdout",
     "output_type": "stream",
     "text": [
      "[400/10000] Loss:0.055505\n"
     ]
    },
    {
     "name": "stderr",
     "output_type": "stream",
     "text": [
      "  5%|▌         | 522/10000 [00:02<00:54, 174.49it/s]"
     ]
    },
    {
     "name": "stdout",
     "output_type": "stream",
     "text": [
      "[500/10000] Loss:0.049868\n"
     ]
    },
    {
     "name": "stderr",
     "output_type": "stream",
     "text": [
      "  6%|▋         | 631/10000 [00:03<00:53, 175.05it/s]"
     ]
    },
    {
     "name": "stdout",
     "output_type": "stream",
     "text": [
      "[600/10000] Loss:0.051831\n"
     ]
    },
    {
     "name": "stderr",
     "output_type": "stream",
     "text": [
      "  7%|▋         | 723/10000 [00:04<00:52, 175.55it/s]"
     ]
    },
    {
     "name": "stdout",
     "output_type": "stream",
     "text": [
      "[700/10000] Loss:0.049550\n"
     ]
    },
    {
     "name": "stderr",
     "output_type": "stream",
     "text": [
      "  8%|▊         | 834/10000 [00:04<00:52, 175.99it/s]"
     ]
    },
    {
     "name": "stdout",
     "output_type": "stream",
     "text": [
      "[800/10000] Loss:0.048911\n"
     ]
    },
    {
     "name": "stderr",
     "output_type": "stream",
     "text": [
      "  9%|▉         | 928/10000 [00:05<00:51, 176.41it/s]"
     ]
    },
    {
     "name": "stdout",
     "output_type": "stream",
     "text": [
      "[900/10000] Loss:0.049247\n"
     ]
    },
    {
     "name": "stderr",
     "output_type": "stream",
     "text": [
      " 10%|█         | 1019/10000 [00:05<00:51, 172.79it/s]"
     ]
    },
    {
     "name": "stdout",
     "output_type": "stream",
     "text": [
      "[1000/10000] Loss:0.049701\n"
     ]
    },
    {
     "name": "stderr",
     "output_type": "stream",
     "text": [
      " 11%|█▏        | 1130/10000 [00:06<00:51, 173.59it/s]"
     ]
    },
    {
     "name": "stdout",
     "output_type": "stream",
     "text": [
      "[1100/10000] Loss:0.044111\n"
     ]
    },
    {
     "name": "stderr",
     "output_type": "stream",
     "text": [
      " 12%|█▏        | 1220/10000 [00:07<00:50, 173.73it/s]"
     ]
    },
    {
     "name": "stdout",
     "output_type": "stream",
     "text": [
      "[1200/10000] Loss:0.045529\n"
     ]
    },
    {
     "name": "stderr",
     "output_type": "stream",
     "text": [
      " 13%|█▎        | 1328/10000 [00:07<00:49, 173.64it/s]"
     ]
    },
    {
     "name": "stdout",
     "output_type": "stream",
     "text": [
      "[1300/10000] Loss:0.047629\n"
     ]
    },
    {
     "name": "stderr",
     "output_type": "stream",
     "text": [
      " 14%|█▍        | 1437/10000 [00:08<00:49, 173.99it/s]"
     ]
    },
    {
     "name": "stdout",
     "output_type": "stream",
     "text": [
      "[1400/10000] Loss:0.044684\n"
     ]
    },
    {
     "name": "stderr",
     "output_type": "stream",
     "text": [
      " 15%|█▌        | 1532/10000 [00:08<00:48, 174.36it/s]"
     ]
    },
    {
     "name": "stdout",
     "output_type": "stream",
     "text": [
      "[1500/10000] Loss:0.044828\n"
     ]
    },
    {
     "name": "stderr",
     "output_type": "stream",
     "text": [
      " 16%|█▋        | 1625/10000 [00:09<00:47, 174.52it/s]"
     ]
    },
    {
     "name": "stdout",
     "output_type": "stream",
     "text": [
      "[1600/10000] Loss:0.045939\n"
     ]
    },
    {
     "name": "stderr",
     "output_type": "stream",
     "text": [
      " 17%|█▋        | 1736/10000 [00:09<00:47, 174.84it/s]"
     ]
    },
    {
     "name": "stdout",
     "output_type": "stream",
     "text": [
      "[1700/10000] Loss:0.049140\n"
     ]
    },
    {
     "name": "stderr",
     "output_type": "stream",
     "text": [
      " 18%|█▊        | 1830/10000 [00:10<00:46, 175.08it/s]"
     ]
    },
    {
     "name": "stdout",
     "output_type": "stream",
     "text": [
      "[1800/10000] Loss:0.044375\n"
     ]
    },
    {
     "name": "stderr",
     "output_type": "stream",
     "text": [
      " 19%|█▉        | 1922/10000 [00:10<00:46, 175.26it/s]"
     ]
    },
    {
     "name": "stdout",
     "output_type": "stream",
     "text": [
      "[1900/10000] Loss:0.045751\n"
     ]
    },
    {
     "name": "stderr",
     "output_type": "stream",
     "text": [
      " 20%|██        | 2031/10000 [00:11<00:45, 173.77it/s]"
     ]
    },
    {
     "name": "stdout",
     "output_type": "stream",
     "text": [
      "[2000/10000] Loss:0.044552\n"
     ]
    },
    {
     "name": "stderr",
     "output_type": "stream",
     "text": [
      " 21%|██        | 2121/10000 [00:12<00:45, 173.89it/s]"
     ]
    },
    {
     "name": "stdout",
     "output_type": "stream",
     "text": [
      "[2100/10000] Loss:0.043087\n"
     ]
    },
    {
     "name": "stderr",
     "output_type": "stream",
     "text": [
      " 22%|██▏       | 2229/10000 [00:12<00:44, 173.90it/s]"
     ]
    },
    {
     "name": "stdout",
     "output_type": "stream",
     "text": [
      "[2200/10000] Loss:0.040979\n"
     ]
    },
    {
     "name": "stderr",
     "output_type": "stream",
     "text": [
      " 23%|██▎       | 2319/10000 [00:13<00:44, 173.77it/s]"
     ]
    },
    {
     "name": "stdout",
     "output_type": "stream",
     "text": [
      "[2300/10000] Loss:0.043660\n"
     ]
    },
    {
     "name": "stderr",
     "output_type": "stream",
     "text": [
      " 24%|██▍       | 2426/10000 [00:13<00:43, 173.58it/s]"
     ]
    },
    {
     "name": "stdout",
     "output_type": "stream",
     "text": [
      "[2400/10000] Loss:0.043992\n"
     ]
    },
    {
     "name": "stderr",
     "output_type": "stream",
     "text": [
      " 25%|██▌       | 2528/10000 [00:14<00:43, 173.37it/s]"
     ]
    },
    {
     "name": "stdout",
     "output_type": "stream",
     "text": [
      "[2500/10000] Loss:0.043583\n"
     ]
    },
    {
     "name": "stderr",
     "output_type": "stream",
     "text": [
      " 26%|██▋       | 2630/10000 [00:15<00:42, 173.04it/s]"
     ]
    },
    {
     "name": "stdout",
     "output_type": "stream",
     "text": [
      "[2600/10000] Loss:0.045731\n"
     ]
    },
    {
     "name": "stderr",
     "output_type": "stream",
     "text": [
      " 27%|██▋       | 2732/10000 [00:15<00:42, 172.74it/s]"
     ]
    },
    {
     "name": "stdout",
     "output_type": "stream",
     "text": [
      "[2700/10000] Loss:0.040560\n"
     ]
    },
    {
     "name": "stderr",
     "output_type": "stream",
     "text": [
      " 28%|██▊       | 2834/10000 [00:16<00:41, 172.48it/s]"
     ]
    },
    {
     "name": "stdout",
     "output_type": "stream",
     "text": [
      "[2800/10000] Loss:0.044937\n"
     ]
    },
    {
     "name": "stderr",
     "output_type": "stream",
     "text": [
      " 29%|██▉       | 2919/10000 [00:16<00:41, 172.29it/s]"
     ]
    },
    {
     "name": "stdout",
     "output_type": "stream",
     "text": [
      "[2900/10000] Loss:0.046052\n"
     ]
    },
    {
     "name": "stderr",
     "output_type": "stream",
     "text": [
      " 30%|███       | 3023/10000 [00:17<00:40, 171.05it/s]"
     ]
    },
    {
     "name": "stdout",
     "output_type": "stream",
     "text": [
      "[3000/10000] Loss:0.042505\n"
     ]
    },
    {
     "name": "stderr",
     "output_type": "stream",
     "text": [
      " 31%|███▏      | 3133/10000 [00:18<00:40, 171.27it/s]"
     ]
    },
    {
     "name": "stdout",
     "output_type": "stream",
     "text": [
      "[3100/10000] Loss:0.044122\n"
     ]
    },
    {
     "name": "stderr",
     "output_type": "stream",
     "text": [
      " 32%|███▏      | 3223/10000 [00:18<00:39, 171.26it/s]"
     ]
    },
    {
     "name": "stdout",
     "output_type": "stream",
     "text": [
      "[3200/10000] Loss:0.040975\n"
     ]
    },
    {
     "name": "stderr",
     "output_type": "stream",
     "text": [
      " 33%|███▎      | 3326/10000 [00:19<00:39, 171.06it/s]"
     ]
    },
    {
     "name": "stdout",
     "output_type": "stream",
     "text": [
      "[3300/10000] Loss:0.041373\n"
     ]
    },
    {
     "name": "stderr",
     "output_type": "stream",
     "text": [
      " 34%|███▍      | 3428/10000 [00:20<00:38, 170.86it/s]"
     ]
    },
    {
     "name": "stdout",
     "output_type": "stream",
     "text": [
      "[3400/10000] Loss:0.043151\n"
     ]
    },
    {
     "name": "stderr",
     "output_type": "stream",
     "text": [
      " 35%|███▌      | 3530/10000 [00:20<00:37, 170.65it/s]"
     ]
    },
    {
     "name": "stdout",
     "output_type": "stream",
     "text": [
      "[3500/10000] Loss:0.042036\n"
     ]
    },
    {
     "name": "stderr",
     "output_type": "stream",
     "text": [
      " 36%|███▋      | 3632/10000 [00:21<00:37, 170.45it/s]"
     ]
    },
    {
     "name": "stdout",
     "output_type": "stream",
     "text": [
      "[3600/10000] Loss:0.040819\n"
     ]
    },
    {
     "name": "stderr",
     "output_type": "stream",
     "text": [
      " 37%|███▋      | 3717/10000 [00:21<00:36, 170.30it/s]"
     ]
    },
    {
     "name": "stdout",
     "output_type": "stream",
     "text": [
      "[3700/10000] Loss:0.041292\n"
     ]
    },
    {
     "name": "stderr",
     "output_type": "stream",
     "text": [
      " 38%|███▊      | 3819/10000 [00:22<00:36, 170.13it/s]"
     ]
    },
    {
     "name": "stdout",
     "output_type": "stream",
     "text": [
      "[3800/10000] Loss:0.043639\n"
     ]
    },
    {
     "name": "stderr",
     "output_type": "stream",
     "text": [
      " 39%|███▉      | 3921/10000 [00:23<00:35, 169.92it/s]"
     ]
    },
    {
     "name": "stdout",
     "output_type": "stream",
     "text": [
      "[3900/10000] Loss:0.040771\n"
     ]
    },
    {
     "name": "stderr",
     "output_type": "stream",
     "text": [
      " 40%|████      | 4025/10000 [00:23<00:35, 169.08it/s]"
     ]
    },
    {
     "name": "stdout",
     "output_type": "stream",
     "text": [
      "[4000/10000] Loss:0.042092\n"
     ]
    },
    {
     "name": "stderr",
     "output_type": "stream",
     "text": [
      " 41%|████      | 4119/10000 [00:24<00:34, 169.36it/s]"
     ]
    },
    {
     "name": "stdout",
     "output_type": "stream",
     "text": [
      "[4100/10000] Loss:0.043632\n"
     ]
    },
    {
     "name": "stderr",
     "output_type": "stream",
     "text": [
      " 42%|████▏     | 4227/10000 [00:24<00:34, 169.52it/s]"
     ]
    },
    {
     "name": "stdout",
     "output_type": "stream",
     "text": [
      "[4200/10000] Loss:0.042204\n"
     ]
    },
    {
     "name": "stderr",
     "output_type": "stream",
     "text": [
      " 43%|████▎     | 4335/10000 [00:25<00:33, 169.58it/s]"
     ]
    },
    {
     "name": "stdout",
     "output_type": "stream",
     "text": [
      "[4300/10000] Loss:0.040202\n"
     ]
    },
    {
     "name": "stderr",
     "output_type": "stream",
     "text": [
      " 44%|████▍     | 4425/10000 [00:26<00:32, 169.58it/s]"
     ]
    },
    {
     "name": "stdout",
     "output_type": "stream",
     "text": [
      "[4400/10000] Loss:0.043848\n"
     ]
    },
    {
     "name": "stderr",
     "output_type": "stream",
     "text": [
      " 45%|████▌     | 4527/10000 [00:26<00:32, 169.45it/s]"
     ]
    },
    {
     "name": "stdout",
     "output_type": "stream",
     "text": [
      "[4500/10000] Loss:0.042089\n"
     ]
    },
    {
     "name": "stderr",
     "output_type": "stream",
     "text": [
      " 46%|████▋     | 4629/10000 [00:27<00:31, 169.40it/s]"
     ]
    },
    {
     "name": "stdout",
     "output_type": "stream",
     "text": [
      "[4600/10000] Loss:0.045399\n"
     ]
    },
    {
     "name": "stderr",
     "output_type": "stream",
     "text": [
      " 47%|████▋     | 4735/10000 [00:27<00:31, 169.41it/s]"
     ]
    },
    {
     "name": "stdout",
     "output_type": "stream",
     "text": [
      "[4700/10000] Loss:0.041830\n"
     ]
    },
    {
     "name": "stderr",
     "output_type": "stream",
     "text": [
      " 48%|████▊     | 4821/10000 [00:28<00:30, 169.39it/s]"
     ]
    },
    {
     "name": "stdout",
     "output_type": "stream",
     "text": [
      "[4800/10000] Loss:0.041181\n"
     ]
    },
    {
     "name": "stderr",
     "output_type": "stream",
     "text": [
      " 49%|████▉     | 4925/10000 [00:29<00:29, 169.37it/s]"
     ]
    },
    {
     "name": "stdout",
     "output_type": "stream",
     "text": [
      "[4900/10000] Loss:0.039756\n"
     ]
    },
    {
     "name": "stderr",
     "output_type": "stream",
     "text": [
      " 50%|█████     | 5031/10000 [00:29<00:29, 168.80it/s]"
     ]
    },
    {
     "name": "stdout",
     "output_type": "stream",
     "text": [
      "[5000/10000] Loss:0.042440\n"
     ]
    },
    {
     "name": "stderr",
     "output_type": "stream",
     "text": [
      " 51%|█████     | 5121/10000 [00:30<00:28, 168.95it/s]"
     ]
    },
    {
     "name": "stdout",
     "output_type": "stream",
     "text": [
      "[5100/10000] Loss:0.037911\n"
     ]
    },
    {
     "name": "stderr",
     "output_type": "stream",
     "text": [
      " 52%|█████▏    | 5229/10000 [00:30<00:28, 169.11it/s]"
     ]
    },
    {
     "name": "stdout",
     "output_type": "stream",
     "text": [
      "[5200/10000] Loss:0.041777\n"
     ]
    },
    {
     "name": "stderr",
     "output_type": "stream",
     "text": [
      " 53%|█████▎    | 5319/10000 [00:31<00:27, 169.22it/s]"
     ]
    },
    {
     "name": "stdout",
     "output_type": "stream",
     "text": [
      "[5300/10000] Loss:0.042123\n"
     ]
    },
    {
     "name": "stderr",
     "output_type": "stream",
     "text": [
      " 54%|█████▍    | 5427/10000 [00:32<00:27, 169.27it/s]"
     ]
    },
    {
     "name": "stdout",
     "output_type": "stream",
     "text": [
      "[5400/10000] Loss:0.038955\n"
     ]
    },
    {
     "name": "stderr",
     "output_type": "stream",
     "text": [
      " 55%|█████▌    | 5517/10000 [00:32<00:26, 169.28it/s]"
     ]
    },
    {
     "name": "stdout",
     "output_type": "stream",
     "text": [
      "[5500/10000] Loss:0.039708\n"
     ]
    },
    {
     "name": "stderr",
     "output_type": "stream",
     "text": [
      " 56%|█████▌    | 5622/10000 [00:33<00:25, 169.26it/s]"
     ]
    },
    {
     "name": "stdout",
     "output_type": "stream",
     "text": [
      "[5600/10000] Loss:0.042531\n"
     ]
    },
    {
     "name": "stderr",
     "output_type": "stream",
     "text": [
      " 57%|█████▋    | 5724/10000 [00:33<00:25, 169.18it/s]"
     ]
    },
    {
     "name": "stdout",
     "output_type": "stream",
     "text": [
      "[5700/10000] Loss:0.042130\n"
     ]
    },
    {
     "name": "stderr",
     "output_type": "stream",
     "text": [
      " 58%|█████▊    | 5834/10000 [00:34<00:24, 169.33it/s]"
     ]
    },
    {
     "name": "stdout",
     "output_type": "stream",
     "text": [
      "[5800/10000] Loss:0.039848\n"
     ]
    },
    {
     "name": "stderr",
     "output_type": "stream",
     "text": [
      " 59%|█████▉    | 5928/10000 [00:34<00:24, 169.50it/s]"
     ]
    },
    {
     "name": "stdout",
     "output_type": "stream",
     "text": [
      "[5900/10000] Loss:0.040304\n"
     ]
    },
    {
     "name": "stderr",
     "output_type": "stream",
     "text": [
      " 60%|██████    | 6023/10000 [00:35<00:23, 169.15it/s]"
     ]
    },
    {
     "name": "stdout",
     "output_type": "stream",
     "text": [
      "[6000/10000] Loss:0.042500\n"
     ]
    },
    {
     "name": "stderr",
     "output_type": "stream",
     "text": [
      " 61%|██████▏   | 6137/10000 [00:36<00:22, 169.40it/s]"
     ]
    },
    {
     "name": "stdout",
     "output_type": "stream",
     "text": [
      "[6100/10000] Loss:0.041760\n"
     ]
    },
    {
     "name": "stderr",
     "output_type": "stream",
     "text": [
      " 62%|██████▏   | 6232/10000 [00:36<00:22, 169.56it/s]"
     ]
    },
    {
     "name": "stdout",
     "output_type": "stream",
     "text": [
      "[6200/10000] Loss:0.042692\n"
     ]
    },
    {
     "name": "stderr",
     "output_type": "stream",
     "text": [
      " 63%|██████▎   | 6324/10000 [00:37<00:21, 169.66it/s]"
     ]
    },
    {
     "name": "stdout",
     "output_type": "stream",
     "text": [
      "[6300/10000] Loss:0.040081\n"
     ]
    },
    {
     "name": "stderr",
     "output_type": "stream",
     "text": [
      " 64%|██████▍   | 6432/10000 [00:37<00:21, 169.76it/s]"
     ]
    },
    {
     "name": "stdout",
     "output_type": "stream",
     "text": [
      "[6400/10000] Loss:0.040632\n"
     ]
    },
    {
     "name": "stderr",
     "output_type": "stream",
     "text": [
      " 65%|██████▌   | 6526/10000 [00:38<00:20, 169.91it/s]"
     ]
    },
    {
     "name": "stdout",
     "output_type": "stream",
     "text": [
      "[6500/10000] Loss:0.041833\n"
     ]
    },
    {
     "name": "stderr",
     "output_type": "stream",
     "text": [
      " 66%|██████▋   | 6635/10000 [00:39<00:19, 170.02it/s]"
     ]
    },
    {
     "name": "stdout",
     "output_type": "stream",
     "text": [
      "[6600/10000] Loss:0.040927\n"
     ]
    },
    {
     "name": "stderr",
     "output_type": "stream",
     "text": [
      " 67%|██████▋   | 6727/10000 [00:39<00:19, 170.15it/s]"
     ]
    },
    {
     "name": "stdout",
     "output_type": "stream",
     "text": [
      "[6700/10000] Loss:0.041272\n"
     ]
    },
    {
     "name": "stderr",
     "output_type": "stream",
     "text": [
      " 68%|██████▊   | 6822/10000 [00:40<00:18, 170.29it/s]"
     ]
    },
    {
     "name": "stdout",
     "output_type": "stream",
     "text": [
      "[6800/10000] Loss:0.041946\n"
     ]
    },
    {
     "name": "stderr",
     "output_type": "stream",
     "text": [
      " 69%|██████▉   | 6936/10000 [00:40<00:17, 170.45it/s]"
     ]
    },
    {
     "name": "stdout",
     "output_type": "stream",
     "text": [
      "[6900/10000] Loss:0.040792\n"
     ]
    },
    {
     "name": "stderr",
     "output_type": "stream",
     "text": [
      " 70%|███████   | 7027/10000 [00:41<00:17, 170.10it/s]"
     ]
    },
    {
     "name": "stdout",
     "output_type": "stream",
     "text": [
      "[7000/10000] Loss:0.040133\n"
     ]
    },
    {
     "name": "stderr",
     "output_type": "stream",
     "text": [
      " 71%|███████   | 7120/10000 [00:41<00:16, 170.22it/s]"
     ]
    },
    {
     "name": "stdout",
     "output_type": "stream",
     "text": [
      "[7100/10000] Loss:0.038444\n"
     ]
    },
    {
     "name": "stderr",
     "output_type": "stream",
     "text": [
      " 72%|███████▏  | 7232/10000 [00:42<00:16, 170.36it/s]"
     ]
    },
    {
     "name": "stdout",
     "output_type": "stream",
     "text": [
      "[7200/10000] Loss:0.039587\n"
     ]
    },
    {
     "name": "stderr",
     "output_type": "stream",
     "text": [
      " 73%|███████▎  | 7327/10000 [00:42<00:15, 170.48it/s]"
     ]
    },
    {
     "name": "stdout",
     "output_type": "stream",
     "text": [
      "[7300/10000] Loss:0.037623\n"
     ]
    },
    {
     "name": "stderr",
     "output_type": "stream",
     "text": [
      " 74%|███████▍  | 7435/10000 [00:43<00:15, 170.58it/s]"
     ]
    },
    {
     "name": "stdout",
     "output_type": "stream",
     "text": [
      "[7400/10000] Loss:0.041041\n"
     ]
    },
    {
     "name": "stderr",
     "output_type": "stream",
     "text": [
      " 75%|███████▌  | 7525/10000 [00:44<00:14, 170.63it/s]"
     ]
    },
    {
     "name": "stdout",
     "output_type": "stream",
     "text": [
      "[7500/10000] Loss:0.041543\n"
     ]
    },
    {
     "name": "stderr",
     "output_type": "stream",
     "text": [
      " 76%|███████▋  | 7633/10000 [00:44<00:13, 170.65it/s]"
     ]
    },
    {
     "name": "stdout",
     "output_type": "stream",
     "text": [
      "[7600/10000] Loss:0.041376\n"
     ]
    },
    {
     "name": "stderr",
     "output_type": "stream",
     "text": [
      " 77%|███████▋  | 7723/10000 [00:45<00:13, 170.64it/s]"
     ]
    },
    {
     "name": "stdout",
     "output_type": "stream",
     "text": [
      "[7700/10000] Loss:0.041037\n"
     ]
    },
    {
     "name": "stderr",
     "output_type": "stream",
     "text": [
      " 78%|███████▊  | 7825/10000 [00:45<00:12, 170.59it/s]"
     ]
    },
    {
     "name": "stdout",
     "output_type": "stream",
     "text": [
      "[7800/10000] Loss:0.041652\n"
     ]
    },
    {
     "name": "stderr",
     "output_type": "stream",
     "text": [
      " 79%|███████▉  | 7927/10000 [00:46<00:12, 170.53it/s]"
     ]
    },
    {
     "name": "stdout",
     "output_type": "stream",
     "text": [
      "[7900/10000] Loss:0.039620\n"
     ]
    },
    {
     "name": "stderr",
     "output_type": "stream",
     "text": [
      " 80%|████████  | 8031/10000 [00:47<00:11, 170.10it/s]"
     ]
    },
    {
     "name": "stdout",
     "output_type": "stream",
     "text": [
      "[8000/10000] Loss:0.037729\n"
     ]
    },
    {
     "name": "stderr",
     "output_type": "stream",
     "text": [
      " 81%|████████  | 8121/10000 [00:47<00:11, 170.17it/s]"
     ]
    },
    {
     "name": "stdout",
     "output_type": "stream",
     "text": [
      "[8100/10000] Loss:0.038592\n"
     ]
    },
    {
     "name": "stderr",
     "output_type": "stream",
     "text": [
      " 82%|████████▏ | 8229/10000 [00:48<00:10, 170.20it/s]"
     ]
    },
    {
     "name": "stdout",
     "output_type": "stream",
     "text": [
      "[8200/10000] Loss:0.041467\n"
     ]
    },
    {
     "name": "stderr",
     "output_type": "stream",
     "text": [
      " 83%|████████▎ | 8319/10000 [00:48<00:09, 170.20it/s]"
     ]
    },
    {
     "name": "stdout",
     "output_type": "stream",
     "text": [
      "[8300/10000] Loss:0.042235\n"
     ]
    },
    {
     "name": "stderr",
     "output_type": "stream",
     "text": [
      " 84%|████████▍ | 8423/10000 [00:49<00:09, 170.17it/s]"
     ]
    },
    {
     "name": "stdout",
     "output_type": "stream",
     "text": [
      "[8400/10000] Loss:0.037968\n"
     ]
    },
    {
     "name": "stderr",
     "output_type": "stream",
     "text": [
      " 85%|████████▌ | 8526/10000 [00:50<00:08, 170.14it/s]"
     ]
    },
    {
     "name": "stdout",
     "output_type": "stream",
     "text": [
      "[8500/10000] Loss:0.038670\n"
     ]
    },
    {
     "name": "stderr",
     "output_type": "stream",
     "text": [
      " 86%|████████▋ | 8632/10000 [00:50<00:08, 170.15it/s]"
     ]
    },
    {
     "name": "stdout",
     "output_type": "stream",
     "text": [
      "[8600/10000] Loss:0.042299\n"
     ]
    },
    {
     "name": "stderr",
     "output_type": "stream",
     "text": [
      " 87%|████████▋ | 8722/10000 [00:51<00:07, 170.16it/s]"
     ]
    },
    {
     "name": "stdout",
     "output_type": "stream",
     "text": [
      "[8700/10000] Loss:0.039331\n"
     ]
    },
    {
     "name": "stderr",
     "output_type": "stream",
     "text": [
      " 88%|████████▊ | 8831/10000 [00:51<00:06, 170.21it/s]"
     ]
    },
    {
     "name": "stdout",
     "output_type": "stream",
     "text": [
      "[8800/10000] Loss:0.039930\n"
     ]
    },
    {
     "name": "stderr",
     "output_type": "stream",
     "text": [
      " 89%|████████▉ | 8926/10000 [00:52<00:06, 170.34it/s]"
     ]
    },
    {
     "name": "stdout",
     "output_type": "stream",
     "text": [
      "[8900/10000] Loss:0.039262\n"
     ]
    },
    {
     "name": "stderr",
     "output_type": "stream",
     "text": [
      " 90%|█████████ | 9021/10000 [00:53<00:05, 170.10it/s]"
     ]
    },
    {
     "name": "stdout",
     "output_type": "stream",
     "text": [
      "[9000/10000] Loss:0.039248\n"
     ]
    },
    {
     "name": "stderr",
     "output_type": "stream",
     "text": [
      " 91%|█████████▏| 9135/10000 [00:53<00:05, 170.24it/s]"
     ]
    },
    {
     "name": "stdout",
     "output_type": "stream",
     "text": [
      "[9100/10000] Loss:0.037772\n"
     ]
    },
    {
     "name": "stderr",
     "output_type": "stream",
     "text": [
      " 92%|█████████▏| 9230/10000 [00:54<00:04, 170.35it/s]"
     ]
    },
    {
     "name": "stdout",
     "output_type": "stream",
     "text": [
      "[9200/10000] Loss:0.038284\n"
     ]
    },
    {
     "name": "stderr",
     "output_type": "stream",
     "text": [
      " 93%|█████████▎| 9325/10000 [00:54<00:03, 170.45it/s]"
     ]
    },
    {
     "name": "stdout",
     "output_type": "stream",
     "text": [
      "[9300/10000] Loss:0.037704\n"
     ]
    },
    {
     "name": "stderr",
     "output_type": "stream",
     "text": [
      " 94%|█████████▍| 9420/10000 [00:55<00:03, 170.56it/s]"
     ]
    },
    {
     "name": "stdout",
     "output_type": "stream",
     "text": [
      "[9400/10000] Loss:0.038408\n"
     ]
    },
    {
     "name": "stderr",
     "output_type": "stream",
     "text": [
      " 95%|█████████▌| 9534/10000 [00:55<00:02, 170.70it/s]"
     ]
    },
    {
     "name": "stdout",
     "output_type": "stream",
     "text": [
      "[9500/10000] Loss:0.037980\n"
     ]
    },
    {
     "name": "stderr",
     "output_type": "stream",
     "text": [
      " 96%|█████████▋| 9629/10000 [00:56<00:02, 170.82it/s]"
     ]
    },
    {
     "name": "stdout",
     "output_type": "stream",
     "text": [
      "[9600/10000] Loss:0.040983\n"
     ]
    },
    {
     "name": "stderr",
     "output_type": "stream",
     "text": [
      " 97%|█████████▋| 9724/10000 [00:56<00:01, 170.92it/s]"
     ]
    },
    {
     "name": "stdout",
     "output_type": "stream",
     "text": [
      "[9700/10000] Loss:0.038628\n"
     ]
    },
    {
     "name": "stderr",
     "output_type": "stream",
     "text": [
      " 98%|█████████▊| 9819/10000 [00:57<00:01, 171.01it/s]"
     ]
    },
    {
     "name": "stdout",
     "output_type": "stream",
     "text": [
      "[9800/10000] Loss:0.040244\n"
     ]
    },
    {
     "name": "stderr",
     "output_type": "stream",
     "text": [
      " 99%|█████████▉| 9932/10000 [00:58<00:00, 171.11it/s]"
     ]
    },
    {
     "name": "stdout",
     "output_type": "stream",
     "text": [
      "[9900/10000] Loss:0.038958\n"
     ]
    },
    {
     "name": "stderr",
     "output_type": "stream",
     "text": [
      "100%|██████████| 10000/10000 [00:58<00:00, 170.83it/s]\n"
     ]
    }
   ],
   "source": [
    "#create_model()\n",
    "#saver = tf.train.Saver()\n",
    "with tf.Session() as sess:\n",
    "    #coord = tf.train.Coordinator()\n",
    "    #threads = tf.train.start_queue_runners(sess=sess, coord=coord)\n",
    "    sess.run(init_op)\n",
    "    start_step = sess.run(step_var)\n",
    "    for itr in trange(start_step,iterations):\n",
    "        fetch_dict={\n",
    "            'optim':optim\n",
    "        }\n",
    "        if itr%100==0:\n",
    "            fetch_dict.update({\n",
    "                \"summary\": summary_op,\n",
    "                \"loss\":loss,\n",
    "                \"lr\":lr\n",
    "            })\n",
    "        feed_dict = {\n",
    "            image_batch: next_batch_dae(batch_size,x_train,y_train)[0]\n",
    "        }\n",
    "        result = sess.run(fetch_dict,feed_dict)\n",
    "        #print(\"sess end\")\n",
    "        if itr%100==0:\n",
    "            print(\"[{}/{}] Loss:{:.6f}\".format(itr,iterations,result[\"loss\"]))\n",
    "        if itr%1000==999:\n",
    "            save_path = saver.save(sess,model_dir+str(itr)+\".ckpt\",global_step = step_var)\n",
    "    batch_img,noise_img,recon_img,trrx,trx,latent_z,latent_xz = sess.run([batch_X,batch_crrX,batch_rx,rx,x,z,rx_z],feed_dict = {image_batch:x_test[:batch_size]})\n",
    "    #coord.request_stop()\n",
    "    #coord.join(threads)"
   ]
  },
  {
   "cell_type": "code",
   "execution_count": 17,
   "metadata": {},
   "outputs": [
    {
     "data": {
      "image/png": "[encoded data removed]",
      "text/plain": [
       "<matplotlib.figure.Figure at 0x7efc94239400>"
      ]
     },
     "metadata": {},
     "output_type": "display_data"
    },
    {
     "data": {
      "image/png": "[encoded data removed]",
      "text/plain": [
       "<matplotlib.figure.Figure at 0x7efc94239588>"
      ]
     },
     "metadata": {},
     "output_type": "display_data"
    }
   ],
   "source": [
    "#print(latent_z[0][latent_z[0]>0.5])\n",
    "plt.hist(latent_z[0])\n",
    "plt.hist(latent_xz[0])\n",
    "#plt.hist(recon_img[0])\n",
    "plt.show()\n",
    "#plt.hist(recon_img[0])\n",
    "plt.hist(trrx[0])\n",
    "plt.hist(trx[0])\n",
    "plt.show()"
   ]
  },
  {
   "cell_type": "code",
   "execution_count": 12,
   "metadata": {},
   "outputs": [
    {
     "data": {
      "image/png": "[encoded data removed]",
      "text/plain": [
       "<matplotlib.figure.Figure at 0x7efd05644940>"
      ]
     },
     "metadata": {},
     "output_type": "display_data"
    }
   ],
   "source": [
    "\"\"\"\n",
    "with tf.Session() as sess:\n",
    "    create_model()\n",
    "    latest = tf.train.latest_checkpoint(model_dir)\n",
    "    saver.restore(sess,latest)\n",
    "    noise_img,recon_img = sess.run([batch_crrX,batch_rx],feed_dict = {image_batch:x_test[:batch_size]})\n",
    "#encoded_imgs = encoder.predict(x_test)\n",
    "#decoded_imgs = autoencoder.predict(x_test)\n",
    "\"\"\"\n",
    "n=10\n",
    "plt.figure(figsize = (20,6))\n",
    "for i in range(n):\n",
    "    # Display Original\n",
    "    ax = plt.subplot(3,n,i+1)\n",
    "    plt.imshow(batch_img[i].reshape(28,28))\n",
    "    plt.gray()\n",
    "    ax.get_xaxis().set_visible(False)\n",
    "    ax .get_yaxis().set_visible(False)\n",
    "    \n",
    "    ax = plt.subplot(3,n,i+1+n)\n",
    "    plt.imshow(noise_img[i])\n",
    "    plt.gray()\n",
    "    ax.get_xaxis().set_visible(False)\n",
    "    ax .get_yaxis().set_visible(False)\n",
    "    \n",
    "    # Display Reconstruction\n",
    "    ax = plt.subplot(3,n,i+1+2*n)\n",
    "    plt.imshow(recon_img[i].reshape(28,28))\n",
    "    plt.gray()\n",
    "    ax.get_xaxis().set_visible(False)\n",
    "    ax.get_yaxis().set_visible(False)\n",
    "\n",
    "plt.show()"
   ]
  },
  {
   "cell_type": "code",
   "execution_count": null,
   "metadata": {},
   "outputs": [],
   "source": [
    "## Train the classifier\n",
    "#1. SVM\n",
    "#2. DNN\n",
    "def DNN_mnist(x):\n",
    "    "
   ]
  },
  {
   "cell_type": "code",
   "execution_count": 16,
   "metadata": {},
   "outputs": [],
   "source": [
    "#image_batch, label_batch = tf.train.shuffle_batch(\n",
    "#[X,y],\n",
    "#batch_size = 64,\n",
    "#num_threads = 4,\n",
    "#capacity = 5000,\n",
    "#enqueue_many=True,\n",
    "#min_after_dequeue = 100,name = 'training_data')\n",
    "#image_batch = tf.to_float(image_batch)\n",
    "#label_batch = tf.to_float(label_batch)\n",
    "def next_batch(datasets,batch_size):\n",
    "    if type(datasets)==list:\n",
    "        ndata = datasets[0].shape[0]\n",
    "        print(ndata)\n",
    "        #idx = list(range(ndata))\n",
    "        #idx = tf.random_shuffle(idx)\n",
    "        shf_image = tf.random_shuffle(datasets[0])\n",
    "        seed = tf.get_seed(idx)\n",
    "        shf_label = tf.random_shuffle(datasets[1],seed = seed)\n",
    "        return shf_image[:batch_size],shf_label[:batch_size]\n",
    "    else:\n",
    "        ndata = datasets.shape[0]\n",
    "        idx = list(np.range(ndata))\n",
    "        tf.random_shuffle(idx)\n",
    "        return datasets[idx][:batch_size]\n",
    "            "
   ]
  },
  {
   "cell_type": "code",
   "execution_count": 70,
   "metadata": {},
   "outputs": [
    {
     "name": "stdout",
     "output_type": "stream",
     "text": [
      "(87654321, 111)\n",
      "(87654321, <tf.Tensor 'mod_15:0' shape=(4,) dtype=int32>)\n",
      "[[ 1  2  3]\n",
      " [ 4  5  6]\n",
      " [ 7  8  9]\n",
      " [10 11 12]]\n",
      "[1 2 3 4]\n",
      "[[10 11 12]\n",
      " [ 1  2  3]\n",
      " [ 4  5  6]\n",
      " [ 7  8  9]]\n",
      "[4 1 2 3]\n",
      "[2 4 3 1]\n"
     ]
    }
   ],
   "source": [
    "X = tf.constant([[1,2,3],[4,5,6],[7,8,9],[10,11,12]])\n",
    "y = tf.constant([1,2,3,4])\n",
    "#datasets = tf.concat([X,tf.reshape(y,[-1,1])],axis=1)\n",
    "#seed = tf.random_uniform((1,),12345678)\n",
    "#print(seed)\n",
    "#shfT = tf.random_shuffle(datasets)\n",
    "#print(shfT)\n",
    "#print(shfy)\n",
    "shfX = tf.random_shuffle(X,seed=1)\n",
    "print(tf.get_seed(111))\n",
    "shfy = tf.random_shuffle(y,seed=1)\n",
    "print(tf.get_seed(shfy))\n",
    "#shfX = shfT[:,:-1]\n",
    "#shfy = shfT[:,-1]\n",
    "with tf.Session() as sess:\n",
    "    print(sess.run(X))\n",
    "    print(sess.run(y))\n",
    "    #print(sess.run(datasets))\n",
    "    #print(sess.run(shfT))\n",
    "    print(sess.run(shfX))\n",
    "    print(sess.run(shfy))\n",
    "    print(sess.run(tf.get_seed(shfy)[1]))"
   ]
  }
 ],
 "metadata": {
  "kernelspec": {
   "display_name": "Python keras36",
   "language": "python",
   "name": "keras36"
  },
  "language_info": {
   "codemirror_mode": {
    "name": "ipython",
    "version": 3
   },
   "file_extension": ".py",
   "mimetype": "text/x-python",
   "name": "python",
   "nbconvert_exporter": "python",
   "pygments_lexer": "ipython3",
   "version": "3.6.2"
  }
 },
 "nbformat": 4,
 "nbformat_minor": 2
}
