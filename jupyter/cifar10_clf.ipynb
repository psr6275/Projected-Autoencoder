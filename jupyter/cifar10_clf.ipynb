{
 "cells": [
  {
   "cell_type": "code",
   "execution_count": 2,
   "metadata": {},
   "outputs": [
    {
     "name": "stderr",
     "output_type": "stream",
     "text": [
      "Using TensorFlow backend.\n",
      "/home/slcf/.pyenv/versions/3.6.2/lib/python3.6/importlib/_bootstrap.py:205: RuntimeWarning: compiletime version 3.5 of module 'tensorflow.python.framework.fast_tensor_util' does not match runtime version 3.6\n",
      "  return f(*args, **kwds)\n"
     ]
    }
   ],
   "source": [
    "from keras.layers import Input, Dense,Dropout, Flatten,Lambda\n",
    "from keras.models import Model,Sequential\n",
    "from sklearn.model_selection import train_test_split as tts\n",
    "from keras.callbacks import TensorBoard\n",
    "import matplotlib.pyplot as plt\n",
    "from keras.utils import np_utils,plot_model\n",
    "from keras.layers.convolutional import Convolution2D,MaxPooling2D,Conv2D\n",
    "from keras import backend as K\n",
    "from keras.losses import categorical_hinge,categorical_crossentropy\n",
    "import tensorflow as tf\n",
    "#from tensorflow.layers import flatten,batch_normialization as batch_norm"
   ]
  },
  {
   "cell_type": "markdown",
   "metadata": {},
   "source": [
    "## load data"
   ]
  },
  {
   "cell_type": "code",
   "execution_count": 3,
   "metadata": {},
   "outputs": [],
   "source": [
    "from keras.datasets import cifar10\n",
    "(x_train,y_train),(x_test,y_test) = cifar10.load_data()"
   ]
  },
  {
   "cell_type": "code",
   "execution_count": 4,
   "metadata": {},
   "outputs": [],
   "source": [
    "x_train = x_train.astype('float32')/255.0\n",
    "x_test = x_test.astype('float32')/255.0\n",
    "Y_train = np_utils.to_categorical(y_train)\n",
    "Y_test = np_utils.to_categorical(y_test)"
   ]
  },
  {
   "cell_type": "code",
   "execution_count": 5,
   "metadata": {},
   "outputs": [
    {
     "name": "stdout",
     "output_type": "stream",
     "text": [
      "(50000, 32, 32, 3)\n"
     ]
    }
   ],
   "source": [
    "print(x_train.shape)"
   ]
  },
  {
   "cell_type": "code",
   "execution_count": 6,
   "metadata": {},
   "outputs": [],
   "source": [
    "Xtr,Xval,Ytr,Yval = tts(x_train,Y_train,test_size = 0.3)"
   ]
  },
  {
   "cell_type": "markdown",
   "metadata": {},
   "source": [
    "## import defined modules"
   ]
  },
  {
   "cell_type": "code",
   "execution_count": 7,
   "metadata": {},
   "outputs": [],
   "source": [
    "import sys\n",
    "sys.path.append('../')\n",
    "from cifar_clf import *"
   ]
  },
  {
   "cell_type": "code",
   "execution_count": 8,
   "metadata": {},
   "outputs": [],
   "source": [
    "cifar_cnn = Cifar10_CNN(x_train,Y_train,num_batch=128,num_epoch=50)"
   ]
  },
  {
   "cell_type": "code",
   "execution_count": 9,
   "metadata": {},
   "outputs": [
    {
     "name": "stdout",
     "output_type": "stream",
     "text": [
      "(35000, 32, 32, 3)\n"
     ]
    }
   ],
   "source": [
    "print(Xtr.shape)"
   ]
  },
  {
   "cell_type": "code",
   "execution_count": 9,
   "metadata": {},
   "outputs": [],
   "source": [
    "#len(cifar_cnn.batch_gen.get_batch())"
   ]
  },
  {
   "cell_type": "markdown",
   "metadata": {},
   "source": [
    "### train classifer"
   ]
  },
  {
   "cell_type": "code",
   "execution_count": 10,
   "metadata": {},
   "outputs": [
    {
     "name": "stdout",
     "output_type": "stream",
     "text": [
      "[0/5850] Loss: 2.293907 Train_Acc: 0.1016 Val_Acc: 0.0859\n",
      "[500/5850] Loss: 1.014488 Train_Acc: 0.6875 Val_Acc: 0.5156\n",
      "[1000/5850] Loss: 0.573174 Train_Acc: 0.8672 Val_Acc: 0.6797\n",
      "[1500/5850] Loss: 0.171821 Train_Acc: 0.9766 Val_Acc: 0.7031\n",
      "[2000/5850] Loss: 0.078398 Train_Acc: 1.0000 Val_Acc: 0.7266\n",
      "[2500/5850] Loss: 0.029662 Train_Acc: 1.0000 Val_Acc: 0.6797\n",
      "[3000/5850] Loss: 0.013135 Train_Acc: 1.0000 Val_Acc: 0.7422\n",
      "[3500/5850] Loss: 0.108333 Train_Acc: 1.0000 Val_Acc: 0.7109\n",
      "[4000/5850] Loss: 0.008974 Train_Acc: 1.0000 Val_Acc: 0.6562\n",
      "[4500/5850] Loss: 0.133048 Train_Acc: 0.9844 Val_Acc: 0.6641\n",
      "[5000/5850] Loss: 0.048985 Train_Acc: 1.0000 Val_Acc: 0.6641\n",
      "[5500/5850] Loss: 0.029000 Train_Acc: 1.0000 Val_Acc: 0.7188\n",
      "saved path:  ../logs/cifar_CNN_clf.ckpt\n"
     ]
    }
   ],
   "source": [
    "cifar_cnn.train(\"cifar_CNN_clf.ckpt\")"
   ]
  },
  {
   "cell_type": "code",
   "execution_count": 11,
   "metadata": {},
   "outputs": [
    {
     "data": {
      "text/plain": [
       "0.60036057692307687"
      ]
     },
     "execution_count": 11,
     "metadata": {},
     "output_type": "execute_result"
    }
   ],
   "source": [
    "cifar_cnn.accuracy_score(x_test,Y_test)"
   ]
  },
  {
   "cell_type": "markdown",
   "metadata": {},
   "source": [
    "# PGD targeted attacks"
   ]
  },
  {
   "cell_type": "code",
   "execution_count": 12,
   "metadata": {},
   "outputs": [
    {
     "name": "stdout",
     "output_type": "stream",
     "text": [
      "[0/10000] processed\n",
      "[100/10000] processed\n",
      "[200/10000] processed\n",
      "[300/10000] processed\n",
      "[400/10000] processed\n",
      "[500/10000] processed\n",
      "[600/10000] processed\n",
      "[700/10000] processed\n",
      "[800/10000] processed\n",
      "[900/10000] processed\n",
      "[1000/10000] processed\n",
      "[1100/10000] processed\n",
      "[1200/10000] processed\n",
      "[1300/10000] processed\n",
      "[1400/10000] processed\n",
      "[1500/10000] processed\n",
      "[1600/10000] processed\n",
      "[1700/10000] processed\n",
      "[1800/10000] processed\n",
      "[1900/10000] processed\n",
      "[2000/10000] processed\n",
      "[2100/10000] processed\n",
      "[2200/10000] processed\n",
      "[2300/10000] processed\n",
      "[2400/10000] processed\n",
      "[2500/10000] processed\n",
      "[2600/10000] processed\n",
      "[2700/10000] processed\n",
      "[2800/10000] processed\n",
      "[2900/10000] processed\n",
      "[3000/10000] processed\n",
      "[3100/10000] processed\n",
      "[3200/10000] processed\n",
      "[3300/10000] processed\n",
      "[3400/10000] processed\n",
      "[3500/10000] processed\n",
      "[3600/10000] processed\n",
      "[3700/10000] processed\n",
      "[3800/10000] processed\n",
      "[3900/10000] processed\n",
      "[4000/10000] processed\n",
      "[4100/10000] processed\n",
      "[4200/10000] processed\n",
      "[4300/10000] processed\n",
      "[4400/10000] processed\n",
      "[4500/10000] processed\n",
      "[4600/10000] processed\n",
      "[4700/10000] processed\n",
      "[4800/10000] processed\n",
      "[4900/10000] processed\n",
      "[5000/10000] processed\n",
      "[5100/10000] processed\n",
      "[5200/10000] processed\n",
      "[5300/10000] processed\n",
      "[5400/10000] processed\n",
      "[5500/10000] processed\n",
      "[5600/10000] processed\n",
      "[5700/10000] processed\n",
      "[5800/10000] processed\n",
      "[5900/10000] processed\n",
      "[6000/10000] processed\n",
      "[6100/10000] processed\n",
      "[6200/10000] processed\n",
      "[6300/10000] processed\n",
      "[6400/10000] processed\n",
      "[6500/10000] processed\n",
      "[6600/10000] processed\n",
      "[6700/10000] processed\n",
      "[6800/10000] processed\n",
      "[6900/10000] processed\n",
      "[7000/10000] processed\n",
      "[7100/10000] processed\n",
      "[7200/10000] processed\n",
      "[7300/10000] processed\n",
      "[7400/10000] processed\n",
      "[7500/10000] processed\n",
      "[7600/10000] processed\n",
      "[7700/10000] processed\n",
      "[7800/10000] processed\n",
      "[7900/10000] processed\n",
      "[8000/10000] processed\n",
      "[8100/10000] processed\n",
      "[8200/10000] processed\n",
      "[8300/10000] processed\n",
      "[8400/10000] processed\n",
      "[8500/10000] processed\n",
      "[8600/10000] processed\n",
      "[8700/10000] processed\n",
      "[8800/10000] processed\n",
      "[8900/10000] processed\n",
      "[9000/10000] processed\n",
      "[9100/10000] processed\n",
      "[9200/10000] processed\n",
      "[9300/10000] processed\n",
      "[9400/10000] processed\n",
      "[9500/10000] processed\n",
      "[9600/10000] processed\n",
      "[9700/10000] processed\n",
      "[9800/10000] processed\n",
      "[9900/10000] processed\n"
     ]
    }
   ],
   "source": [
    "cifar_cnn.targeted_attack(x_test,Y_test,file_name = 'cifar10_adv')"
   ]
  },
  {
   "cell_type": "code",
   "execution_count": null,
   "metadata": {},
   "outputs": [],
   "source": []
  }
 ],
 "metadata": {
  "kernelspec": {
   "display_name": "Python keras36",
   "language": "python",
   "name": "keras36"
  }
 },
 "nbformat": 4,
 "nbformat_minor": 2
}
